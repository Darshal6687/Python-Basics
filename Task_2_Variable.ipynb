{
 "cells": [
  {
   "cell_type": "markdown",
   "id": "98463048-e61f-41ab-9d44-6df9773ca1b8",
   "metadata": {},
   "source": [
    "Varible_name = value"
   ]
  },
  {
   "cell_type": "code",
   "execution_count": 3,
   "id": "86042c6c-51d3-41c3-94be-b501fd4bc557",
   "metadata": {},
   "outputs": [
    {
     "name": "stdout",
     "output_type": "stream",
     "text": [
      "25\n"
     ]
    }
   ],
   "source": [
    "# EX-1 Integer Variable\n",
    "age = 25\n",
    "print(age)"
   ]
  },
  {
   "cell_type": "code",
   "execution_count": 5,
   "id": "1343c4ec-9a2e-4171-8ae3-db37605e873a",
   "metadata": {},
   "outputs": [
    {
     "name": "stdout",
     "output_type": "stream",
     "text": [
      "Alice\n"
     ]
    }
   ],
   "source": [
    "# Ex-2 String Variable\n",
    "name = 'Alice'\n",
    "print(name)"
   ]
  },
  {
   "cell_type": "code",
   "execution_count": 7,
   "id": "21dc995e-822a-4f3a-9257-87f60efde03d",
   "metadata": {},
   "outputs": [
    {
     "name": "stdout",
     "output_type": "stream",
     "text": [
      "10.89\n"
     ]
    }
   ],
   "source": [
    "# Ex-3 Float variable \n",
    "price = 10.89\n",
    "print(price)"
   ]
  },
  {
   "cell_type": "code",
   "execution_count": 9,
   "id": "e9395ffe-d605-44fe-a669-05f5de8ffa1d",
   "metadata": {},
   "outputs": [
    {
     "name": "stdout",
     "output_type": "stream",
     "text": [
      "True\n"
     ]
    }
   ],
   "source": [
    "# Ex- Boolean variable \n",
    "is_active = True\n",
    "print(is_active)\n"
   ]
  },
  {
   "cell_type": "markdown",
   "id": "b9fd7167-879c-4802-b033-62c9f57e94d7",
   "metadata": {},
   "source": [
    "1.Storing & Printing value"
   ]
  },
  {
   "cell_type": "code",
   "execution_count": 20,
   "id": "a8da3f05-eef4-464b-adcc-7d837fa2a329",
   "metadata": {},
   "outputs": [
    {
     "name": "stdout",
     "output_type": "stream",
     "text": [
      "10\n"
     ]
    }
   ],
   "source": [
    "x = 10 \n",
    "print(x)"
   ]
  },
  {
   "cell_type": "markdown",
   "id": "2bc220eb-8ca8-408c-8004-c811203677d1",
   "metadata": {},
   "source": [
    "2.Using variables in expressions"
   ]
  },
  {
   "cell_type": "code",
   "execution_count": 13,
   "id": "48403306-870b-416e-80fe-c972f3d5dfcb",
   "metadata": {},
   "outputs": [
    {
     "name": "stdout",
     "output_type": "stream",
     "text": [
      "8\n"
     ]
    }
   ],
   "source": [
    "a=5\n",
    "b=3\n",
    "result = a+ b\n",
    "print(result)"
   ]
  },
  {
   "cell_type": "markdown",
   "id": "47cdd922-4d8f-40a8-b173-5446a876d9a4",
   "metadata": {},
   "source": [
    "3.Changing value of a variable "
   ]
  },
  {
   "cell_type": "code",
   "execution_count": 18,
   "id": "8dfec8d6-e277-49f6-bf63-84bf7484be8f",
   "metadata": {},
   "outputs": [
    {
     "name": "stdout",
     "output_type": "stream",
     "text": [
      "50\n",
      "20\n"
     ]
    }
   ],
   "source": [
    "score = 50 \n",
    "print(score)\n",
    "\n",
    "score = 20 \n",
    "print(score)"
   ]
  },
  {
   "cell_type": "markdown",
   "id": "522cccd4-9965-481c-be96-506683702005",
   "metadata": {},
   "source": [
    "4.Concatenate Strings\n"
   ]
  },
  {
   "cell_type": "code",
   "execution_count": 22,
   "id": "429535c9-8ea3-4c05-a2ac-3c4946e8b537",
   "metadata": {},
   "outputs": [
    {
     "name": "stdout",
     "output_type": "stream",
     "text": [
      "John Doe\n"
     ]
    }
   ],
   "source": [
    "first_name = 'John'\n",
    "last_name  = 'Doe'\n",
    "\n",
    "full_name = first_name + \" \" + last_name\n",
    "print(full_name)"
   ]
  },
  {
   "cell_type": "markdown",
   "id": "304d94ff-18b2-47ca-9905-69775b4d2179",
   "metadata": {},
   "source": [
    "5. using Variables in Calculation"
   ]
  },
  {
   "cell_type": "code",
   "execution_count": 29,
   "id": "bdeb61dc-4c32-4388-b793-45881b218ec9",
   "metadata": {},
   "outputs": [
    {
     "name": "stdout",
     "output_type": "stream",
     "text": [
      "50\n"
     ]
    }
   ],
   "source": [
    "length = 5 \n",
    "width = 10 \n",
    "\n",
    "#area of rectangle \n",
    "\n",
    "area = length * width\n",
    "print(area)"
   ]
  },
  {
   "cell_type": "markdown",
   "id": "4b255112-0b2b-42f9-8b54-69246928b3fa",
   "metadata": {},
   "source": [
    "Reassigning Value to Variables "
   ]
  },
  {
   "cell_type": "code",
   "execution_count": 31,
   "id": "b9e6f208-6fa8-4941-8239-77667deef464",
   "metadata": {},
   "outputs": [
    {
     "name": "stdout",
     "output_type": "stream",
     "text": [
      "10\n"
     ]
    }
   ],
   "source": [
    "x = 10\n",
    "print(x)\n"
   ]
  },
  {
   "cell_type": "code",
   "execution_count": 33,
   "id": "f14fbfa9-fe95-4a43-b668-71f2f1944da5",
   "metadata": {},
   "outputs": [
    {
     "name": "stdout",
     "output_type": "stream",
     "text": [
      "20\n"
     ]
    }
   ],
   "source": [
    "x = 20 \n",
    "print(x)"
   ]
  },
  {
   "cell_type": "code",
   "execution_count": null,
   "id": "ab337a23-18be-4f93-aa3d-2e99950223fc",
   "metadata": {},
   "outputs": [],
   "source": []
  }
 ],
 "metadata": {
  "kernelspec": {
   "display_name": "Python [conda env:base] *",
   "language": "python",
   "name": "conda-base-py"
  },
  "language_info": {
   "codemirror_mode": {
    "name": "ipython",
    "version": 3
   },
   "file_extension": ".py",
   "mimetype": "text/x-python",
   "name": "python",
   "nbconvert_exporter": "python",
   "pygments_lexer": "ipython3",
   "version": "3.12.7"
  }
 },
 "nbformat": 4,
 "nbformat_minor": 5
}
