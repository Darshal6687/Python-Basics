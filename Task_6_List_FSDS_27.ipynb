{
 "cells": [
  {
   "cell_type": "markdown",
   "id": "fa228c3a-631f-49eb-bf70-9e5dfe6232ab",
   "metadata": {},
   "source": [
    "# 27/01/2025"
   ]
  },
  {
   "cell_type": "markdown",
   "id": "db87338e-ccd8-4d31-8718-ea5e6c1271ab",
   "metadata": {},
   "source": [
    "List Data Structure"
   ]
  },
  {
   "cell_type": "code",
   "execution_count": 1,
   "id": "2e11d4b5-31f7-41af-a6d7-e0f8bfbcf67f",
   "metadata": {},
   "outputs": [
    {
     "data": {
      "text/plain": [
       "[]"
      ]
     },
     "execution_count": 1,
     "metadata": {},
     "output_type": "execute_result"
    }
   ],
   "source": [
    "l = []\n",
    "l"
   ]
  },
  {
   "cell_type": "code",
   "execution_count": 3,
   "id": "e4b99b98-6c33-4d39-b3bb-fb63915a0d9e",
   "metadata": {},
   "outputs": [
    {
     "data": {
      "text/plain": [
       "0"
      ]
     },
     "execution_count": 3,
     "metadata": {},
     "output_type": "execute_result"
    }
   ],
   "source": [
    "len(l)"
   ]
  },
  {
   "cell_type": "code",
   "execution_count": 5,
   "id": "b84b4699-9ffe-4476-aed3-7cfcfb36e71e",
   "metadata": {},
   "outputs": [
    {
     "data": {
      "text/plain": [
       "list"
      ]
     },
     "execution_count": 5,
     "metadata": {},
     "output_type": "execute_result"
    }
   ],
   "source": [
    "type(l)"
   ]
  },
  {
   "cell_type": "code",
   "execution_count": 7,
   "id": "f7626af0-6089-40c4-8fd4-edd06aa973d8",
   "metadata": {},
   "outputs": [],
   "source": [
    "l.append(10)"
   ]
  },
  {
   "cell_type": "code",
   "execution_count": 9,
   "id": "b952d06c-f93e-4dd4-90d4-46afffba8a17",
   "metadata": {},
   "outputs": [
    {
     "data": {
      "text/plain": [
       "[10]"
      ]
     },
     "execution_count": 9,
     "metadata": {},
     "output_type": "execute_result"
    }
   ],
   "source": [
    "l"
   ]
  },
  {
   "cell_type": "code",
   "execution_count": 11,
   "id": "63c9cfc2-bfcb-4392-a5aa-a50a6b3996fe",
   "metadata": {},
   "outputs": [
    {
     "data": {
      "text/plain": [
       "1"
      ]
     },
     "execution_count": 11,
     "metadata": {},
     "output_type": "execute_result"
    }
   ],
   "source": [
    "len(l)"
   ]
  },
  {
   "cell_type": "code",
   "execution_count": 21,
   "id": "76ad7438-d4ee-40d4-a150-5269736ed46b",
   "metadata": {},
   "outputs": [
    {
     "ename": "TypeError",
     "evalue": "list.append() takes exactly one argument (2 given)",
     "output_type": "error",
     "traceback": [
      "\u001b[1;31m---------------------------------------------------------------------------\u001b[0m",
      "\u001b[1;31mTypeError\u001b[0m                                 Traceback (most recent call last)",
      "Cell \u001b[1;32mIn[21], line 1\u001b[0m\n\u001b[1;32m----> 1\u001b[0m l\u001b[38;5;241m.\u001b[39mappend(\u001b[38;5;241m10\u001b[39m,\u001b[38;5;241m20\u001b[39m)\n",
      "\u001b[1;31mTypeError\u001b[0m: list.append() takes exactly one argument (2 given)"
     ]
    }
   ],
   "source": [
    "l.append(10,20)"
   ]
  },
  {
   "cell_type": "code",
   "execution_count": 23,
   "id": "b802dea7-eb7e-43da-92f9-7b4cb679c9bf",
   "metadata": {},
   "outputs": [],
   "source": [
    "l.append(20)\n",
    "l.append(30)\n",
    "l.append(40)"
   ]
  },
  {
   "cell_type": "code",
   "execution_count": 29,
   "id": "bf7c14d5-25b9-4837-834a-f09cbd2ede92",
   "metadata": {},
   "outputs": [],
   "source": [
    "l1 = []"
   ]
  },
  {
   "cell_type": "code",
   "execution_count": 33,
   "id": "627fe789-56b5-4d76-b0ee-2dfbcc74e8c4",
   "metadata": {},
   "outputs": [],
   "source": [
    "l1.append(10)\n",
    "l1.append(2.4)\n",
    "l1.append(True)\n",
    "l1.append('1+2j')\n",
    "l1.append([1,2,3])\n"
   ]
  },
  {
   "cell_type": "code",
   "execution_count": 49,
   "id": "ac42af30-c909-4de0-9e30-78bb5d6a28d6",
   "metadata": {},
   "outputs": [
    {
     "name": "stdout",
     "output_type": "stream",
     "text": [
      "[10, 10, 2.4, True, '1+2j', [1, 2, 3]]\n",
      "[10, 20, 30, 40, 20, 30, 40]\n"
     ]
    }
   ],
   "source": [
    "print(l1)\n",
    "print(l)"
   ]
  },
  {
   "cell_type": "code",
   "execution_count": 41,
   "id": "8037560b-53fc-47dc-b977-3acf2e0f9ce8",
   "metadata": {},
   "outputs": [
    {
     "name": "stdout",
     "output_type": "stream",
     "text": [
      "2227757858752\n"
     ]
    }
   ],
   "source": [
    "print(id(l))"
   ]
  },
  {
   "cell_type": "code",
   "execution_count": 43,
   "id": "d981a0cf-5873-4cf3-a86b-11349c0b3c32",
   "metadata": {},
   "outputs": [
    {
     "name": "stdout",
     "output_type": "stream",
     "text": [
      "7\n",
      "6\n"
     ]
    }
   ],
   "source": [
    "print(len(l))\n",
    "print(len(l1))"
   ]
  },
  {
   "cell_type": "code",
   "execution_count": 45,
   "id": "cc78d29d-0971-4f8d-abc5-f4777773268e",
   "metadata": {},
   "outputs": [
    {
     "data": {
      "text/plain": [
       "[10, 10, 2.4, True, '1+2j', [1, 2, 3]]"
      ]
     },
     "execution_count": 45,
     "metadata": {},
     "output_type": "execute_result"
    }
   ],
   "source": [
    "l2 = l1.copy()\n",
    "l2"
   ]
  },
  {
   "cell_type": "code",
   "execution_count": 47,
   "id": "b535fe0d-ad6d-4af9-8a5b-5bfa3fdfb6fb",
   "metadata": {},
   "outputs": [
    {
     "data": {
      "text/plain": [
       "True"
      ]
     },
     "execution_count": 47,
     "metadata": {},
     "output_type": "execute_result"
    }
   ],
   "source": [
    "l1 == l2"
   ]
  },
  {
   "cell_type": "code",
   "execution_count": 51,
   "id": "02a28b56-ac5a-4fde-a0d3-c36dca93a371",
   "metadata": {},
   "outputs": [
    {
     "data": {
      "text/plain": [
       "False"
      ]
     },
     "execution_count": 51,
     "metadata": {},
     "output_type": "execute_result"
    }
   ],
   "source": [
    "l == l2"
   ]
  },
  {
   "cell_type": "code",
   "execution_count": 53,
   "id": "116b007b-90c6-4ff7-83c1-9a51999f8e05",
   "metadata": {},
   "outputs": [
    {
     "data": {
      "text/plain": [
       "True"
      ]
     },
     "execution_count": 53,
     "metadata": {},
     "output_type": "execute_result"
    }
   ],
   "source": [
    "l != l2"
   ]
  },
  {
   "cell_type": "code",
   "execution_count": 55,
   "id": "44f3f207-6bdb-461a-82ad-916b9aa53a8b",
   "metadata": {},
   "outputs": [
    {
     "ename": "TypeError",
     "evalue": "list.remove() takes exactly one argument (0 given)",
     "output_type": "error",
     "traceback": [
      "\u001b[1;31m---------------------------------------------------------------------------\u001b[0m",
      "\u001b[1;31mTypeError\u001b[0m                                 Traceback (most recent call last)",
      "Cell \u001b[1;32mIn[55], line 1\u001b[0m\n\u001b[1;32m----> 1\u001b[0m l\u001b[38;5;241m.\u001b[39mremove()\n",
      "\u001b[1;31mTypeError\u001b[0m: list.remove() takes exactly one argument (0 given)"
     ]
    }
   ],
   "source": [
    "l.remove()"
   ]
  },
  {
   "cell_type": "code",
   "execution_count": 57,
   "id": "9fbe3ae6-fa61-4e1b-94c9-907e7d81da4c",
   "metadata": {},
   "outputs": [
    {
     "data": {
      "text/plain": [
       "[10, 20, 30, 40, 20, 30, 40]"
      ]
     },
     "execution_count": 57,
     "metadata": {},
     "output_type": "execute_result"
    }
   ],
   "source": [
    "l"
   ]
  },
  {
   "cell_type": "code",
   "execution_count": 59,
   "id": "a8af0970-fc09-48fc-ac6c-bd27e468870b",
   "metadata": {},
   "outputs": [
    {
     "ename": "ValueError",
     "evalue": "list.remove(x): x not in list",
     "output_type": "error",
     "traceback": [
      "\u001b[1;31m---------------------------------------------------------------------------\u001b[0m",
      "\u001b[1;31mValueError\u001b[0m                                Traceback (most recent call last)",
      "Cell \u001b[1;32mIn[59], line 1\u001b[0m\n\u001b[1;32m----> 1\u001b[0m l\u001b[38;5;241m.\u001b[39mremove(\u001b[38;5;241m1000\u001b[39m)\n",
      "\u001b[1;31mValueError\u001b[0m: list.remove(x): x not in list"
     ]
    }
   ],
   "source": [
    "l.remove(1000)"
   ]
  },
  {
   "cell_type": "code",
   "execution_count": 61,
   "id": "004a7539-af54-4f42-99cc-9f70d420fe43",
   "metadata": {},
   "outputs": [],
   "source": [
    "l.remove(10)"
   ]
  },
  {
   "cell_type": "markdown",
   "id": "52ba8b7e-70b0-460a-8c76-9a1761989882",
   "metadata": {},
   "source": [
    "# List Indexing & slicing "
   ]
  },
  {
   "cell_type": "code",
   "execution_count": 65,
   "id": "36c159ae-e85a-4642-8cbe-9a1f26797626",
   "metadata": {},
   "outputs": [
    {
     "data": {
      "text/plain": [
       "'nareshit'"
      ]
     },
     "execution_count": 65,
     "metadata": {},
     "output_type": "execute_result"
    }
   ],
   "source": [
    "s7 = 'nareshit'\n",
    "s7"
   ]
  },
  {
   "cell_type": "code",
   "execution_count": 67,
   "id": "7e01de08-7342-43ae-b0cd-409f3cdb09fa",
   "metadata": {},
   "outputs": [
    {
     "data": {
      "text/plain": [
       "'n'"
      ]
     },
     "execution_count": 67,
     "metadata": {},
     "output_type": "execute_result"
    }
   ],
   "source": [
    "s7[0]"
   ]
  },
  {
   "cell_type": "code",
   "execution_count": 69,
   "id": "853d65fd-9452-4de5-9381-cff77b38e877",
   "metadata": {},
   "outputs": [
    {
     "data": {
      "text/plain": [
       "'t'"
      ]
     },
     "execution_count": 69,
     "metadata": {},
     "output_type": "execute_result"
    }
   ],
   "source": [
    "s7[-1]"
   ]
  },
  {
   "cell_type": "code",
   "execution_count": 63,
   "id": "b358cc73-db39-4001-a85c-15558428ba3a",
   "metadata": {},
   "outputs": [
    {
     "data": {
      "text/plain": [
       "[20, 30, 40, 20, 30, 40]"
      ]
     },
     "execution_count": 63,
     "metadata": {},
     "output_type": "execute_result"
    }
   ],
   "source": [
    "l"
   ]
  },
  {
   "cell_type": "code",
   "execution_count": null,
   "id": "d7a5cb2d-7ddb-4d3d-a645-f275e2639901",
   "metadata": {},
   "outputs": [],
   "source": []
  },
  {
   "cell_type": "markdown",
   "id": "a971d91c-ea9c-4297-af41-90e6e393ef38",
   "metadata": {},
   "source": [
    "# List Indexing & slicing "
   ]
  },
  {
   "cell_type": "markdown",
   "id": "590ea6df-1f1f-43c3-9073-1b4a2048c4cc",
   "metadata": {},
   "source": [
    "slicing[:]"
   ]
  },
  {
   "cell_type": "markdown",
   "id": "10cff0cc-ff11-4498-82b2-e89dccb39c43",
   "metadata": {},
   "source": [
    "slicing[:]"
   ]
  },
  {
   "cell_type": "code",
   "execution_count": 71,
   "id": "d25b08bf-4744-4497-9183-7758ff313bcd",
   "metadata": {},
   "outputs": [
    {
     "ename": "SyntaxError",
     "evalue": "invalid syntax (1595083899.py, line 1)",
     "output_type": "error",
     "traceback": [
      "\u001b[1;36m  Cell \u001b[1;32mIn[71], line 1\u001b[1;36m\u001b[0m\n\u001b[1;33m    s =\u001b[0m\n\u001b[1;37m        ^\u001b[0m\n\u001b[1;31mSyntaxError\u001b[0m\u001b[1;31m:\u001b[0m invalid syntax\n"
     ]
    }
   ],
   "source": [
    "s = "
   ]
  },
  {
   "cell_type": "code",
   "execution_count": 73,
   "id": "2f278401-9832-4df8-84aa-505ad1815bc2",
   "metadata": {},
   "outputs": [
    {
     "data": {
      "text/plain": [
       "'abcdefghi'"
      ]
     },
     "execution_count": 73,
     "metadata": {},
     "output_type": "execute_result"
    }
   ],
   "source": [
    "s8 = 'abcdefghi'\n",
    "s8"
   ]
  },
  {
   "cell_type": "code",
   "execution_count": 75,
   "id": "d4c61d27-c504-4e53-8800-e402e63c63df",
   "metadata": {},
   "outputs": [
    {
     "data": {
      "text/plain": [
       "'abcdefghi'"
      ]
     },
     "execution_count": 75,
     "metadata": {},
     "output_type": "execute_result"
    }
   ],
   "source": [
    "s8[0:9]"
   ]
  },
  {
   "cell_type": "code",
   "execution_count": 77,
   "id": "c15e64be-fff8-4075-a25e-fadc9a9c6160",
   "metadata": {},
   "outputs": [
    {
     "data": {
      "text/plain": [
       "'bcdefgh'"
      ]
     },
     "execution_count": 77,
     "metadata": {},
     "output_type": "execute_result"
    }
   ],
   "source": [
    "s8[1:8]"
   ]
  },
  {
   "cell_type": "code",
   "execution_count": 80,
   "id": "db34bd91-c5fd-4f18-82eb-61f3b736811c",
   "metadata": {},
   "outputs": [
    {
     "data": {
      "text/plain": [
       "'bcdef'"
      ]
     },
     "execution_count": 80,
     "metadata": {},
     "output_type": "execute_result"
    }
   ],
   "source": [
    "s8[1 : -3]"
   ]
  },
  {
   "cell_type": "code",
   "execution_count": 82,
   "id": "760e7fc6-0a74-43e0-bbe4-2a1b8cc951cd",
   "metadata": {},
   "outputs": [
    {
     "data": {
      "text/plain": [
       "'bcde'"
      ]
     },
     "execution_count": 82,
     "metadata": {},
     "output_type": "execute_result"
    }
   ],
   "source": [
    "s8[1 : -4]"
   ]
  },
  {
   "cell_type": "code",
   "execution_count": 84,
   "id": "6c5c2137-0732-495c-887b-19f0bba1db7f",
   "metadata": {},
   "outputs": [
    {
     "data": {
      "text/plain": [
       "[1, 2, 3, 4, 5, 6, 7, 8, 9, 10]"
      ]
     },
     "execution_count": 84,
     "metadata": {},
     "output_type": "execute_result"
    }
   ],
   "source": [
    "step_indexing = [1,2,3,4,5,6,7,8,9,10]\n",
    "step_indexing"
   ]
  },
  {
   "cell_type": "code",
   "execution_count": 86,
   "id": "debd6972-6a97-49a0-ad25-07e96a04427e",
   "metadata": {},
   "outputs": [
    {
     "data": {
      "text/plain": [
       "[1, 5, 9]"
      ]
     },
     "execution_count": 86,
     "metadata": {},
     "output_type": "execute_result"
    }
   ],
   "source": [
    "step_indexing[0:10:4]"
   ]
  },
  {
   "cell_type": "code",
   "execution_count": 88,
   "id": "2b789d57-c97f-4c6a-ade7-9e0ceff5b976",
   "metadata": {},
   "outputs": [
    {
     "data": {
      "text/plain": [
       "[1, 6]"
      ]
     },
     "execution_count": 88,
     "metadata": {},
     "output_type": "execute_result"
    }
   ],
   "source": [
    "step_indexing[0:10:5]"
   ]
  },
  {
   "cell_type": "code",
   "execution_count": 91,
   "id": "a8dec42a-2355-4e98-80c6-9b38cdf8f45f",
   "metadata": {},
   "outputs": [
    {
     "data": {
      "text/plain": [
       "[1, 2, 3, 4, 5, 6, 7, 8, 9, 10]"
      ]
     },
     "execution_count": 91,
     "metadata": {},
     "output_type": "execute_result"
    }
   ],
   "source": [
    "step_indexing[:]"
   ]
  },
  {
   "cell_type": "code",
   "execution_count": 102,
   "id": "c9cdb8eb-0c6a-4b93-a67e-d7b19d155757",
   "metadata": {},
   "outputs": [
    {
     "name": "stdout",
     "output_type": "stream",
     "text": [
      "None\n"
     ]
    }
   ],
   "source": [
    "a = step_indexing.reverse()\n",
    "print(a)"
   ]
  },
  {
   "cell_type": "code",
   "execution_count": 104,
   "id": "95ba0aad-d338-48e9-92ef-66d0dd9834c7",
   "metadata": {},
   "outputs": [
    {
     "data": {
      "text/plain": [
       "[20, 30, 40, 20, 30, 40]"
      ]
     },
     "execution_count": 104,
     "metadata": {},
     "output_type": "execute_result"
    }
   ],
   "source": [
    "l"
   ]
  },
  {
   "cell_type": "code",
   "execution_count": 112,
   "id": "3c7d1a53-82f5-4aa1-be5f-63ac652ec23c",
   "metadata": {},
   "outputs": [
    {
     "name": "stdout",
     "output_type": "stream",
     "text": [
      "None\n"
     ]
    }
   ],
   "source": [
    "l5 = l.reverse()\n",
    "print(l5)"
   ]
  },
  {
   "cell_type": "code",
   "execution_count": 114,
   "id": "ebd2293c-1afd-4303-aa4b-f9f29a16caa4",
   "metadata": {},
   "outputs": [
    {
     "data": {
      "text/plain": [
       "[40, 30, 20, 40, 30, 20]"
      ]
     },
     "execution_count": 114,
     "metadata": {},
     "output_type": "execute_result"
    }
   ],
   "source": [
    "l"
   ]
  },
  {
   "cell_type": "code",
   "execution_count": null,
   "id": "4eb35f66-ddb7-4ff8-b5a0-acd0d493b788",
   "metadata": {},
   "outputs": [],
   "source": []
  }
 ],
 "metadata": {
  "kernelspec": {
   "display_name": "Python [conda env:base] *",
   "language": "python",
   "name": "conda-base-py"
  },
  "language_info": {
   "codemirror_mode": {
    "name": "ipython",
    "version": 3
   },
   "file_extension": ".py",
   "mimetype": "text/x-python",
   "name": "python",
   "nbconvert_exporter": "python",
   "pygments_lexer": "ipython3",
   "version": "3.12.7"
  }
 },
 "nbformat": 4,
 "nbformat_minor": 5
}
