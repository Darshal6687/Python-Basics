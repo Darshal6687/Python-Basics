{
 "cells": [
  {
   "cell_type": "markdown",
   "id": "50e59a22-9ee6-40bd-bae0-c060f9fba098",
   "metadata": {},
   "source": [
    "28/01/25"
   ]
  },
  {
   "cell_type": "markdown",
   "id": "28d3b3eb-fc94-4ed2-a6b6-72fe420da8cc",
   "metadata": {},
   "source": [
    "Basic Python & Python Operator"
   ]
  },
  {
   "cell_type": "markdown",
   "id": "90370e9f-3abc-4f53-8f2d-34abbede115a",
   "metadata": {},
   "source": [
    "Intro to ID()"
   ]
  },
  {
   "cell_type": "code",
   "execution_count": 1,
   "id": "1a0d576c-9ccc-4ab1-ac64-0a6ee007ca45",
   "metadata": {},
   "outputs": [
    {
     "data": {
      "text/plain": [
       "140714173344312"
      ]
     },
     "execution_count": 1,
     "metadata": {},
     "output_type": "execute_result"
    }
   ],
   "source": [
    "num = 5\n",
    "id(num)"
   ]
  },
  {
   "cell_type": "code",
   "execution_count": 3,
   "id": "0a028687-f5ea-4386-8c31-6715114615d6",
   "metadata": {},
   "outputs": [
    {
     "data": {
      "text/plain": [
       "2140800817440"
      ]
     },
     "execution_count": 3,
     "metadata": {},
     "output_type": "execute_result"
    }
   ],
   "source": [
    "name = 'nit'\n",
    "id(name)"
   ]
  },
  {
   "cell_type": "markdown",
   "id": "5c3ad10d-b474-41a0-8930-a9b40d7b0dad",
   "metadata": {},
   "source": [
    "Operator"
   ]
  },
  {
   "cell_type": "markdown",
   "id": "706dd702-5ac3-40af-a6e4-323783441fb7",
   "metadata": {},
   "source": [
    "# 1.Arthmetic operator (+,-,/,//,%,**)"
   ]
  },
  {
   "cell_type": "code",
   "execution_count": 5,
   "id": "f4412f21-716a-452f-b5fc-e822262474e4",
   "metadata": {},
   "outputs": [
    {
     "data": {
      "text/plain": [
       "18"
      ]
     },
     "execution_count": 5,
     "metadata": {},
     "output_type": "execute_result"
    }
   ],
   "source": [
    "a = 9\n",
    "b = 9\n",
    "a+b"
   ]
  },
  {
   "cell_type": "code",
   "execution_count": 13,
   "id": "8798e092-f6d6-41ee-af41-40539689604f",
   "metadata": {},
   "outputs": [
    {
     "data": {
      "text/plain": [
       "2"
      ]
     },
     "execution_count": 13,
     "metadata": {},
     "output_type": "execute_result"
    }
   ],
   "source": [
    "y = 2\n",
    "y"
   ]
  },
  {
   "cell_type": "code",
   "execution_count": 17,
   "id": "cc32c32d-41ca-411e-8282-49a7d21e96b4",
   "metadata": {},
   "outputs": [
    {
     "ename": "TypeError",
     "evalue": "can only concatenate str (not \"int\") to str",
     "output_type": "error",
     "traceback": [
      "\u001b[1;31m---------------------------------------------------------------------------\u001b[0m",
      "\u001b[1;31mTypeError\u001b[0m                                 Traceback (most recent call last)",
      "Cell \u001b[1;32mIn[17], line 1\u001b[0m\n\u001b[1;32m----> 1\u001b[0m _ \u001b[38;5;241m+\u001b[39m y\n\u001b[0;32m      2\u001b[0m \u001b[38;5;28mprint\u001b[39m(y)\n",
      "\u001b[1;31mTypeError\u001b[0m: can only concatenate str (not \"int\") to str"
     ]
    }
   ],
   "source": [
    "_ + y\n",
    "print(y)"
   ]
  },
  {
   "cell_type": "markdown",
   "id": "cb1ba352-f39e-47d1-98c1-3ceb6a3f85d9",
   "metadata": {},
   "source": [
    "# 2.Assignment operator (=, += , *= , -=, /=, //=)"
   ]
  },
  {
   "cell_type": "code",
   "execution_count": 19,
   "id": "8e481ae2-6efc-4d3f-9855-bdf58cc24e61",
   "metadata": {},
   "outputs": [
    {
     "data": {
      "text/plain": [
       "4"
      ]
     },
     "execution_count": 19,
     "metadata": {},
     "output_type": "execute_result"
    }
   ],
   "source": [
    "x = 2\n",
    "x= x+2\n",
    "x"
   ]
  },
  {
   "cell_type": "code",
   "execution_count": 23,
   "id": "bd54906d-0d3d-44cd-bfd3-2d06d37f371b",
   "metadata": {},
   "outputs": [
    {
     "data": {
      "text/plain": [
       "8"
      ]
     },
     "execution_count": 23,
     "metadata": {},
     "output_type": "execute_result"
    }
   ],
   "source": [
    "x += 2\n",
    "x"
   ]
  },
  {
   "cell_type": "code",
   "execution_count": 27,
   "id": "9d2fd466-e973-4caa-ae1d-7d4cd6351fa9",
   "metadata": {},
   "outputs": [
    {
     "data": {
      "text/plain": [
       "0"
      ]
     },
     "execution_count": 27,
     "metadata": {},
     "output_type": "execute_result"
    }
   ],
   "source": [
    "x = 2\n",
    "x -= 2\n",
    "x"
   ]
  },
  {
   "cell_type": "code",
   "execution_count": 29,
   "id": "09d501b2-d3e8-4262-bf64-a93797acb5a5",
   "metadata": {},
   "outputs": [
    {
     "data": {
      "text/plain": [
       "0"
      ]
     },
     "execution_count": 29,
     "metadata": {},
     "output_type": "execute_result"
    }
   ],
   "source": [
    "x ** 2\n",
    "x"
   ]
  },
  {
   "cell_type": "code",
   "execution_count": 33,
   "id": "47abb016-e05e-4985-90e1-dd97162953c6",
   "metadata": {},
   "outputs": [],
   "source": [
    "x = 9"
   ]
  },
  {
   "cell_type": "code",
   "execution_count": 35,
   "id": "c62e3eed-bee3-4586-9174-37d50225457f",
   "metadata": {},
   "outputs": [
    {
     "data": {
      "text/plain": [
       "27"
      ]
     },
     "execution_count": 35,
     "metadata": {},
     "output_type": "execute_result"
    }
   ],
   "source": [
    "x *= 3\n",
    "x"
   ]
  },
  {
   "cell_type": "code",
   "execution_count": 39,
   "id": "c7912e37-2af9-46de-9dda-133c2cdca30b",
   "metadata": {},
   "outputs": [
    {
     "data": {
      "text/plain": [
       "6.75"
      ]
     },
     "execution_count": 39,
     "metadata": {},
     "output_type": "execute_result"
    }
   ],
   "source": [
    "x /= 2\n",
    "x"
   ]
  },
  {
   "cell_type": "code",
   "execution_count": 41,
   "id": "692481d5-c46e-4ca4-8a11-2de84583df7e",
   "metadata": {},
   "outputs": [
    {
     "data": {
      "text/plain": [
       "3.0"
      ]
     },
     "execution_count": 41,
     "metadata": {},
     "output_type": "execute_result"
    }
   ],
   "source": [
    "x//2"
   ]
  },
  {
   "cell_type": "markdown",
   "id": "55f0abef-3d77-4a1c-a1a6-8549b3cf9668",
   "metadata": {},
   "source": [
    "# 3.Unary Operator"
   ]
  },
  {
   "cell_type": "code",
   "execution_count": null,
   "id": "f145ceab-8074-4dcb-bf29-540e747c83a7",
   "metadata": {},
   "outputs": [],
   "source": [
    "#only one operator"
   ]
  },
  {
   "cell_type": "code",
   "execution_count": 47,
   "id": "6ec7dfe1-4b67-478e-92b2-7837605b684d",
   "metadata": {},
   "outputs": [],
   "source": [
    "n = 3"
   ]
  },
  {
   "cell_type": "code",
   "execution_count": 49,
   "id": "792d828a-3161-474a-85cd-14772201f10a",
   "metadata": {},
   "outputs": [
    {
     "name": "stdout",
     "output_type": "stream",
     "text": [
      "-3\n"
     ]
    }
   ],
   "source": [
    "m = -(n)\n",
    "print(m)"
   ]
  },
  {
   "cell_type": "markdown",
   "id": "de48b6d8-28d7-4bd6-8b48-e5c35250a3c5",
   "metadata": {},
   "source": [
    "# 4. Relational ( >, <, >=, <=, == , != )"
   ]
  },
  {
   "cell_type": "code",
   "execution_count": 51,
   "id": "90de3048-cb74-4389-bc24-6f3eb37131bd",
   "metadata": {},
   "outputs": [],
   "source": [
    "a= 3\n",
    "b=8"
   ]
  },
  {
   "cell_type": "code",
   "execution_count": 53,
   "id": "13a545ea-7137-4255-83b6-abf3e0294a61",
   "metadata": {},
   "outputs": [
    {
     "data": {
      "text/plain": [
       "False"
      ]
     },
     "execution_count": 53,
     "metadata": {},
     "output_type": "execute_result"
    }
   ],
   "source": [
    "a>b"
   ]
  },
  {
   "cell_type": "code",
   "execution_count": 55,
   "id": "1096df61-a59c-48ed-acca-33040ea6435c",
   "metadata": {},
   "outputs": [
    {
     "data": {
      "text/plain": [
       "True"
      ]
     },
     "execution_count": 55,
     "metadata": {},
     "output_type": "execute_result"
    }
   ],
   "source": [
    "a<b"
   ]
  },
  {
   "cell_type": "code",
   "execution_count": 63,
   "id": "e0932e6f-8684-437f-9978-cfb653738817",
   "metadata": {},
   "outputs": [],
   "source": [
    "a = 2\n",
    "b = 1"
   ]
  },
  {
   "cell_type": "code",
   "execution_count": 65,
   "id": "69bbf538-b8d2-4d3e-93cc-67b35764527d",
   "metadata": {},
   "outputs": [
    {
     "data": {
      "text/plain": [
       "True"
      ]
     },
     "execution_count": 65,
     "metadata": {},
     "output_type": "execute_result"
    }
   ],
   "source": [
    "a>=b"
   ]
  },
  {
   "cell_type": "code",
   "execution_count": 67,
   "id": "1233f41c-6584-46b7-998f-e544cb9cabd8",
   "metadata": {},
   "outputs": [
    {
     "data": {
      "text/plain": [
       "False"
      ]
     },
     "execution_count": 67,
     "metadata": {},
     "output_type": "execute_result"
    }
   ],
   "source": [
    "a<=b"
   ]
  },
  {
   "cell_type": "code",
   "execution_count": 69,
   "id": "9a984607-ffc4-4bdb-9a6e-1dca9d8f84fe",
   "metadata": {},
   "outputs": [
    {
     "data": {
      "text/plain": [
       "False"
      ]
     },
     "execution_count": 69,
     "metadata": {},
     "output_type": "execute_result"
    }
   ],
   "source": [
    "a==b"
   ]
  },
  {
   "cell_type": "code",
   "execution_count": 71,
   "id": "70bdd5ef-9a02-49d3-b9b2-980e66e7d3a7",
   "metadata": {},
   "outputs": [
    {
     "data": {
      "text/plain": [
       "True"
      ]
     },
     "execution_count": 71,
     "metadata": {},
     "output_type": "execute_result"
    }
   ],
   "source": [
    "a!=b"
   ]
  },
  {
   "cell_type": "markdown",
   "id": "01c3e8b6-e7c8-4687-979f-e626d73b547b",
   "metadata": {},
   "source": [
    "# 5.Logical Operator (AND, OR, NOT)"
   ]
  },
  {
   "cell_type": "markdown",
   "id": "c7a69a0e-2128-41a3-9599-85b842645796",
   "metadata": {},
   "source": [
    "Number system Conversion"
   ]
  },
  {
   "cell_type": "code",
   "execution_count": 73,
   "id": "571e972c-ab63-48eb-a223-1ed72ca246b9",
   "metadata": {},
   "outputs": [
    {
     "data": {
      "text/plain": [
       "'0b11001'"
      ]
     },
     "execution_count": 73,
     "metadata": {},
     "output_type": "execute_result"
    }
   ],
   "source": [
    "bin(25)"
   ]
  },
  {
   "cell_type": "code",
   "execution_count": 75,
   "id": "2e47348d-db6d-4f01-9d4e-f180711841fe",
   "metadata": {},
   "outputs": [
    {
     "data": {
      "text/plain": [
       "'0b11110'"
      ]
     },
     "execution_count": 75,
     "metadata": {},
     "output_type": "execute_result"
    }
   ],
   "source": [
    "bin(30)"
   ]
  },
  {
   "cell_type": "markdown",
   "id": "cd63d935-1c70-466a-afe2-32b1aa76a21b",
   "metadata": {},
   "source": [
    "Convert string 'fine' to 'dine'"
   ]
  },
  {
   "cell_type": "code",
   "execution_count": 77,
   "id": "4720d57a-85e3-4e49-b1f0-894478368793",
   "metadata": {},
   "outputs": [
    {
     "data": {
      "text/plain": [
       "'dine'"
      ]
     },
     "execution_count": 77,
     "metadata": {},
     "output_type": "execute_result"
    }
   ],
   "source": [
    "a = 'fine'\n",
    "'d' + a[1:]"
   ]
  },
  {
   "cell_type": "code",
   "execution_count": null,
   "id": "b0628454-6e73-40b2-b5c9-1674a3884b95",
   "metadata": {},
   "outputs": [],
   "source": []
  }
 ],
 "metadata": {
  "kernelspec": {
   "display_name": "Python [conda env:base] *",
   "language": "python",
   "name": "conda-base-py"
  },
  "language_info": {
   "codemirror_mode": {
    "name": "ipython",
    "version": 3
   },
   "file_extension": ".py",
   "mimetype": "text/x-python",
   "name": "python",
   "nbconvert_exporter": "python",
   "pygments_lexer": "ipython3",
   "version": "3.12.7"
  }
 },
 "nbformat": 4,
 "nbformat_minor": 5
}
