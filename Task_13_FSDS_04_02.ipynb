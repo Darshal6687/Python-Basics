{
 "cells": [
  {
   "cell_type": "markdown",
   "id": "39a6c45d-a43b-4126-8d6b-333e49a178b7",
   "metadata": {},
   "source": [
    "# 04/02/2025"
   ]
  },
  {
   "cell_type": "code",
   "execution_count": 2,
   "id": "f3abf6d8-e5e7-4099-aaf6-cbb0c31e8d0f",
   "metadata": {},
   "outputs": [],
   "source": [
    "import numpy as np"
   ]
  },
  {
   "cell_type": "code",
   "execution_count": 3,
   "id": "da253ecd-e7c2-4b9a-9348-e429dd6cb9f0",
   "metadata": {},
   "outputs": [
    {
     "data": {
      "text/plain": [
       "array([20, 20, 22, 20, 28, 27, 26, 22, 22, 21])"
      ]
     },
     "execution_count": 3,
     "metadata": {},
     "output_type": "execute_result"
    }
   ],
   "source": [
    "np.random.randint(20,30,10)"
   ]
  },
  {
   "cell_type": "code",
   "execution_count": 4,
   "id": "3f6edab0-594c-40ec-8091-56e34986eeef",
   "metadata": {},
   "outputs": [
    {
     "data": {
      "text/plain": [
       "array([[23, 34, 11, 33, 32, 37, 12, 29, 30, 29],\n",
       "       [28, 17, 11, 10, 37, 39, 35, 23, 29, 19],\n",
       "       [14, 30, 18, 28, 10, 30, 33, 27, 12, 20],\n",
       "       [28, 36, 11, 16, 20, 22, 10, 12, 27, 11],\n",
       "       [36, 24, 24, 39, 39, 30, 31, 15, 30, 31],\n",
       "       [24, 34, 16, 28, 30, 29, 11, 38, 14, 25],\n",
       "       [24, 23, 26, 23, 29, 37, 29, 31, 14, 17],\n",
       "       [37, 14, 11, 33, 33, 23, 39, 24, 12, 39],\n",
       "       [21, 14, 38, 19, 34, 20, 31, 21, 25, 34],\n",
       "       [34, 37, 11, 12, 10, 30, 28, 16, 17, 20]])"
      ]
     },
     "execution_count": 4,
     "metadata": {},
     "output_type": "execute_result"
    }
   ],
   "source": [
    "np.random.randint(10,40,(10,10))"
   ]
  },
  {
   "cell_type": "code",
   "execution_count": 5,
   "id": "60ac4c7b-0621-4903-be10-4e91e7ad85e6",
   "metadata": {},
   "outputs": [
    {
     "data": {
      "text/plain": [
       "array([[14, 85, 54, 31, 72, 67, 12, 52, 91, 14, 91, 26],\n",
       "       [54, 18, 57, 79, 12, 66, 56, 77, 34, 12, 30, 90],\n",
       "       [80, 24, 55, 37, 42, 47, 39, 78, 81, 47, 56, 17],\n",
       "       [58, 49, 13, 71, 51, 20, 96, 13, 84, 44, 72, 83],\n",
       "       [37, 62, 90, 71, 54, 80, 41, 72, 29, 97, 13, 40],\n",
       "       [33, 58, 77, 85, 79, 68, 31, 25, 96, 27, 58, 38],\n",
       "       [53, 13, 35, 64, 98,  4, 77, 36, 21, 93, 52,  2],\n",
       "       [ 9, 88, 46, 65, 65, 73, 76, 90, 97, 50, 50, 75],\n",
       "       [56, 94, 85, 42, 50, 83, 61, 75, 90, 55,  6, 88],\n",
       "       [83, 56,  2, 78, 68,  5, 53, 40, 28,  3, 94, 73],\n",
       "       [87, 61, 85, 80, 63, 18, 89, 10, 77, 81, 57, 58],\n",
       "       [30, 47,  9, 24, 70,  3, 25,  7, 93, 76, 11, 67]])"
      ]
     },
     "execution_count": 5,
     "metadata": {},
     "output_type": "execute_result"
    }
   ],
   "source": [
    "np.random.randint(1,100,(12,12))"
   ]
  },
  {
   "cell_type": "code",
   "execution_count": 6,
   "id": "2d1c0c22-cc0f-4a4b-a52e-ea1b84af9a8c",
   "metadata": {},
   "outputs": [
    {
     "data": {
      "text/plain": [
       "array([3, 2, 3])"
      ]
     },
     "execution_count": 6,
     "metadata": {},
     "output_type": "execute_result"
    }
   ],
   "source": [
    "np.random.randint(2,5,3)"
   ]
  },
  {
   "cell_type": "code",
   "execution_count": 7,
   "id": "7c677738-e22a-4d1f-b2f4-aad1c979a142",
   "metadata": {},
   "outputs": [
    {
     "data": {
      "text/plain": [
       "array([[ 1,  2,  3,  4],\n",
       "       [ 5,  6,  7,  8],\n",
       "       [ 9, 10, 11, 12]])"
      ]
     },
     "execution_count": 7,
     "metadata": {},
     "output_type": "execute_result"
    }
   ],
   "source": [
    "np.arange(1,13).reshape(3,4)"
   ]
  },
  {
   "cell_type": "code",
   "execution_count": 8,
   "id": "e927112b-4f71-44b4-98c1-97d3fbdda39d",
   "metadata": {},
   "outputs": [
    {
     "data": {
      "text/plain": [
       "array([[ 1],\n",
       "       [ 2],\n",
       "       [ 3],\n",
       "       [ 4],\n",
       "       [ 5],\n",
       "       [ 6],\n",
       "       [ 7],\n",
       "       [ 8],\n",
       "       [ 9],\n",
       "       [10],\n",
       "       [11],\n",
       "       [12]])"
      ]
     },
     "execution_count": 8,
     "metadata": {},
     "output_type": "execute_result"
    }
   ],
   "source": [
    "np.arange(1,13).reshape(12,1)"
   ]
  },
  {
   "cell_type": "code",
   "execution_count": 9,
   "id": "c0df0bbf-c087-4be6-b243-a6e91e0eb8b0",
   "metadata": {},
   "outputs": [
    {
     "data": {
      "text/plain": [
       "array([[ 1,  2],\n",
       "       [ 3,  4],\n",
       "       [ 5,  6],\n",
       "       [ 7,  8],\n",
       "       [ 9, 10],\n",
       "       [11, 12]])"
      ]
     },
     "execution_count": 9,
     "metadata": {},
     "output_type": "execute_result"
    }
   ],
   "source": [
    "np.arange(1,13).reshape(6,2)"
   ]
  },
  {
   "cell_type": "code",
   "execution_count": 10,
   "id": "6e2bb26a-53a1-4076-b606-62fcda33c599",
   "metadata": {},
   "outputs": [
    {
     "data": {
      "text/plain": [
       "array([[10, 19, 15, 12],\n",
       "       [19, 10, 12, 10],\n",
       "       [16, 16, 15, 16],\n",
       "       [16, 18, 13, 15],\n",
       "       [12, 15, 12, 16]])"
      ]
     },
     "execution_count": 10,
     "metadata": {},
     "output_type": "execute_result"
    }
   ],
   "source": [
    " b = np.random.randint(10,20,(5,4))\n",
    "b"
   ]
  },
  {
   "cell_type": "code",
   "execution_count": 11,
   "id": "25457d48-6229-4b82-9f57-1341b951b60b",
   "metadata": {},
   "outputs": [
    {
     "data": {
      "text/plain": [
       "numpy.ndarray"
      ]
     },
     "execution_count": 11,
     "metadata": {},
     "output_type": "execute_result"
    }
   ],
   "source": [
    "type(b)"
   ]
  },
  {
   "cell_type": "code",
   "execution_count": 12,
   "id": "a7963d64-e39b-4ef4-9d25-11b4c67e48da",
   "metadata": {},
   "outputs": [
    {
     "data": {
      "text/plain": [
       "array([[10, 19, 15, 12],\n",
       "       [19, 10, 12, 10],\n",
       "       [16, 16, 15, 16],\n",
       "       [16, 18, 13, 15],\n",
       "       [12, 15, 12, 16]])"
      ]
     },
     "execution_count": 12,
     "metadata": {},
     "output_type": "execute_result"
    }
   ],
   "source": [
    "b[:]"
   ]
  },
  {
   "cell_type": "code",
   "execution_count": 13,
   "id": "cb45b30d-d5bc-4e73-96bf-8b4e8d14dfc2",
   "metadata": {},
   "outputs": [
    {
     "data": {
      "text/plain": [
       "array([[19, 10, 12, 10],\n",
       "       [16, 16, 15, 16]])"
      ]
     },
     "execution_count": 13,
     "metadata": {},
     "output_type": "execute_result"
    }
   ],
   "source": [
    "b[1:3]"
   ]
  },
  {
   "cell_type": "code",
   "execution_count": null,
   "id": "8086eb73-6c0e-455c-a531-3efdf1d6e3d8",
   "metadata": {},
   "outputs": [],
   "source": []
  },
  {
   "cell_type": "code",
   "execution_count": null,
   "id": "c465e9f0-40a3-4e5f-a1c5-8357915f93b0",
   "metadata": {},
   "outputs": [],
   "source": []
  },
  {
   "cell_type": "code",
   "execution_count": 14,
   "id": "05f896d5-cd40-4abc-a9b0-b584002b1ea0",
   "metadata": {},
   "outputs": [
    {
     "data": {
      "text/plain": [
       "array([[19, 15],\n",
       "       [10, 12],\n",
       "       [16, 15],\n",
       "       [18, 13],\n",
       "       [15, 12]])"
      ]
     },
     "execution_count": 14,
     "metadata": {},
     "output_type": "execute_result"
    }
   ],
   "source": [
    "b[:,1:3]"
   ]
  },
  {
   "cell_type": "code",
   "execution_count": 15,
   "id": "4e3ebf06-4ee2-4958-851b-2d5afca3b1e6",
   "metadata": {},
   "outputs": [
    {
     "data": {
      "text/plain": [
       "12"
      ]
     },
     "execution_count": 15,
     "metadata": {},
     "output_type": "execute_result"
    }
   ],
   "source": [
    "b[1,2]"
   ]
  },
  {
   "cell_type": "code",
   "execution_count": 16,
   "id": "2f5336c1-bdd4-4230-8d23-8208975659fc",
   "metadata": {},
   "outputs": [
    {
     "data": {
      "text/plain": [
       "array([[10, 19, 15, 12],\n",
       "       [19, 10, 12, 10],\n",
       "       [16, 16, 15, 16],\n",
       "       [16, 18, 13, 15],\n",
       "       [12, 15, 12, 16]])"
      ]
     },
     "execution_count": 16,
     "metadata": {},
     "output_type": "execute_result"
    }
   ],
   "source": [
    "b"
   ]
  },
  {
   "cell_type": "code",
   "execution_count": 17,
   "id": "cfd891cd-43e4-415f-b12f-be56347e5fcb",
   "metadata": {},
   "outputs": [
    {
     "data": {
      "text/plain": [
       "10"
      ]
     },
     "execution_count": 17,
     "metadata": {},
     "output_type": "execute_result"
    }
   ],
   "source": [
    "b[1,-1]"
   ]
  },
  {
   "cell_type": "code",
   "execution_count": 18,
   "id": "62e23d57-ecb9-4108-b5f2-433057edfd76",
   "metadata": {},
   "outputs": [
    {
     "data": {
      "text/plain": [
       "array([[16, 16, 15, 16]])"
      ]
     },
     "execution_count": 18,
     "metadata": {},
     "output_type": "execute_result"
    }
   ],
   "source": [
    "b[2:3]"
   ]
  },
  {
   "cell_type": "code",
   "execution_count": 19,
   "id": "694f28d6-a2f3-4d00-b0b2-ed47d90bb1f2",
   "metadata": {},
   "outputs": [
    {
     "data": {
      "text/plain": [
       "array([[10, 19, 15, 12],\n",
       "       [19, 10, 12, 10],\n",
       "       [16, 16, 15, 16]])"
      ]
     },
     "execution_count": 19,
     "metadata": {},
     "output_type": "execute_result"
    }
   ],
   "source": [
    "b[0:-2]"
   ]
  },
  {
   "cell_type": "code",
   "execution_count": 20,
   "id": "8818e0c8-de7c-4767-97d3-d191400aedc5",
   "metadata": {},
   "outputs": [
    {
     "data": {
      "text/plain": [
       "19"
      ]
     },
     "execution_count": 20,
     "metadata": {},
     "output_type": "execute_result"
    }
   ],
   "source": [
    "b[-5,-3]"
   ]
  },
  {
   "cell_type": "markdown",
   "id": "a442027a-5d8f-4031-bf35-944575119212",
   "metadata": {},
   "source": [
    "# slicing in matrix"
   ]
  },
  {
   "cell_type": "code",
   "execution_count": 22,
   "id": "5f1d17fc-44c6-40f1-bbe0-deda96e95af1",
   "metadata": {},
   "outputs": [
    {
     "data": {
      "text/plain": [
       "array([[16, 17, 14, 15],\n",
       "       [19, 19, 10, 16],\n",
       "       [13, 13, 19, 10],\n",
       "       [19, 18, 18, 16],\n",
       "       [18, 12, 15, 16]])"
      ]
     },
     "execution_count": 22,
     "metadata": {},
     "output_type": "execute_result"
    }
   ],
   "source": [
    "b = np.random.randint(10,20,(5,4))\n",
    "b"
   ]
  },
  {
   "cell_type": "code",
   "execution_count": 23,
   "id": "b7c15046-2633-4a57-a787-dec81ab2e956",
   "metadata": {},
   "outputs": [
    {
     "data": {
      "text/plain": [
       "numpy.ndarray"
      ]
     },
     "execution_count": 23,
     "metadata": {},
     "output_type": "execute_result"
    }
   ],
   "source": [
    "type(b)"
   ]
  },
  {
   "cell_type": "code",
   "execution_count": 24,
   "id": "3094bed6-cc61-44fa-8847-acdc170a85f1",
   "metadata": {},
   "outputs": [
    {
     "data": {
      "text/plain": [
       "array([[16, 17, 14, 15],\n",
       "       [19, 19, 10, 16],\n",
       "       [13, 13, 19, 10],\n",
       "       [19, 18, 18, 16],\n",
       "       [18, 12, 15, 16]])"
      ]
     },
     "execution_count": 24,
     "metadata": {},
     "output_type": "execute_result"
    }
   ],
   "source": [
    "b[:]"
   ]
  },
  {
   "cell_type": "markdown",
   "id": "92f65738-e7f0-4d77-bf20-b8f36a37e0ac",
   "metadata": {},
   "source": [
    "# Operations"
   ]
  },
  {
   "cell_type": "code",
   "execution_count": 34,
   "id": "a29ab339-fc52-4f1b-9f6c-be1fc5c30815",
   "metadata": {},
   "outputs": [
    {
     "data": {
      "text/plain": [
       "array([12, 18, 12, 10, 13, 16, 13, 16, 12, 15])"
      ]
     },
     "execution_count": 34,
     "metadata": {},
     "output_type": "execute_result"
    }
   ],
   "source": [
    "a = np.random.randint(10,20,10)\n",
    "a"
   ]
  },
  {
   "cell_type": "code",
   "execution_count": 36,
   "id": "89f8be0a-664d-4cfe-b3fe-92581f51133d",
   "metadata": {},
   "outputs": [
    {
     "data": {
      "text/plain": [
       "array([[71, 24, 12, 89,  0, 57, 40, 38, 69, 52],\n",
       "       [33,  8,  3, 76,  4, 37, 27, 51, 20, 38],\n",
       "       [83, 97, 23, 95, 54, 30, 76, 89, 26,  8],\n",
       "       [11,  6,  9, 45, 50, 46, 34, 87, 80, 95],\n",
       "       [14, 31,  0, 59, 95, 64, 26, 81, 89,  8],\n",
       "       [50, 37, 56, 94, 29, 99, 64, 87, 26, 70],\n",
       "       [ 3, 23, 53, 87, 50, 56, 22, 86, 80, 93],\n",
       "       [79, 46, 12, 80, 67, 98, 82, 95, 83, 71],\n",
       "       [97, 86, 68, 38, 67, 52,  3, 32, 17, 85],\n",
       "       [44, 48, 27, 58, 30, 58, 29, 54, 43, 68]])"
      ]
     },
     "execution_count": 36,
     "metadata": {},
     "output_type": "execute_result"
    }
   ],
   "source": [
    "arr2 = np.random.randint(0,100,(10,10))\n",
    "arr2"
   ]
  },
  {
   "cell_type": "code",
   "execution_count": 38,
   "id": "edd18b6f-99eb-4a6c-97f7-2f0b30998726",
   "metadata": {},
   "outputs": [
    {
     "data": {
      "text/plain": [
       "array([[71, 24, 12, 89,  0, 57, 40, 38, 69, 52],\n",
       "       [33,  8,  3, 76,  4, 37, 27, 51, 20, 38],\n",
       "       [83, 97, 23, 95, 54, 30, 76, 89, 26,  8],\n",
       "       [11,  6,  9, 45, 50, 46, 34, 87, 80, 95],\n",
       "       [14, 31,  0, 59, 95, 64, 26, 81, 89,  8],\n",
       "       [50, 37, 56, 94, 29, 99, 64, 87, 26, 70],\n",
       "       [ 3, 23, 53, 87, 50, 56, 22, 86, 80, 93],\n",
       "       [79, 46, 12, 80, 67, 98, 82, 95, 83, 71],\n",
       "       [97, 86, 68, 38, 67, 52,  3, 32, 17, 85],\n",
       "       [44, 48, 27, 58, 30, 58, 29, 54, 43, 68]])"
      ]
     },
     "execution_count": 38,
     "metadata": {},
     "output_type": "execute_result"
    }
   ],
   "source": [
    "arr2[:]"
   ]
  },
  {
   "cell_type": "code",
   "execution_count": 40,
   "id": "e3fa4252-a707-4198-bbd2-6b4956278871",
   "metadata": {},
   "outputs": [
    {
     "ename": "NameError",
     "evalue": "name 'arr' is not defined",
     "output_type": "error",
     "traceback": [
      "\u001b[1;31m---------------------------------------------------------------------------\u001b[0m",
      "\u001b[1;31mNameError\u001b[0m                                 Traceback (most recent call last)",
      "Cell \u001b[1;32mIn[40], line 1\u001b[0m\n\u001b[1;32m----> 1\u001b[0m arr\n",
      "\u001b[1;31mNameError\u001b[0m: name 'arr' is not defined"
     ]
    }
   ],
   "source": [
    "arr"
   ]
  },
  {
   "cell_type": "code",
   "execution_count": 42,
   "id": "2f79c170-6b15-4a8f-ae34-f2cbf081fd8a",
   "metadata": {},
   "outputs": [
    {
     "data": {
      "text/plain": [
       "[0, 1, 2, 3, 4, 5]"
      ]
     },
     "execution_count": 42,
     "metadata": {},
     "output_type": "execute_result"
    }
   ],
   "source": [
    "my_list = [0,1,2,3,4,5]\n",
    "my_list"
   ]
  },
  {
   "cell_type": "code",
   "execution_count": 44,
   "id": "601f6b1f-df49-4f5b-8b01-ff3d3e81eaf4",
   "metadata": {},
   "outputs": [
    {
     "data": {
      "text/plain": [
       "array([0, 1, 2, 3, 4, 5])"
      ]
     },
     "execution_count": 44,
     "metadata": {},
     "output_type": "execute_result"
    }
   ],
   "source": [
    "arr = np.array(my_list)\n",
    "arr"
   ]
  },
  {
   "cell_type": "code",
   "execution_count": 46,
   "id": "fd06137d-59e6-49d9-b505-c38fb98bcaef",
   "metadata": {},
   "outputs": [
    {
     "data": {
      "text/plain": [
       "array([0, 1, 2, 3, 4, 5])"
      ]
     },
     "execution_count": 46,
     "metadata": {},
     "output_type": "execute_result"
    }
   ],
   "source": [
    "arr[:]"
   ]
  },
  {
   "cell_type": "code",
   "execution_count": 48,
   "id": "3e674e06-f60b-4f03-9912-eb0e012b6692",
   "metadata": {},
   "outputs": [
    {
     "data": {
      "text/plain": [
       "array([0, 1, 2, 3])"
      ]
     },
     "execution_count": 48,
     "metadata": {},
     "output_type": "execute_result"
    }
   ],
   "source": [
    "arr[:4]"
   ]
  },
  {
   "cell_type": "code",
   "execution_count": 50,
   "id": "e1e01b03-35ed-4869-86c2-617f8f0e9927",
   "metadata": {},
   "outputs": [
    {
     "data": {
      "text/plain": [
       "array([[71, 24, 12, 89,  0, 57, 40, 38, 69, 52],\n",
       "       [33,  8,  3, 76,  4, 37, 27, 51, 20, 38],\n",
       "       [83, 97, 23, 95, 54, 30, 76, 89, 26,  8],\n",
       "       [11,  6,  9, 45, 50, 46, 34, 87, 80, 95],\n",
       "       [14, 31,  0, 59, 95, 64, 26, 81, 89,  8],\n",
       "       [50, 37, 56, 94, 29, 99, 64, 87, 26, 70],\n",
       "       [ 3, 23, 53, 87, 50, 56, 22, 86, 80, 93],\n",
       "       [79, 46, 12, 80, 67, 98, 82, 95, 83, 71],\n",
       "       [97, 86, 68, 38, 67, 52,  3, 32, 17, 85],\n",
       "       [44, 48, 27, 58, 30, 58, 29, 54, 43, 68]])"
      ]
     },
     "execution_count": 50,
     "metadata": {},
     "output_type": "execute_result"
    }
   ],
   "source": [
    "arr2"
   ]
  },
  {
   "cell_type": "code",
   "execution_count": 52,
   "id": "6b5f255b-0b1b-469e-86fe-c97e5ca0af64",
   "metadata": {},
   "outputs": [
    {
     "data": {
      "text/plain": [
       "array([[71, 24, 12, 89,  0, 57, 40, 38, 69, 52],\n",
       "       [33,  8,  3, 76,  4, 37, 27, 51, 20, 38],\n",
       "       [83, 97, 23, 95, 54, 30, 76, 89, 26,  8],\n",
       "       [11,  6,  9, 45, 50, 46, 34, 87, 80, 95],\n",
       "       [14, 31,  0, 59, 95, 64, 26, 81, 89,  8]])"
      ]
     },
     "execution_count": 52,
     "metadata": {},
     "output_type": "execute_result"
    }
   ],
   "source": [
    "arr2[0:5]"
   ]
  },
  {
   "cell_type": "code",
   "execution_count": 54,
   "id": "63383c2e-24ec-4791-b471-ab35009d85f1",
   "metadata": {},
   "outputs": [
    {
     "data": {
      "text/plain": [
       "99"
      ]
     },
     "execution_count": 54,
     "metadata": {},
     "output_type": "execute_result"
    }
   ],
   "source": [
    "arr2[-5,5]"
   ]
  },
  {
   "cell_type": "code",
   "execution_count": 56,
   "id": "6b5ef93b-5792-4419-8570-aea876146f68",
   "metadata": {},
   "outputs": [
    {
     "data": {
      "text/plain": [
       "array([[71, 24, 12, 89,  0, 57, 40, 38, 69, 52],\n",
       "       [33,  8,  3, 76,  4, 37, 27, 51, 20, 38],\n",
       "       [83, 97, 23, 95, 54, 30, 76, 89, 26,  8],\n",
       "       [11,  6,  9, 45, 50, 46, 34, 87, 80, 95],\n",
       "       [14, 31,  0, 59, 95, 64, 26, 81, 89,  8],\n",
       "       [50, 37, 56, 94, 29, 99, 64, 87, 26, 70],\n",
       "       [ 3, 23, 53, 87, 50, 56, 22, 86, 80, 93],\n",
       "       [79, 46, 12, 80, 67, 98, 82, 95, 83, 71],\n",
       "       [97, 86, 68, 38, 67, 52,  3, 32, 17, 85],\n",
       "       [44, 48, 27, 58, 30, 58, 29, 54, 43, 68]])"
      ]
     },
     "execution_count": 56,
     "metadata": {},
     "output_type": "execute_result"
    }
   ],
   "source": [
    "arr2"
   ]
  },
  {
   "cell_type": "code",
   "execution_count": 58,
   "id": "82252b24-09a2-4657-b639-bf722bc1deb6",
   "metadata": {},
   "outputs": [
    {
     "data": {
      "text/plain": [
       "99"
      ]
     },
     "execution_count": 58,
     "metadata": {},
     "output_type": "execute_result"
    }
   ],
   "source": [
    "arr2[-5,-5]"
   ]
  },
  {
   "cell_type": "code",
   "execution_count": 60,
   "id": "01d2bdf3-bcff-4f4d-961b-8bd90a3f0ed1",
   "metadata": {},
   "outputs": [
    {
     "data": {
      "text/plain": [
       "43"
      ]
     },
     "execution_count": 60,
     "metadata": {},
     "output_type": "execute_result"
    }
   ],
   "source": [
    "arr2[-1,-2]"
   ]
  },
  {
   "cell_type": "code",
   "execution_count": 62,
   "id": "7a18e2be-7ff9-4448-92fe-1c7e78f054fa",
   "metadata": {},
   "outputs": [
    {
     "data": {
      "text/plain": [
       "array([[71, 24, 12, 89,  0, 57, 40, 38, 69, 52],\n",
       "       [33,  8,  3, 76,  4, 37, 27, 51, 20, 38],\n",
       "       [83, 97, 23, 95, 54, 30, 76, 89, 26,  8],\n",
       "       [11,  6,  9, 45, 50, 46, 34, 87, 80, 95],\n",
       "       [14, 31,  0, 59, 95, 64, 26, 81, 89,  8],\n",
       "       [50, 37, 56, 94, 29, 99, 64, 87, 26, 70],\n",
       "       [ 3, 23, 53, 87, 50, 56, 22, 86, 80, 93],\n",
       "       [79, 46, 12, 80, 67, 98, 82, 95, 83, 71],\n",
       "       [97, 86, 68, 38, 67, 52,  3, 32, 17, 85],\n",
       "       [44, 48, 27, 58, 30, 58, 29, 54, 43, 68]])"
      ]
     },
     "execution_count": 62,
     "metadata": {},
     "output_type": "execute_result"
    }
   ],
   "source": [
    "arr2"
   ]
  },
  {
   "cell_type": "code",
   "execution_count": 64,
   "id": "d35335e8-257c-47df-a115-ad1bc17fcffe",
   "metadata": {},
   "outputs": [
    {
     "data": {
      "text/plain": [
       "array([[44, 48, 27, 58, 30, 58, 29, 54, 43, 68],\n",
       "       [97, 86, 68, 38, 67, 52,  3, 32, 17, 85],\n",
       "       [79, 46, 12, 80, 67, 98, 82, 95, 83, 71],\n",
       "       [ 3, 23, 53, 87, 50, 56, 22, 86, 80, 93],\n",
       "       [50, 37, 56, 94, 29, 99, 64, 87, 26, 70],\n",
       "       [14, 31,  0, 59, 95, 64, 26, 81, 89,  8],\n",
       "       [11,  6,  9, 45, 50, 46, 34, 87, 80, 95],\n",
       "       [83, 97, 23, 95, 54, 30, 76, 89, 26,  8],\n",
       "       [33,  8,  3, 76,  4, 37, 27, 51, 20, 38],\n",
       "       [71, 24, 12, 89,  0, 57, 40, 38, 69, 52]])"
      ]
     },
     "execution_count": 64,
     "metadata": {},
     "output_type": "execute_result"
    }
   ],
   "source": [
    "arr2[::-1]"
   ]
  },
  {
   "cell_type": "code",
   "execution_count": 68,
   "id": "54cd149e-3179-42e5-a022-af00c2811432",
   "metadata": {},
   "outputs": [
    {
     "data": {
      "text/plain": [
       "array([[71, 24, 12, 89,  0, 57, 40, 38, 69, 52],\n",
       "       [33,  8,  3, 76,  4, 37, 27, 51, 20, 38],\n",
       "       [83, 97, 23, 95, 54, 30, 76, 89, 26,  8],\n",
       "       [11,  6,  9, 45, 50, 46, 34, 87, 80, 95],\n",
       "       [14, 31,  0, 59, 95, 64, 26, 81, 89,  8],\n",
       "       [50, 37, 56, 94, 29, 99, 64, 87, 26, 70],\n",
       "       [ 3, 23, 53, 87, 50, 56, 22, 86, 80, 93],\n",
       "       [79, 46, 12, 80, 67, 98, 82, 95, 83, 71],\n",
       "       [97, 86, 68, 38, 67, 52,  3, 32, 17, 85],\n",
       "       [44, 48, 27, 58, 30, 58, 29, 54, 43, 68]])"
      ]
     },
     "execution_count": 68,
     "metadata": {},
     "output_type": "execute_result"
    }
   ],
   "source": [
    "arr2"
   ]
  },
  {
   "cell_type": "code",
   "execution_count": 66,
   "id": "8cfe3e90-e474-44fd-b0a3-4fc401214252",
   "metadata": {},
   "outputs": [
    {
     "data": {
      "text/plain": [
       "array([[44, 48, 27, 58, 30, 58, 29, 54, 43, 68],\n",
       "       [79, 46, 12, 80, 67, 98, 82, 95, 83, 71],\n",
       "       [50, 37, 56, 94, 29, 99, 64, 87, 26, 70],\n",
       "       [11,  6,  9, 45, 50, 46, 34, 87, 80, 95],\n",
       "       [33,  8,  3, 76,  4, 37, 27, 51, 20, 38]])"
      ]
     },
     "execution_count": 66,
     "metadata": {},
     "output_type": "execute_result"
    }
   ],
   "source": [
    "arr2[::-2]"
   ]
  },
  {
   "cell_type": "code",
   "execution_count": 70,
   "id": "4d4d71b3-e422-4efd-a847-90d18c0bb1b8",
   "metadata": {},
   "outputs": [
    {
     "data": {
      "text/plain": [
       "array([[44, 48, 27, 58, 30, 58, 29, 54, 43, 68],\n",
       "       [ 3, 23, 53, 87, 50, 56, 22, 86, 80, 93],\n",
       "       [11,  6,  9, 45, 50, 46, 34, 87, 80, 95],\n",
       "       [71, 24, 12, 89,  0, 57, 40, 38, 69, 52]])"
      ]
     },
     "execution_count": 70,
     "metadata": {},
     "output_type": "execute_result"
    }
   ],
   "source": [
    "arr2[::-3]"
   ]
  },
  {
   "cell_type": "code",
   "execution_count": 72,
   "id": "4079760a-0469-4cea-b2e4-755cc34b2b55",
   "metadata": {},
   "outputs": [
    {
     "data": {
      "text/plain": [
       "array([[71, 24, 12, 89,  0, 57, 40, 38, 69, 52],\n",
       "       [33,  8,  3, 76,  4, 37, 27, 51, 20, 38],\n",
       "       [83, 97, 23, 95, 54, 30, 76, 89, 26,  8],\n",
       "       [11,  6,  9, 45, 50, 46, 34, 87, 80, 95],\n",
       "       [14, 31,  0, 59, 95, 64, 26, 81, 89,  8],\n",
       "       [50, 37, 56, 94, 29, 99, 64, 87, 26, 70],\n",
       "       [ 3, 23, 53, 87, 50, 56, 22, 86, 80, 93],\n",
       "       [79, 46, 12, 80, 67, 98, 82, 95, 83, 71],\n",
       "       [97, 86, 68, 38, 67, 52,  3, 32, 17, 85],\n",
       "       [44, 48, 27, 58, 30, 58, 29, 54, 43, 68]])"
      ]
     },
     "execution_count": 72,
     "metadata": {},
     "output_type": "execute_result"
    }
   ],
   "source": [
    "arr2"
   ]
  },
  {
   "cell_type": "code",
   "execution_count": 74,
   "id": "7ebb6d7d-ca73-4149-aff7-35b567580bb8",
   "metadata": {},
   "outputs": [
    {
     "data": {
      "text/plain": [
       "array([[71, 24, 12, 89,  0, 57, 40, 38, 69, 52],\n",
       "       [33,  8,  3, 76,  4, 37, 27, 51, 20, 38],\n",
       "       [83, 97, 23, 95, 54, 30, 76, 89, 26,  8],\n",
       "       [11,  6,  9, 45, 50, 46, 34, 87, 80, 95],\n",
       "       [14, 31,  0, 59, 95, 64, 26, 81, 89,  8],\n",
       "       [50, 37, 56, 94, 29, 99, 64, 87, 26, 70],\n",
       "       [ 3, 23, 53, 87, 50, 56, 22, 86, 80, 93]])"
      ]
     },
     "execution_count": 74,
     "metadata": {},
     "output_type": "execute_result"
    }
   ],
   "source": [
    "arr2[:-3]"
   ]
  },
  {
   "cell_type": "code",
   "execution_count": 76,
   "id": "9d9d6593-4920-4152-9586-bc970576eb8d",
   "metadata": {},
   "outputs": [
    {
     "data": {
      "text/plain": [
       "array([0, 1, 2, 3, 4, 5])"
      ]
     },
     "execution_count": 76,
     "metadata": {},
     "output_type": "execute_result"
    }
   ],
   "source": [
    "arr"
   ]
  },
  {
   "cell_type": "code",
   "execution_count": 78,
   "id": "6e809b32-062d-4f01-bc6d-e0c2af31bf93",
   "metadata": {},
   "outputs": [
    {
     "data": {
      "text/plain": [
       "5"
      ]
     },
     "execution_count": 78,
     "metadata": {},
     "output_type": "execute_result"
    }
   ],
   "source": [
    "arr.max()"
   ]
  },
  {
   "cell_type": "code",
   "execution_count": 80,
   "id": "03c83e73-79e4-4c23-938d-1f0e6537dc98",
   "metadata": {},
   "outputs": [
    {
     "data": {
      "text/plain": [
       "0"
      ]
     },
     "execution_count": 80,
     "metadata": {},
     "output_type": "execute_result"
    }
   ],
   "source": [
    "arr.min()"
   ]
  },
  {
   "cell_type": "code",
   "execution_count": 82,
   "id": "67840bd6-b866-4cb4-892b-56d2a80063fe",
   "metadata": {},
   "outputs": [
    {
     "data": {
      "text/plain": [
       "2.5"
      ]
     },
     "execution_count": 82,
     "metadata": {},
     "output_type": "execute_result"
    }
   ],
   "source": [
    "arr.mean()"
   ]
  },
  {
   "cell_type": "code",
   "execution_count": 84,
   "id": "7a91a666-fe2b-4ed2-9e09-5967b49abe52",
   "metadata": {},
   "outputs": [
    {
     "ename": "AttributeError",
     "evalue": "'numpy.ndarray' object has no attribute 'median'",
     "output_type": "error",
     "traceback": [
      "\u001b[1;31m---------------------------------------------------------------------------\u001b[0m",
      "\u001b[1;31mAttributeError\u001b[0m                            Traceback (most recent call last)",
      "Cell \u001b[1;32mIn[84], line 1\u001b[0m\n\u001b[1;32m----> 1\u001b[0m arr\u001b[38;5;241m.\u001b[39mmedian()\n",
      "\u001b[1;31mAttributeError\u001b[0m: 'numpy.ndarray' object has no attribute 'median'"
     ]
    }
   ],
   "source": [
    "arr.median()"
   ]
  },
  {
   "cell_type": "code",
   "execution_count": 86,
   "id": "0db5a950-dd37-43e7-a940-e7c0ce910d5f",
   "metadata": {},
   "outputs": [
    {
     "data": {
      "text/plain": [
       "3.0"
      ]
     },
     "execution_count": 86,
     "metadata": {},
     "output_type": "execute_result"
    }
   ],
   "source": [
    "from numpy import *\n",
    "a = array([1,2,3,4,9])\n",
    "median(a)"
   ]
  },
  {
   "cell_type": "code",
   "execution_count": 88,
   "id": "2c5ac819-2465-4e2e-bdd0-550f3c302287",
   "metadata": {},
   "outputs": [
    {
     "data": {
      "text/plain": [
       "array([0, 1, 2, 3, 4, 5])"
      ]
     },
     "execution_count": 88,
     "metadata": {},
     "output_type": "execute_result"
    }
   ],
   "source": [
    "arr"
   ]
  },
  {
   "cell_type": "code",
   "execution_count": 90,
   "id": "9957fd99-fff9-47a6-bc38-0c4262d0e9da",
   "metadata": {},
   "outputs": [
    {
     "data": {
      "text/plain": [
       "array([[0, 1],\n",
       "       [2, 3],\n",
       "       [4, 5]])"
      ]
     },
     "execution_count": 90,
     "metadata": {},
     "output_type": "execute_result"
    }
   ],
   "source": [
    "arr.reshape(3,2)"
   ]
  },
  {
   "cell_type": "code",
   "execution_count": 92,
   "id": "6cfc4e18-85e8-41e2-b76f-7463dcd1bf61",
   "metadata": {},
   "outputs": [
    {
     "data": {
      "text/plain": [
       "array([[0],\n",
       "       [1],\n",
       "       [2],\n",
       "       [3],\n",
       "       [4],\n",
       "       [5]])"
      ]
     },
     "execution_count": 92,
     "metadata": {},
     "output_type": "execute_result"
    }
   ],
   "source": [
    "arr.reshape(6,1)"
   ]
  },
  {
   "cell_type": "code",
   "execution_count": 102,
   "id": "b875f63b-ea11-4041-9dbd-5cfd449e7ccd",
   "metadata": {},
   "outputs": [
    {
     "data": {
      "text/plain": [
       "array([[0, 1],\n",
       "       [2, 3],\n",
       "       [4, 5]])"
      ]
     },
     "execution_count": 102,
     "metadata": {},
     "output_type": "execute_result"
    }
   ],
   "source": [
    "arr.reshape(3,2)"
   ]
  },
  {
   "cell_type": "code",
   "execution_count": 108,
   "id": "1e8c8c76-a24d-4136-aa4c-bbfbdf829d58",
   "metadata": {},
   "outputs": [
    {
     "data": {
      "text/plain": [
       "array([[0, 1, 2],\n",
       "       [3, 4, 5]])"
      ]
     },
     "execution_count": 108,
     "metadata": {},
     "output_type": "execute_result"
    }
   ],
   "source": [
    "arr.reshape(2,3,order = 'C')"
   ]
  },
  {
   "cell_type": "code",
   "execution_count": 110,
   "id": "bf0f450a-5030-4f4d-a986-0938dd0d51f8",
   "metadata": {},
   "outputs": [
    {
     "data": {
      "text/plain": [
       "array([[0, 2, 4],\n",
       "       [1, 3, 5]])"
      ]
     },
     "execution_count": 110,
     "metadata": {},
     "output_type": "execute_result"
    }
   ],
   "source": [
    "arr.reshape(2,3,order = 'F')"
   ]
  },
  {
   "cell_type": "code",
   "execution_count": 112,
   "id": "eebdef5b-1c9c-4e8b-8cd2-df3c51398057",
   "metadata": {},
   "outputs": [
    {
     "data": {
      "text/plain": [
       "array([[0, 1, 2],\n",
       "       [3, 4, 5]])"
      ]
     },
     "execution_count": 112,
     "metadata": {},
     "output_type": "execute_result"
    }
   ],
   "source": [
    "arr.reshape(2,3,order = 'A')"
   ]
  },
  {
   "cell_type": "markdown",
   "id": "68ea7e4a-9e50-4938-8eeb-d33d964a1b4f",
   "metadata": {},
   "source": [
    "# Indexing"
   ]
  },
  {
   "cell_type": "code",
   "execution_count": 119,
   "id": "0339069a-ce2f-42ec-882d-5a132228bb1e",
   "metadata": {},
   "outputs": [
    {
     "data": {
      "text/plain": [
       "array([[ 0,  1,  2,  3,  4,  5,  6,  7,  8,  9],\n",
       "       [10, 11, 12, 13, 14, 15, 16, 17, 18, 19],\n",
       "       [20, 21, 22, 23, 24, 25, 26, 27, 28, 29],\n",
       "       [30, 31, 32, 33, 34, 35, 36, 37, 38, 39],\n",
       "       [40, 41, 42, 43, 44, 45, 46, 47, 48, 49],\n",
       "       [50, 51, 52, 53, 54, 55, 56, 57, 58, 59],\n",
       "       [60, 61, 62, 63, 64, 65, 66, 67, 68, 69],\n",
       "       [70, 71, 72, 73, 74, 75, 76, 77, 78, 79],\n",
       "       [80, 81, 82, 83, 84, 85, 86, 87, 88, 89],\n",
       "       [90, 91, 92, 93, 94, 95, 96, 97, 98, 99]])"
      ]
     },
     "execution_count": 119,
     "metadata": {},
     "output_type": "execute_result"
    }
   ],
   "source": [
    "mat = np.arange(0,100).reshape(10,10)\n",
    "mat"
   ]
  },
  {
   "cell_type": "code",
   "execution_count": 121,
   "id": "f021f73f-502d-4151-b3d3-4fe208b0f461",
   "metadata": {},
   "outputs": [],
   "source": [
    "row = 4\n",
    "col = 5"
   ]
  },
  {
   "cell_type": "code",
   "execution_count": 127,
   "id": "96cd5017-ca6c-41d1-ae9f-07b766105e52",
   "metadata": {},
   "outputs": [
    {
     "data": {
      "text/plain": [
       "5"
      ]
     },
     "execution_count": 127,
     "metadata": {},
     "output_type": "execute_result"
    }
   ],
   "source": [
    "col"
   ]
  },
  {
   "cell_type": "code",
   "execution_count": 129,
   "id": "72712e1d-6b61-4def-a229-d9b6bada4144",
   "metadata": {},
   "outputs": [
    {
     "data": {
      "text/plain": [
       "4"
      ]
     },
     "execution_count": 129,
     "metadata": {},
     "output_type": "execute_result"
    }
   ],
   "source": [
    "row"
   ]
  },
  {
   "cell_type": "code",
   "execution_count": 131,
   "id": "e47268c1-b820-4e46-a45a-60cd10517a9b",
   "metadata": {},
   "outputs": [
    {
     "data": {
      "text/plain": [
       "array([[ 0,  1,  2,  3,  4,  5,  6,  7,  8,  9],\n",
       "       [10, 11, 12, 13, 14, 15, 16, 17, 18, 19],\n",
       "       [20, 21, 22, 23, 24, 25, 26, 27, 28, 29],\n",
       "       [30, 31, 32, 33, 34, 35, 36, 37, 38, 39],\n",
       "       [40, 41, 42, 43, 44, 45, 46, 47, 48, 49],\n",
       "       [50, 51, 52, 53, 54, 55, 56, 57, 58, 59],\n",
       "       [60, 61, 62, 63, 64, 65, 66, 67, 68, 69],\n",
       "       [70, 71, 72, 73, 74, 75, 76, 77, 78, 79],\n",
       "       [80, 81, 82, 83, 84, 85, 86, 87, 88, 89],\n",
       "       [90, 91, 92, 93, 94, 95, 96, 97, 98, 99]])"
      ]
     },
     "execution_count": 131,
     "metadata": {},
     "output_type": "execute_result"
    }
   ],
   "source": [
    "mat"
   ]
  },
  {
   "cell_type": "code",
   "execution_count": 133,
   "id": "5e899cfb-c0e3-4c41-b9f3-b98fb2fe0349",
   "metadata": {},
   "outputs": [
    {
     "data": {
      "text/plain": [
       "45"
      ]
     },
     "execution_count": 133,
     "metadata": {},
     "output_type": "execute_result"
    }
   ],
   "source": [
    "mat[row,col]"
   ]
  },
  {
   "cell_type": "code",
   "execution_count": 138,
   "id": "b238fddd-7896-4a3a-827f-2575a8a14f39",
   "metadata": {},
   "outputs": [
    {
     "data": {
      "text/plain": [
       "array([[ 0,  1,  2,  3,  4,  5,  6,  7,  8,  9],\n",
       "       [10, 11, 12, 13, 14, 15, 16, 17, 18, 19],\n",
       "       [20, 21, 22, 23, 24, 25, 26, 27, 28, 29],\n",
       "       [30, 31, 32, 33, 34, 35, 36, 37, 38, 39],\n",
       "       [40, 41, 42, 43, 44, 45, 46, 47, 48, 49],\n",
       "       [50, 51, 52, 53, 54, 55, 56, 57, 58, 59],\n",
       "       [60, 61, 62, 63, 64, 65, 66, 67, 68, 69],\n",
       "       [70, 71, 72, 73, 74, 75, 76, 77, 78, 79],\n",
       "       [80, 81, 82, 83, 84, 85, 86, 87, 88, 89],\n",
       "       [90, 91, 92, 93, 94, 95, 96, 97, 98, 99]])"
      ]
     },
     "execution_count": 138,
     "metadata": {},
     "output_type": "execute_result"
    }
   ],
   "source": [
    "mat[4,5]\n",
    "mat"
   ]
  },
  {
   "cell_type": "code",
   "execution_count": 140,
   "id": "a4a94199-127b-48f5-b953-2359120a1a2c",
   "metadata": {},
   "outputs": [
    {
     "data": {
      "text/plain": [
       "array([[ 0,  1,  2,  3,  4,  5,  6,  7,  8,  9],\n",
       "       [10, 11, 12, 13, 14, 15, 16, 17, 18, 19],\n",
       "       [20, 21, 22, 23, 24, 25, 26, 27, 28, 29],\n",
       "       [30, 31, 32, 33, 34, 35, 36, 37, 38, 39],\n",
       "       [40, 41, 42, 43, 44, 45, 46, 47, 48, 49],\n",
       "       [50, 51, 52, 53, 54, 55, 56, 57, 58, 59],\n",
       "       [60, 61, 62, 63, 64, 65, 66, 67, 68, 69],\n",
       "       [70, 71, 72, 73, 74, 75, 76, 77, 78, 79],\n",
       "       [80, 81, 82, 83, 84, 85, 86, 87, 88, 89],\n",
       "       [90, 91, 92, 93, 94, 95, 96, 97, 98, 99]])"
      ]
     },
     "execution_count": 140,
     "metadata": {},
     "output_type": "execute_result"
    }
   ],
   "source": [
    "mat[:]"
   ]
  },
  {
   "cell_type": "code",
   "execution_count": 142,
   "id": "24930ef7-6f5f-446c-9645-55b6649e0601",
   "metadata": {},
   "outputs": [
    {
     "data": {
      "text/plain": [
       "array([60, 61, 62, 63, 64, 65, 66, 67, 68, 69])"
      ]
     },
     "execution_count": 142,
     "metadata": {},
     "output_type": "execute_result"
    }
   ],
   "source": [
    "mat[6]"
   ]
  },
  {
   "cell_type": "code",
   "execution_count": 144,
   "id": "a78e6b6e-ebb9-4459-8dee-93f8d34f1b19",
   "metadata": {},
   "outputs": [
    {
     "data": {
      "text/plain": [
       "array([ 5, 15, 25, 35, 45, 55, 65, 75, 85, 95])"
      ]
     },
     "execution_count": 144,
     "metadata": {},
     "output_type": "execute_result"
    }
   ],
   "source": [
    "mat[:,col]"
   ]
  },
  {
   "cell_type": "code",
   "execution_count": 146,
   "id": "52ae5116-80ed-4106-88e0-7aaa3687b617",
   "metadata": {},
   "outputs": [
    {
     "data": {
      "text/plain": [
       "array([[ 0,  1,  2,  3,  4,  5,  6,  7,  8,  9],\n",
       "       [10, 11, 12, 13, 14, 15, 16, 17, 18, 19],\n",
       "       [20, 21, 22, 23, 24, 25, 26, 27, 28, 29],\n",
       "       [30, 31, 32, 33, 34, 35, 36, 37, 38, 39],\n",
       "       [40, 41, 42, 43, 44, 45, 46, 47, 48, 49],\n",
       "       [50, 51, 52, 53, 54, 55, 56, 57, 58, 59],\n",
       "       [60, 61, 62, 63, 64, 65, 66, 67, 68, 69],\n",
       "       [70, 71, 72, 73, 74, 75, 76, 77, 78, 79],\n",
       "       [80, 81, 82, 83, 84, 85, 86, 87, 88, 89],\n",
       "       [90, 91, 92, 93, 94, 95, 96, 97, 98, 99]])"
      ]
     },
     "execution_count": 146,
     "metadata": {},
     "output_type": "execute_result"
    }
   ],
   "source": [
    "mat"
   ]
  },
  {
   "cell_type": "code",
   "execution_count": 148,
   "id": "750dbb65-3b9d-4ad4-9055-5df9e50a5956",
   "metadata": {},
   "outputs": [
    {
     "data": {
      "text/plain": [
       "array([40, 41, 42, 43, 44, 45, 46, 47, 48, 49])"
      ]
     },
     "execution_count": 148,
     "metadata": {},
     "output_type": "execute_result"
    }
   ],
   "source": [
    "mat[row,:]"
   ]
  },
  {
   "cell_type": "code",
   "execution_count": 150,
   "id": "222905e3-2c27-49ee-aa4b-6b764d760753",
   "metadata": {},
   "outputs": [
    {
     "data": {
      "text/plain": [
       "array([[ 0,  1,  2,  3,  4,  5,  6,  7,  8,  9],\n",
       "       [10, 11, 12, 13, 14, 15, 16, 17, 18, 19],\n",
       "       [20, 21, 22, 23, 24, 25, 26, 27, 28, 29],\n",
       "       [30, 31, 32, 33, 34, 35, 36, 37, 38, 39],\n",
       "       [40, 41, 42, 43, 44, 45, 46, 47, 48, 49],\n",
       "       [50, 51, 52, 53, 54, 55, 56, 57, 58, 59],\n",
       "       [60, 61, 62, 63, 64, 65, 66, 67, 68, 69],\n",
       "       [70, 71, 72, 73, 74, 75, 76, 77, 78, 79],\n",
       "       [80, 81, 82, 83, 84, 85, 86, 87, 88, 89],\n",
       "       [90, 91, 92, 93, 94, 95, 96, 97, 98, 99]])"
      ]
     },
     "execution_count": 150,
     "metadata": {},
     "output_type": "execute_result"
    }
   ],
   "source": [
    "mat"
   ]
  },
  {
   "cell_type": "code",
   "execution_count": 152,
   "id": "022ffa43-cea9-4625-98a4-ac92d7c7247c",
   "metadata": {},
   "outputs": [
    {
     "data": {
      "text/plain": [
       "array([ 8, 18, 28, 38, 48, 58, 68, 78, 88, 98])"
      ]
     },
     "execution_count": 152,
     "metadata": {},
     "output_type": "execute_result"
    }
   ],
   "source": [
    "mat[:,8]"
   ]
  },
  {
   "cell_type": "code",
   "execution_count": 154,
   "id": "ea239e0f-f308-4201-b0bb-39d70849e43d",
   "metadata": {},
   "outputs": [
    {
     "data": {
      "text/plain": [
       "array([[ 0,  1,  2,  3,  4,  5,  6,  7,  8,  9],\n",
       "       [10, 11, 12, 13, 14, 15, 16, 17, 18, 19],\n",
       "       [20, 21, 22, 23, 24, 25, 26, 27, 28, 29],\n",
       "       [30, 31, 32, 33, 34, 35, 36, 37, 38, 39],\n",
       "       [40, 41, 42, 43, 44, 45, 46, 47, 48, 49]])"
      ]
     },
     "execution_count": 154,
     "metadata": {},
     "output_type": "execute_result"
    }
   ],
   "source": [
    "mat[:col]"
   ]
  },
  {
   "cell_type": "code",
   "execution_count": 156,
   "id": "48c228d1-514b-48e8-b071-e0a5f12fcdc8",
   "metadata": {},
   "outputs": [
    {
     "data": {
      "text/plain": [
       "array([[ 0,  1,  2,  3,  4,  5,  6,  7,  8,  9],\n",
       "       [10, 11, 12, 13, 14, 15, 16, 17, 18, 19],\n",
       "       [20, 21, 22, 23, 24, 25, 26, 27, 28, 29],\n",
       "       [30, 31, 32, 33, 34, 35, 36, 37, 38, 39],\n",
       "       [40, 41, 42, 43, 44, 45, 46, 47, 48, 49],\n",
       "       [50, 51, 52, 53, 54, 55, 56, 57, 58, 59]])"
      ]
     },
     "execution_count": 156,
     "metadata": {},
     "output_type": "execute_result"
    }
   ],
   "source": [
    "mat[:6]"
   ]
  },
  {
   "cell_type": "code",
   "execution_count": null,
   "id": "4d59d983-0d85-4310-bb3f-cab187ea046a",
   "metadata": {},
   "outputs": [],
   "source": []
  },
  {
   "cell_type": "code",
   "execution_count": null,
   "id": "8a6acd9b-dd05-4fa4-a638-aeedb7c686ff",
   "metadata": {},
   "outputs": [],
   "source": []
  },
  {
   "cell_type": "code",
   "execution_count": null,
   "id": "2b4cae7a-d047-4795-9824-3cd4508e8e93",
   "metadata": {},
   "outputs": [],
   "source": []
  },
  {
   "cell_type": "code",
   "execution_count": 158,
   "id": "c8e3ba0c-4ebb-4bcd-8ef4-137fc7f6a3f4",
   "metadata": {},
   "outputs": [
    {
     "data": {
      "text/plain": [
       "array([[ 0,  1,  2,  3,  4,  5,  6,  7,  8,  9],\n",
       "       [10, 11, 12, 13, 14, 15, 16, 17, 18, 19],\n",
       "       [20, 21, 22, 23, 24, 25, 26, 27, 28, 29],\n",
       "       [30, 31, 32, 33, 34, 35, 36, 37, 38, 39]])"
      ]
     },
     "execution_count": 158,
     "metadata": {},
     "output_type": "execute_result"
    }
   ],
   "source": [
    "mat[:row]"
   ]
  },
  {
   "cell_type": "code",
   "execution_count": 160,
   "id": "88264395-3bbc-44f2-9550-007c7434ea7b",
   "metadata": {},
   "outputs": [
    {
     "data": {
      "text/plain": [
       "array([[ 0,  1,  2,  3,  4,  5,  6,  7,  8,  9],\n",
       "       [10, 11, 12, 13, 14, 15, 16, 17, 18, 19],\n",
       "       [20, 21, 22, 23, 24, 25, 26, 27, 28, 29],\n",
       "       [30, 31, 32, 33, 34, 35, 36, 37, 38, 39],\n",
       "       [40, 41, 42, 43, 44, 45, 46, 47, 48, 49],\n",
       "       [50, 51, 52, 53, 54, 55, 56, 57, 58, 59],\n",
       "       [60, 61, 62, 63, 64, 65, 66, 67, 68, 69],\n",
       "       [70, 71, 72, 73, 74, 75, 76, 77, 78, 79],\n",
       "       [80, 81, 82, 83, 84, 85, 86, 87, 88, 89],\n",
       "       [90, 91, 92, 93, 94, 95, 96, 97, 98, 99]])"
      ]
     },
     "execution_count": 160,
     "metadata": {},
     "output_type": "execute_result"
    }
   ],
   "source": [
    "mat"
   ]
  },
  {
   "cell_type": "code",
   "execution_count": 162,
   "id": "ca37d186-b4a4-4b21-a29c-ce56797af36c",
   "metadata": {},
   "outputs": [
    {
     "data": {
      "text/plain": [
       "array([[40, 41, 42, 43, 44, 45, 46, 47, 48, 49],\n",
       "       [50, 51, 52, 53, 54, 55, 56, 57, 58, 59],\n",
       "       [60, 61, 62, 63, 64, 65, 66, 67, 68, 69],\n",
       "       [70, 71, 72, 73, 74, 75, 76, 77, 78, 79],\n",
       "       [80, 81, 82, 83, 84, 85, 86, 87, 88, 89],\n",
       "       [90, 91, 92, 93, 94, 95, 96, 97, 98, 99]])"
      ]
     },
     "execution_count": 162,
     "metadata": {},
     "output_type": "execute_result"
    }
   ],
   "source": [
    "mat[row:]"
   ]
  },
  {
   "cell_type": "code",
   "execution_count": 164,
   "id": "f7c1618d-f1cf-4147-b444-674505fe8fe3",
   "metadata": {},
   "outputs": [
    {
     "data": {
      "text/plain": [
       "array([[ 0,  1,  2,  3,  4,  5,  6,  7,  8,  9],\n",
       "       [10, 11, 12, 13, 14, 15, 16, 17, 18, 19],\n",
       "       [20, 21, 22, 23, 24, 25, 26, 27, 28, 29],\n",
       "       [30, 31, 32, 33, 34, 35, 36, 37, 38, 39],\n",
       "       [40, 41, 42, 43, 44, 45, 46, 47, 48, 49],\n",
       "       [50, 51, 52, 53, 54, 55, 56, 57, 58, 59],\n",
       "       [60, 61, 62, 63, 64, 65, 66, 67, 68, 69],\n",
       "       [70, 71, 72, 73, 74, 75, 76, 77, 78, 79],\n",
       "       [80, 81, 82, 83, 84, 85, 86, 87, 88, 89],\n",
       "       [90, 91, 92, 93, 94, 95, 96, 97, 98, 99]])"
      ]
     },
     "execution_count": 164,
     "metadata": {},
     "output_type": "execute_result"
    }
   ],
   "source": [
    "mat"
   ]
  },
  {
   "cell_type": "code",
   "execution_count": 166,
   "id": "5b13c4b0-169a-4b7f-b4ee-c7c63f9290ae",
   "metadata": {},
   "outputs": [
    {
     "data": {
      "text/plain": [
       "array([ 8, 18, 28, 38, 48, 58, 68, 78, 88, 98])"
      ]
     },
     "execution_count": 166,
     "metadata": {},
     "output_type": "execute_result"
    }
   ],
   "source": [
    "mat[:,8]"
   ]
  },
  {
   "cell_type": "code",
   "execution_count": 168,
   "id": "371330b5-4a34-480a-995c-e7cb230d630c",
   "metadata": {},
   "outputs": [
    {
     "data": {
      "text/plain": [
       "array([ 9, 19, 29, 39, 49, 59, 69, 79, 89, 99])"
      ]
     },
     "execution_count": 168,
     "metadata": {},
     "output_type": "execute_result"
    }
   ],
   "source": [
    "mat[:,-1]"
   ]
  },
  {
   "cell_type": "code",
   "execution_count": 170,
   "id": "5030f003-8617-4ff0-8b68-6808751c0490",
   "metadata": {},
   "outputs": [
    {
     "data": {
      "text/plain": [
       "array([ 5, 15, 25, 35, 45, 55, 65, 75, 85, 95])"
      ]
     },
     "execution_count": 170,
     "metadata": {},
     "output_type": "execute_result"
    }
   ],
   "source": [
    "mat[:,col]"
   ]
  },
  {
   "cell_type": "code",
   "execution_count": 172,
   "id": "9f5c7b45-701e-459a-a5b3-04fc5f0af6f9",
   "metadata": {},
   "outputs": [
    {
     "data": {
      "text/plain": [
       "14"
      ]
     },
     "execution_count": 172,
     "metadata": {},
     "output_type": "execute_result"
    }
   ],
   "source": [
    "mat[1,4]"
   ]
  },
  {
   "cell_type": "code",
   "execution_count": 174,
   "id": "74a09e7b-7f3f-4aea-80b4-e4ac1285c21a",
   "metadata": {},
   "outputs": [
    {
     "data": {
      "text/plain": [
       "array([[10, 11, 12, 13, 14, 15, 16, 17, 18, 19],\n",
       "       [20, 21, 22, 23, 24, 25, 26, 27, 28, 29],\n",
       "       [30, 31, 32, 33, 34, 35, 36, 37, 38, 39]])"
      ]
     },
     "execution_count": 174,
     "metadata": {},
     "output_type": "execute_result"
    }
   ],
   "source": [
    "mat[1:4]"
   ]
  },
  {
   "cell_type": "code",
   "execution_count": 176,
   "id": "215702ee-998a-41ce-b4ab-6c7365bc5e0c",
   "metadata": {},
   "outputs": [
    {
     "data": {
      "text/plain": [
       "array([[30, 31, 32, 33, 34, 35, 36, 37, 38, 39],\n",
       "       [40, 41, 42, 43, 44, 45, 46, 47, 48, 49],\n",
       "       [50, 51, 52, 53, 54, 55, 56, 57, 58, 59],\n",
       "       [60, 61, 62, 63, 64, 65, 66, 67, 68, 69]])"
      ]
     },
     "execution_count": 176,
     "metadata": {},
     "output_type": "execute_result"
    }
   ],
   "source": [
    "mat[3:-3]"
   ]
  },
  {
   "cell_type": "code",
   "execution_count": 178,
   "id": "2dc4e9d8-be56-44ac-9d41-6f66b3ecb84a",
   "metadata": {},
   "outputs": [
    {
     "data": {
      "text/plain": [
       "array([0, 1, 2, 3, 4, 5, 6, 7, 8, 9])"
      ]
     },
     "execution_count": 178,
     "metadata": {},
     "output_type": "execute_result"
    }
   ],
   "source": [
    "mat[0]"
   ]
  },
  {
   "cell_type": "code",
   "execution_count": 180,
   "id": "f6b2ae60-219a-4ccd-a45a-9de18f6ba14d",
   "metadata": {},
   "outputs": [
    {
     "data": {
      "text/plain": [
       "array([60, 61, 62, 63, 64, 65, 66, 67, 68, 69])"
      ]
     },
     "execution_count": 180,
     "metadata": {},
     "output_type": "execute_result"
    }
   ],
   "source": [
    "mat[6]"
   ]
  },
  {
   "cell_type": "code",
   "execution_count": 183,
   "id": "9e64df43-c3b1-4c2a-8ec3-eb7808d4074d",
   "metadata": {},
   "outputs": [
    {
     "data": {
      "text/plain": [
       "array([[ 0,  1,  2,  3,  4,  5,  6,  7,  8,  9],\n",
       "       [10, 11, 12, 13, 14, 15, 16, 17, 18, 19],\n",
       "       [20, 21, 22, 23, 24, 25, 26, 27, 28, 29],\n",
       "       [30, 31, 32, 33, 34, 35, 36, 37, 38, 39],\n",
       "       [40, 41, 42, 43, 44, 45, 46, 47, 48, 49],\n",
       "       [50, 51, 52, 53, 54, 55, 56, 57, 58, 59],\n",
       "       [60, 61, 62, 63, 64, 65, 66, 67, 68, 69],\n",
       "       [70, 71, 72, 73, 74, 75, 76, 77, 78, 79],\n",
       "       [80, 81, 82, 83, 84, 85, 86, 87, 88, 89],\n",
       "       [90, 91, 92, 93, 94, 95, 96, 97, 98, 99]])"
      ]
     },
     "execution_count": 183,
     "metadata": {},
     "output_type": "execute_result"
    }
   ],
   "source": [
    "mat"
   ]
  },
  {
   "cell_type": "code",
   "execution_count": 185,
   "id": "8563c07d-a583-4938-a8f3-91868c8357b4",
   "metadata": {},
   "outputs": [
    {
     "data": {
      "text/plain": [
       "array([[60, 61, 62, 63, 64, 65, 66, 67, 68, 69],\n",
       "       [70, 71, 72, 73, 74, 75, 76, 77, 78, 79],\n",
       "       [80, 81, 82, 83, 84, 85, 86, 87, 88, 89],\n",
       "       [90, 91, 92, 93, 94, 95, 96, 97, 98, 99]])"
      ]
     },
     "execution_count": 185,
     "metadata": {},
     "output_type": "execute_result"
    }
   ],
   "source": [
    "mat[6:]"
   ]
  },
  {
   "cell_type": "code",
   "execution_count": 187,
   "id": "39d7beb3-6e2d-4914-bbe1-6dfe45476455",
   "metadata": {},
   "outputs": [
    {
     "data": {
      "text/plain": [
       "array([[ 0,  1,  2,  3,  4,  5,  6,  7,  8,  9],\n",
       "       [10, 11, 12, 13, 14, 15, 16, 17, 18, 19],\n",
       "       [20, 21, 22, 23, 24, 25, 26, 27, 28, 29],\n",
       "       [30, 31, 32, 33, 34, 35, 36, 37, 38, 39],\n",
       "       [40, 41, 42, 43, 44, 45, 46, 47, 48, 49],\n",
       "       [50, 51, 52, 53, 54, 55, 56, 57, 58, 59]])"
      ]
     },
     "execution_count": 187,
     "metadata": {},
     "output_type": "execute_result"
    }
   ],
   "source": [
    "mat[:6]"
   ]
  },
  {
   "cell_type": "code",
   "execution_count": 189,
   "id": "18fe69d3-9907-46c9-9783-06d662c257ca",
   "metadata": {},
   "outputs": [
    {
     "data": {
      "text/plain": [
       "array([[ 0,  1,  2,  3,  4,  5,  6,  7,  8,  9],\n",
       "       [10, 11, 12, 13, 14, 15, 16, 17, 18, 19],\n",
       "       [20, 21, 22, 23, 24, 25, 26, 27, 28, 29],\n",
       "       [30, 31, 32, 33, 34, 35, 36, 37, 38, 39],\n",
       "       [40, 41, 42, 43, 44, 45, 46, 47, 48, 49],\n",
       "       [50, 51, 52, 53, 54, 55, 56, 57, 58, 59],\n",
       "       [60, 61, 62, 63, 64, 65, 66, 67, 68, 69],\n",
       "       [70, 71, 72, 73, 74, 75, 76, 77, 78, 79],\n",
       "       [80, 81, 82, 83, 84, 85, 86, 87, 88, 89],\n",
       "       [90, 91, 92, 93, 94, 95, 96, 97, 98, 99]])"
      ]
     },
     "execution_count": 189,
     "metadata": {},
     "output_type": "execute_result"
    }
   ],
   "source": [
    "mat"
   ]
  },
  {
   "cell_type": "code",
   "execution_count": 191,
   "id": "6c777798-cf3b-4264-8f1f-8f4365477808",
   "metadata": {},
   "outputs": [
    {
     "data": {
      "text/plain": [
       "array([[50, 51, 52, 53, 54, 55, 56, 57, 58, 59],\n",
       "       [60, 61, 62, 63, 64, 65, 66, 67, 68, 69]])"
      ]
     },
     "execution_count": 191,
     "metadata": {},
     "output_type": "execute_result"
    }
   ],
   "source": [
    "mat[5:7]"
   ]
  },
  {
   "cell_type": "code",
   "execution_count": 193,
   "id": "be3185b5-b4a2-452b-93c7-451196df5aff",
   "metadata": {},
   "outputs": [
    {
     "data": {
      "text/plain": [
       "array([[ 0,  1,  2,  3,  4,  5,  6,  7,  8,  9],\n",
       "       [10, 11, 12, 13, 14, 15, 16, 17, 18, 19],\n",
       "       [20, 21, 22, 23, 24, 25, 26, 27, 28, 29],\n",
       "       [30, 31, 32, 33, 34, 35, 36, 37, 38, 39],\n",
       "       [40, 41, 42, 43, 44, 45, 46, 47, 48, 49],\n",
       "       [50, 51, 52, 53, 54, 55, 56, 57, 58, 59],\n",
       "       [60, 61, 62, 63, 64, 65, 66, 67, 68, 69],\n",
       "       [70, 71, 72, 73, 74, 75, 76, 77, 78, 79],\n",
       "       [80, 81, 82, 83, 84, 85, 86, 87, 88, 89],\n",
       "       [90, 91, 92, 93, 94, 95, 96, 97, 98, 99]])"
      ]
     },
     "execution_count": 193,
     "metadata": {},
     "output_type": "execute_result"
    }
   ],
   "source": [
    "mat[0:10]"
   ]
  },
  {
   "cell_type": "code",
   "execution_count": 195,
   "id": "a145979b-b3ae-44c9-8a6a-a5b318c014e5",
   "metadata": {},
   "outputs": [
    {
     "data": {
      "text/plain": [
       "array([[ 0,  1,  2,  3,  4,  5,  6,  7,  8,  9],\n",
       "       [30, 31, 32, 33, 34, 35, 36, 37, 38, 39],\n",
       "       [60, 61, 62, 63, 64, 65, 66, 67, 68, 69],\n",
       "       [90, 91, 92, 93, 94, 95, 96, 97, 98, 99]])"
      ]
     },
     "execution_count": 195,
     "metadata": {},
     "output_type": "execute_result"
    }
   ],
   "source": [
    "mat[0:10:3]"
   ]
  },
  {
   "cell_type": "code",
   "execution_count": 197,
   "id": "a71c7755-1ad0-4d0a-b672-1cb5629a7015",
   "metadata": {},
   "outputs": [
    {
     "data": {
      "text/plain": [
       "array([[40, 41, 42, 43, 44, 45, 46, 47, 48, 49],\n",
       "       [50, 51, 52, 53, 54, 55, 56, 57, 58, 59],\n",
       "       [60, 61, 62, 63, 64, 65, 66, 67, 68, 69],\n",
       "       [70, 71, 72, 73, 74, 75, 76, 77, 78, 79],\n",
       "       [80, 81, 82, 83, 84, 85, 86, 87, 88, 89],\n",
       "       [90, 91, 92, 93, 94, 95, 96, 97, 98, 99]])"
      ]
     },
     "execution_count": 197,
     "metadata": {},
     "output_type": "execute_result"
    }
   ],
   "source": [
    "mat[4:]"
   ]
  },
  {
   "cell_type": "code",
   "execution_count": 199,
   "id": "42938a0d-63e6-4380-94fd-4bd02b3bf5bc",
   "metadata": {},
   "outputs": [
    {
     "data": {
      "text/plain": [
       "array([[ 0,  1,  2,  3,  4,  5,  6,  7,  8,  9],\n",
       "       [10, 11, 12, 13, 14, 15, 16, 17, 18, 19],\n",
       "       [20, 21, 22, 23, 24, 25, 26, 27, 28, 29],\n",
       "       [30, 31, 32, 33, 34, 35, 36, 37, 38, 39]])"
      ]
     },
     "execution_count": 199,
     "metadata": {},
     "output_type": "execute_result"
    }
   ],
   "source": [
    "mat[:4]"
   ]
  },
  {
   "cell_type": "code",
   "execution_count": 207,
   "id": "a9d1a307-0ae0-407e-87e0-cb0fa115c56c",
   "metadata": {},
   "outputs": [
    {
     "data": {
      "text/plain": [
       "array([[90, 91, 92, 93, 94, 95, 96, 97, 98, 99],\n",
       "       [80, 81, 82, 83, 84, 85, 86, 87, 88, 89],\n",
       "       [70, 71, 72, 73, 74, 75, 76, 77, 78, 79],\n",
       "       [60, 61, 62, 63, 64, 65, 66, 67, 68, 69],\n",
       "       [50, 51, 52, 53, 54, 55, 56, 57, 58, 59],\n",
       "       [40, 41, 42, 43, 44, 45, 46, 47, 48, 49],\n",
       "       [30, 31, 32, 33, 34, 35, 36, 37, 38, 39],\n",
       "       [20, 21, 22, 23, 24, 25, 26, 27, 28, 29],\n",
       "       [10, 11, 12, 13, 14, 15, 16, 17, 18, 19],\n",
       "       [ 0,  1,  2,  3,  4,  5,  6,  7,  8,  9]])"
      ]
     },
     "execution_count": 207,
     "metadata": {},
     "output_type": "execute_result"
    }
   ],
   "source": [
    "mat[::-1]"
   ]
  },
  {
   "cell_type": "code",
   "execution_count": 203,
   "id": "c35e8dfc-aa69-4074-b6d1-f4c4e7d40444",
   "metadata": {},
   "outputs": [
    {
     "data": {
      "text/plain": [
       "array([[90, 91, 92, 93, 94, 95, 96, 97, 98, 99],\n",
       "       [60, 61, 62, 63, 64, 65, 66, 67, 68, 69],\n",
       "       [30, 31, 32, 33, 34, 35, 36, 37, 38, 39],\n",
       "       [ 0,  1,  2,  3,  4,  5,  6,  7,  8,  9]])"
      ]
     },
     "execution_count": 203,
     "metadata": {},
     "output_type": "execute_result"
    }
   ],
   "source": [
    "mat[::-3]"
   ]
  },
  {
   "cell_type": "code",
   "execution_count": 205,
   "id": "6683abdb-8837-40ee-8969-381ba6c37dfa",
   "metadata": {},
   "outputs": [
    {
     "data": {
      "text/plain": [
       "array([[90, 91, 92, 93, 94, 95, 96, 97, 98, 99],\n",
       "       [40, 41, 42, 43, 44, 45, 46, 47, 48, 49]])"
      ]
     },
     "execution_count": 205,
     "metadata": {},
     "output_type": "execute_result"
    }
   ],
   "source": [
    "mat[::-5]"
   ]
  },
  {
   "cell_type": "code",
   "execution_count": 209,
   "id": "f031d476-ed61-420d-add8-83a0630160a7",
   "metadata": {},
   "outputs": [
    {
     "data": {
      "text/plain": [
       "array([[20, 21, 22, 23, 24, 25, 26, 27, 28, 29],\n",
       "       [30, 31, 32, 33, 34, 35, 36, 37, 38, 39],\n",
       "       [40, 41, 42, 43, 44, 45, 46, 47, 48, 49],\n",
       "       [50, 51, 52, 53, 54, 55, 56, 57, 58, 59]])"
      ]
     },
     "execution_count": 209,
     "metadata": {},
     "output_type": "execute_result"
    }
   ],
   "source": [
    "mat[2:6]"
   ]
  },
  {
   "cell_type": "code",
   "execution_count": 211,
   "id": "aed22403-66e0-4079-b9ca-b7eaec5ca7a9",
   "metadata": {},
   "outputs": [
    {
     "data": {
      "text/plain": [
       "array([[ 0,  1,  2,  3,  4,  5,  6,  7,  8,  9],\n",
       "       [10, 11, 12, 13, 14, 15, 16, 17, 18, 19],\n",
       "       [20, 21, 22, 23, 24, 25, 26, 27, 28, 29],\n",
       "       [30, 31, 32, 33, 34, 35, 36, 37, 38, 39],\n",
       "       [40, 41, 42, 43, 44, 45, 46, 47, 48, 49],\n",
       "       [50, 51, 52, 53, 54, 55, 56, 57, 58, 59],\n",
       "       [60, 61, 62, 63, 64, 65, 66, 67, 68, 69],\n",
       "       [70, 71, 72, 73, 74, 75, 76, 77, 78, 79],\n",
       "       [80, 81, 82, 83, 84, 85, 86, 87, 88, 89],\n",
       "       [90, 91, 92, 93, 94, 95, 96, 97, 98, 99]])"
      ]
     },
     "execution_count": 211,
     "metadata": {},
     "output_type": "execute_result"
    }
   ],
   "source": [
    "mat"
   ]
  },
  {
   "cell_type": "code",
   "execution_count": 213,
   "id": "6fea672c-3da8-4742-aa43-72c4fb19a60c",
   "metadata": {},
   "outputs": [
    {
     "data": {
      "text/plain": [
       "array([[22, 23],\n",
       "       [32, 33],\n",
       "       [42, 43],\n",
       "       [52, 53]])"
      ]
     },
     "execution_count": 213,
     "metadata": {},
     "output_type": "execute_result"
    }
   ],
   "source": [
    "mat[2:6,2:4]"
   ]
  },
  {
   "cell_type": "code",
   "execution_count": 215,
   "id": "309703c4-e329-471d-b96c-dfdaf678a657",
   "metadata": {},
   "outputs": [
    {
     "data": {
      "text/plain": [
       "1"
      ]
     },
     "execution_count": 215,
     "metadata": {},
     "output_type": "execute_result"
    }
   ],
   "source": [
    "mat[0,1]"
   ]
  },
  {
   "cell_type": "code",
   "execution_count": 217,
   "id": "b9063cd5-54cd-48de-afe2-62c966e9219c",
   "metadata": {},
   "outputs": [
    {
     "data": {
      "text/plain": [
       "16"
      ]
     },
     "execution_count": 217,
     "metadata": {},
     "output_type": "execute_result"
    }
   ],
   "source": [
    "mat[1,6]"
   ]
  },
  {
   "cell_type": "code",
   "execution_count": 219,
   "id": "e9c2492b-2a71-4fff-9911-0509b73c7f3d",
   "metadata": {},
   "outputs": [
    {
     "data": {
      "text/plain": [
       "array([[10, 11, 12, 13, 14, 15, 16, 17, 18, 19],\n",
       "       [20, 21, 22, 23, 24, 25, 26, 27, 28, 29],\n",
       "       [30, 31, 32, 33, 34, 35, 36, 37, 38, 39],\n",
       "       [40, 41, 42, 43, 44, 45, 46, 47, 48, 49],\n",
       "       [50, 51, 52, 53, 54, 55, 56, 57, 58, 59]])"
      ]
     },
     "execution_count": 219,
     "metadata": {},
     "output_type": "execute_result"
    }
   ],
   "source": [
    "mat[1:6]"
   ]
  },
  {
   "cell_type": "code",
   "execution_count": 221,
   "id": "2297b080-c704-4fc6-bab5-ab95f82c86d4",
   "metadata": {},
   "outputs": [
    {
     "data": {
      "text/plain": [
       "array([[ 0,  1,  2,  3,  4,  5,  6,  7,  8,  9],\n",
       "       [10, 11, 12, 13, 14, 15, 16, 17, 18, 19],\n",
       "       [20, 21, 22, 23, 24, 25, 26, 27, 28, 29],\n",
       "       [30, 31, 32, 33, 34, 35, 36, 37, 38, 39],\n",
       "       [40, 41, 42, 43, 44, 45, 46, 47, 48, 49],\n",
       "       [50, 51, 52, 53, 54, 55, 56, 57, 58, 59],\n",
       "       [60, 61, 62, 63, 64, 65, 66, 67, 68, 69],\n",
       "       [70, 71, 72, 73, 74, 75, 76, 77, 78, 79],\n",
       "       [80, 81, 82, 83, 84, 85, 86, 87, 88, 89],\n",
       "       [90, 91, 92, 93, 94, 95, 96, 97, 98, 99]])"
      ]
     },
     "execution_count": 221,
     "metadata": {},
     "output_type": "execute_result"
    }
   ],
   "source": [
    "mat"
   ]
  },
  {
   "cell_type": "code",
   "execution_count": 223,
   "id": "f5203ccd-bccb-4fb2-82ba-1d7a5ef1d5d2",
   "metadata": {},
   "outputs": [
    {
     "data": {
      "text/plain": [
       "array([[12, 13]])"
      ]
     },
     "execution_count": 223,
     "metadata": {},
     "output_type": "execute_result"
    }
   ],
   "source": [
    "mat[1:2,2:4]"
   ]
  },
  {
   "cell_type": "markdown",
   "id": "1d473105-df5c-46ca-89ae-91c643a02b30",
   "metadata": {},
   "source": [
    "# Masking"
   ]
  },
  {
   "cell_type": "code",
   "execution_count": 226,
   "id": "5d0382bb-35c3-4a3a-857c-4677dd98a3cc",
   "metadata": {},
   "outputs": [
    {
     "data": {
      "text/plain": [
       "array([[ 0,  1,  2,  3,  4,  5,  6,  7,  8,  9],\n",
       "       [10, 11, 12, 13, 14, 15, 16, 17, 18, 19],\n",
       "       [20, 21, 22, 23, 24, 25, 26, 27, 28, 29],\n",
       "       [30, 31, 32, 33, 34, 35, 36, 37, 38, 39],\n",
       "       [40, 41, 42, 43, 44, 45, 46, 47, 48, 49],\n",
       "       [50, 51, 52, 53, 54, 55, 56, 57, 58, 59],\n",
       "       [60, 61, 62, 63, 64, 65, 66, 67, 68, 69],\n",
       "       [70, 71, 72, 73, 74, 75, 76, 77, 78, 79],\n",
       "       [80, 81, 82, 83, 84, 85, 86, 87, 88, 89],\n",
       "       [90, 91, 92, 93, 94, 95, 96, 97, 98, 99]])"
      ]
     },
     "execution_count": 226,
     "metadata": {},
     "output_type": "execute_result"
    }
   ],
   "source": [
    "mat"
   ]
  },
  {
   "cell_type": "code",
   "execution_count": 228,
   "id": "141c6f88-647e-499b-bdd2-523cc24ac16b",
   "metadata": {},
   "outputs": [
    {
     "data": {
      "text/plain": [
       "array([ 0,  1,  2,  3,  4,  5,  6,  7,  8,  9, 10, 11, 12, 13, 14, 15, 16,\n",
       "       17, 18, 19, 20, 21, 22, 23, 24, 25, 26, 27, 28, 29, 30, 31, 32, 33,\n",
       "       34, 35, 36, 37, 38, 39, 40, 41, 42, 43, 44, 45, 46, 47, 48, 49])"
      ]
     },
     "execution_count": 228,
     "metadata": {},
     "output_type": "execute_result"
    }
   ],
   "source": [
    "mat[mat < 50]"
   ]
  },
  {
   "cell_type": "code",
   "execution_count": 232,
   "id": "62a3e4b5-1b8f-4e5f-bb5f-c60933570e4c",
   "metadata": {},
   "outputs": [
    {
     "data": {
      "text/plain": [
       "array([ 0,  1,  2,  3,  4,  5,  6,  7,  8,  9, 10, 11, 12, 13, 14, 15, 16,\n",
       "       17, 18, 19, 20, 21, 22, 23, 24, 25, 26, 27, 28, 29, 30, 31, 32, 33,\n",
       "       34, 35, 36, 37, 38, 39, 40, 41, 42, 43, 44, 45, 46, 47, 48, 49, 50])"
      ]
     },
     "execution_count": 232,
     "metadata": {},
     "output_type": "execute_result"
    }
   ],
   "source": [
    "mat[mat <= 50]"
   ]
  },
  {
   "cell_type": "code",
   "execution_count": 234,
   "id": "492a10a7-52d1-4292-8a65-6373ff267b0d",
   "metadata": {},
   "outputs": [
    {
     "data": {
      "text/plain": [
       "array([[False, False, False, False, False, False, False, False, False,\n",
       "        False],\n",
       "       [False, False, False, False, False, False, False, False, False,\n",
       "        False],\n",
       "       [False, False, False, False, False, False, False, False, False,\n",
       "        False],\n",
       "       [False, False, False, False, False, False, False, False, False,\n",
       "        False],\n",
       "       [False, False, False, False, False, False, False, False, False,\n",
       "        False],\n",
       "       [False,  True,  True,  True,  True,  True,  True,  True,  True,\n",
       "         True],\n",
       "       [ True,  True,  True,  True,  True,  True,  True,  True,  True,\n",
       "         True],\n",
       "       [ True,  True,  True,  True,  True,  True,  True,  True,  True,\n",
       "         True],\n",
       "       [ True,  True,  True,  True,  True,  True,  True,  True,  True,\n",
       "         True],\n",
       "       [ True,  True,  True,  True,  True,  True,  True,  True,  True,\n",
       "         True]])"
      ]
     },
     "execution_count": 234,
     "metadata": {},
     "output_type": "execute_result"
    }
   ],
   "source": [
    "mat > 50"
   ]
  },
  {
   "cell_type": "code",
   "execution_count": 236,
   "id": "b4fbac5f-78d0-446b-85d6-09680d8fd92c",
   "metadata": {},
   "outputs": [
    {
     "data": {
      "text/plain": [
       "array([50])"
      ]
     },
     "execution_count": 236,
     "metadata": {},
     "output_type": "execute_result"
    }
   ],
   "source": [
    "mat[mat == 50]"
   ]
  },
  {
   "cell_type": "code",
   "execution_count": 238,
   "id": "980e22e4-8cfd-4c15-8a4a-b59fe3dc5e62",
   "metadata": {},
   "outputs": [
    {
     "data": {
      "text/plain": [
       "array([[False, False, False, False, False, False, False, False, False,\n",
       "        False],\n",
       "       [False, False, False, False, False, False, False, False, False,\n",
       "        False],\n",
       "       [False, False, False, False, False, False, False, False, False,\n",
       "        False],\n",
       "       [False, False, False, False, False, False, False, False, False,\n",
       "        False],\n",
       "       [False, False, False, False, False, False, False, False, False,\n",
       "        False],\n",
       "       [ True, False, False, False, False, False, False, False, False,\n",
       "        False],\n",
       "       [False, False, False, False, False, False, False, False, False,\n",
       "        False],\n",
       "       [False, False, False, False, False, False, False, False, False,\n",
       "        False],\n",
       "       [False, False, False, False, False, False, False, False, False,\n",
       "        False],\n",
       "       [False, False, False, False, False, False, False, False, False,\n",
       "        False]])"
      ]
     },
     "execution_count": 238,
     "metadata": {},
     "output_type": "execute_result"
    }
   ],
   "source": [
    "mat == 50"
   ]
  },
  {
   "cell_type": "code",
   "execution_count": 242,
   "id": "546cc003-70aa-4125-8d8a-41fd75cc2bc9",
   "metadata": {},
   "outputs": [
    {
     "data": {
      "text/plain": [
       "array([ 0,  1,  2,  3,  4,  5,  6,  7,  8,  9, 10, 11, 12, 13, 14, 15, 16,\n",
       "       17, 18, 19, 20, 21, 22, 23, 24, 25, 26, 27, 28, 29, 30, 31, 32, 33,\n",
       "       34, 35, 36, 37, 38, 39, 40, 41, 42, 43, 44, 45, 46, 47, 48, 49])"
      ]
     },
     "execution_count": 242,
     "metadata": {},
     "output_type": "execute_result"
    }
   ],
   "source": [
    "a1 = mat[mat < 50]\n",
    "a1"
   ]
  },
  {
   "cell_type": "code",
   "execution_count": 244,
   "id": "c1854993-51ba-40ce-9e6d-69675efa8580",
   "metadata": {},
   "outputs": [
    {
     "data": {
      "text/plain": [
       "array([51, 52, 53, 54, 55, 56, 57, 58, 59, 60, 61, 62, 63, 64, 65, 66, 67,\n",
       "       68, 69, 70, 71, 72, 73, 74, 75, 76, 77, 78, 79, 80, 81, 82, 83, 84,\n",
       "       85, 86, 87, 88, 89, 90, 91, 92, 93, 94, 95, 96, 97, 98, 99])"
      ]
     },
     "execution_count": 244,
     "metadata": {},
     "output_type": "execute_result"
    }
   ],
   "source": [
    "a2 = mat[mat > 50]\n",
    "a2"
   ]
  },
  {
   "cell_type": "markdown",
   "id": "e1cf83d9-dcad-4e8c-8f28-57e5c0e38397",
   "metadata": {},
   "source": [
    "# Python program to generate OTP"
   ]
  },
  {
   "cell_type": "code",
   "execution_count": 253,
   "id": "e55c323e-7510-488f-ab96-8a7427574a9a",
   "metadata": {},
   "outputs": [
    {
     "name": "stdout",
     "output_type": "stream",
     "text": [
      "Your OTP is : 3334\n"
     ]
    }
   ],
   "source": [
    "import random\n",
    "\n",
    "def generate_otp(length=4):\n",
    "    \"\"\"Generate a numeric OTP of a specified length.\"\"\"\n",
    "    digits = '012345'\n",
    "    otp = ''.join(random.choice(digits) for _ in range(length))\n",
    "    return otp\n",
    "\n",
    "\n",
    "otp_length = 4\n",
    "otp = generate_otp(otp_length)\n",
    "print(f\"Your OTP is : {otp}\")"
   ]
  },
  {
   "cell_type": "code",
   "execution_count": null,
   "id": "e257d213-e768-424e-9b62-75a86a3f320b",
   "metadata": {},
   "outputs": [],
   "source": []
  },
  {
   "cell_type": "code",
   "execution_count": null,
   "id": "d78d7ce4-369a-4616-a526-65ee6e73741d",
   "metadata": {},
   "outputs": [],
   "source": []
  },
  {
   "cell_type": "code",
   "execution_count": null,
   "id": "7a4d66e4-1022-47b9-b3eb-a41c43b52b78",
   "metadata": {},
   "outputs": [],
   "source": []
  }
 ],
 "metadata": {
  "kernelspec": {
   "display_name": "Python [conda env:base] *",
   "language": "python",
   "name": "conda-base-py"
  },
  "language_info": {
   "codemirror_mode": {
    "name": "ipython",
    "version": 3
   },
   "file_extension": ".py",
   "mimetype": "text/x-python",
   "name": "python",
   "nbconvert_exporter": "python",
   "pygments_lexer": "ipython3",
   "version": "3.12.7"
  }
 },
 "nbformat": 4,
 "nbformat_minor": 5
}
