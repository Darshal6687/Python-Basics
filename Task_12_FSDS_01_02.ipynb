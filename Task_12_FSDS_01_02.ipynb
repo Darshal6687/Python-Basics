{
 "cells": [
  {
   "cell_type": "markdown",
   "id": "f65fb455-644f-4396-9e73-00dc31378e69",
   "metadata": {},
   "source": [
    "# 01/02/25"
   ]
  },
  {
   "cell_type": "code",
   "execution_count": 70,
   "id": "12c51aed-c09e-4f69-b526-f9f01df5afeb",
   "metadata": {},
   "outputs": [
    {
     "ename": "NameError",
     "evalue": "name 's5' is not defined",
     "output_type": "error",
     "traceback": [
      "\u001b[1;31m---------------------------------------------------------------------------\u001b[0m",
      "\u001b[1;31mNameError\u001b[0m                                 Traceback (most recent call last)",
      "Cell \u001b[1;32mIn[70], line 1\u001b[0m\n\u001b[1;32m----> 1\u001b[0m \u001b[38;5;28mtype\u001b[39m(s5)\n",
      "\u001b[1;31mNameError\u001b[0m: name 's5' is not defined"
     ]
    }
   ],
   "source": [
    "type(s5)"
   ]
  },
  {
   "cell_type": "code",
   "execution_count": null,
   "id": "532c2c26-7eca-4b53-b9eb-5b731bafab6e",
   "metadata": {},
   "outputs": [],
   "source": [
    "2 in s5"
   ]
  },
  {
   "cell_type": "code",
   "execution_count": null,
   "id": "4050c660-a2ef-47e7-b390-99c1838963de",
   "metadata": {},
   "outputs": [],
   "source": [
    "200 in s5"
   ]
  },
  {
   "cell_type": "code",
   "execution_count": null,
   "id": "1987c228-303a-4cb5-97b2-f52316d1da8f",
   "metadata": {},
   "outputs": [],
   "source": [
    "for i in s5 :\n",
    "     print(i)"
   ]
  },
  {
   "cell_type": "code",
   "execution_count": null,
   "id": "13e75104-2fe4-4b0c-b770-365747c828e6",
   "metadata": {},
   "outputs": [],
   "source": [
    "for i in enumerate(s5):\n",
    "    print(i)"
   ]
  },
  {
   "cell_type": "code",
   "execution_count": null,
   "id": "5f4a349c-6ef3-4338-b537-ab0032b9bc09",
   "metadata": {},
   "outputs": [],
   "source": [
    "s5"
   ]
  },
  {
   "cell_type": "code",
   "execution_count": null,
   "id": "7ce28a5c-ee35-4fed-b93b-90bfb16e6dc9",
   "metadata": {},
   "outputs": [],
   "source": [
    "s5.update([1,2,3])"
   ]
  },
  {
   "cell_type": "code",
   "execution_count": null,
   "id": "7a391988-8322-4770-8165-4faf7a926d96",
   "metadata": {},
   "outputs": [],
   "source": [
    "s5"
   ]
  },
  {
   "cell_type": "code",
   "execution_count": null,
   "id": "ef9c3a73-c99e-41cb-8786-9cc5b2f615f5",
   "metadata": {},
   "outputs": [],
   "source": [
    "s5.update([100,200,300])\n",
    "s5"
   ]
  },
  {
   "cell_type": "code",
   "execution_count": null,
   "id": "814d90e1-6443-42d1-a8aa-832e7453a016",
   "metadata": {},
   "outputs": [],
   "source": [
    "s6 = s5.copy()\n",
    "s6"
   ]
  },
  {
   "cell_type": "markdown",
   "id": "0645cc47-9596-41dd-a06b-9b663ae1e9c6",
   "metadata": {},
   "source": [
    "# Set Operation "
   ]
  },
  {
   "cell_type": "code",
   "execution_count": 95,
   "id": "81f812f5-5453-4be6-b6d5-41453eb8bae9",
   "metadata": {},
   "outputs": [],
   "source": [
    "A = {1,2,3,4,5}\n",
    "B = {4,5,6,7,8}\n",
    "C = {8,9,10}\n"
   ]
  },
  {
   "cell_type": "code",
   "execution_count": null,
   "id": "bb616687-a00a-4e11-b63e-503c6e384aba",
   "metadata": {},
   "outputs": [],
   "source": [
    "A.union(B,C)"
   ]
  },
  {
   "cell_type": "code",
   "execution_count": null,
   "id": "7c4c1e92-3ad2-41af-8331-d14ec175297a",
   "metadata": {},
   "outputs": [],
   "source": [
    "A.union(B,57)"
   ]
  },
  {
   "cell_type": "code",
   "execution_count": null,
   "id": "6a1df6ed-9392-47f1-895e-bfabadcc3221",
   "metadata": {},
   "outputs": [],
   "source": [
    "A| B|C"
   ]
  },
  {
   "cell_type": "code",
   "execution_count": null,
   "id": "44fc996c-44c7-4f12-8bee-be7bcad5b580",
   "metadata": {},
   "outputs": [],
   "source": [
    "A & B"
   ]
  },
  {
   "cell_type": "code",
   "execution_count": null,
   "id": "e1b25cd5-dd62-43eb-a81d-146e76820212",
   "metadata": {},
   "outputs": [],
   "source": [
    "A.intersection(B,C)"
   ]
  },
  {
   "cell_type": "code",
   "execution_count": null,
   "id": "0936c7e3-325e-492b-8f1b-44bd25df60c9",
   "metadata": {},
   "outputs": [],
   "source": [
    "A & C"
   ]
  },
  {
   "cell_type": "code",
   "execution_count": null,
   "id": "bdc9c819-fb65-4390-94cb-633420bc5f6b",
   "metadata": {},
   "outputs": [],
   "source": [
    "B.intersection(C)"
   ]
  },
  {
   "cell_type": "code",
   "execution_count": null,
   "id": "0f1da9e1-e204-41ba-a5b8-4752b3906fa5",
   "metadata": {},
   "outputs": [],
   "source": [
    "A & B "
   ]
  },
  {
   "cell_type": "code",
   "execution_count": null,
   "id": "ea6d0db2-068a-4ed6-8e73-6e810be4e52b",
   "metadata": {},
   "outputs": [],
   "source": [
    "A - B"
   ]
  },
  {
   "cell_type": "code",
   "execution_count": null,
   "id": "b18160ed-fca1-4197-a47b-33ff00ef0fc4",
   "metadata": {},
   "outputs": [],
   "source": [
    "A.difference(B)"
   ]
  },
  {
   "cell_type": "code",
   "execution_count": null,
   "id": "e6f66151-38b8-4206-9582-bdae635eed05",
   "metadata": {},
   "outputs": [],
   "source": [
    "A - C"
   ]
  },
  {
   "cell_type": "code",
   "execution_count": 93,
   "id": "fb204d49-fd12-4cee-aa06-c1d1c9adff06",
   "metadata": {},
   "outputs": [
    {
     "ename": "NameError",
     "evalue": "name 'A' is not defined",
     "output_type": "error",
     "traceback": [
      "\u001b[1;31m---------------------------------------------------------------------------\u001b[0m",
      "\u001b[1;31mNameError\u001b[0m                                 Traceback (most recent call last)",
      "Cell \u001b[1;32mIn[93], line 1\u001b[0m\n\u001b[1;32m----> 1\u001b[0m \u001b[38;5;28mprint\u001b[39m(A)\n\u001b[0;32m      2\u001b[0m \u001b[38;5;28mprint\u001b[39m(B)\n\u001b[0;32m      3\u001b[0m \u001b[38;5;28mprint\u001b[39m(C)\n",
      "\u001b[1;31mNameError\u001b[0m: name 'A' is not defined"
     ]
    }
   ],
   "source": [
    "print(A)\n",
    "print(B)\n",
    "print(C)"
   ]
  },
  {
   "cell_type": "code",
   "execution_count": 103,
   "id": "ea19606b-9b23-4038-92d1-c98702b7aa26",
   "metadata": {},
   "outputs": [
    {
     "data": {
      "text/plain": [
       "{1, 2, 3, 6, 7, 8}"
      ]
     },
     "execution_count": 103,
     "metadata": {},
     "output_type": "execute_result"
    }
   ],
   "source": [
    "A.symmetric_difference(B)"
   ]
  },
  {
   "cell_type": "code",
   "execution_count": 105,
   "id": "7c6d601d-d507-42a0-bc81-7d2fa96b31e6",
   "metadata": {},
   "outputs": [
    {
     "data": {
      "text/plain": [
       "{1, 2, 3, 4, 5, 8, 9, 10}"
      ]
     },
     "execution_count": 105,
     "metadata": {},
     "output_type": "execute_result"
    }
   ],
   "source": [
    "A.symmetric_difference(C)"
   ]
  },
  {
   "cell_type": "code",
   "execution_count": null,
   "id": "3c1b791b-c5b2-42c0-8b83-ca196c5500c3",
   "metadata": {},
   "outputs": [],
   "source": [
    "B.symmetric_difference(C)"
   ]
  },
  {
   "cell_type": "code",
   "execution_count": null,
   "id": "8e3c5649-5858-4075-a964-87e43054c69e",
   "metadata": {},
   "outputs": [],
   "source": [
    "B ^ C"
   ]
  },
  {
   "cell_type": "code",
   "execution_count": null,
   "id": "0fd07f9d-905b-4833-860c-6169ce7e7084",
   "metadata": {},
   "outputs": [],
   "source": [
    "A"
   ]
  },
  {
   "cell_type": "code",
   "execution_count": null,
   "id": "e032873d-4eb2-4387-82dc-a8c096d88d69",
   "metadata": {},
   "outputs": [],
   "source": [
    "Print(A)"
   ]
  },
  {
   "cell_type": "code",
   "execution_count": 101,
   "id": "b10928b5-fef3-45e0-9f7f-fdc9b1c3d641",
   "metadata": {},
   "outputs": [
    {
     "name": "stdout",
     "output_type": "stream",
     "text": [
      "{1, 2, 3, 4, 5}\n",
      "{4, 5, 6, 7, 8}\n",
      "{8, 9, 10}\n"
     ]
    }
   ],
   "source": [
    "print(A)\n",
    "print(B)\n",
    "print(C)"
   ]
  },
  {
   "cell_type": "code",
   "execution_count": 99,
   "id": "3a23d7fb-e485-4238-8f95-509bfd4069e8",
   "metadata": {},
   "outputs": [
    {
     "data": {
      "text/plain": [
       "{4, 5, 6, 7}"
      ]
     },
     "execution_count": 99,
     "metadata": {},
     "output_type": "execute_result"
    }
   ],
   "source": [
    "B-C"
   ]
  },
  {
   "cell_type": "code",
   "execution_count": 109,
   "id": "c96a6d9c-3c9e-4068-86c4-ab275f6cebf0",
   "metadata": {},
   "outputs": [],
   "source": [
    "A1 = {1,2,3,4,5,6,7,8,9}\n",
    "B1 = {3,4,5,6,7,8}\n",
    "C1 = {10,20,30,40}"
   ]
  },
  {
   "cell_type": "code",
   "execution_count": 111,
   "id": "cd2f3b0e-d966-4bcd-b718-ce0c96eac278",
   "metadata": {},
   "outputs": [
    {
     "data": {
      "text/plain": [
       "True"
      ]
     },
     "execution_count": 111,
     "metadata": {},
     "output_type": "execute_result"
    }
   ],
   "source": [
    "B1.issubset(A1)"
   ]
  },
  {
   "cell_type": "code",
   "execution_count": 113,
   "id": "1b36627f-3a23-4b92-8f1a-75ec72f9e552",
   "metadata": {},
   "outputs": [
    {
     "data": {
      "text/plain": [
       "False"
      ]
     },
     "execution_count": 113,
     "metadata": {},
     "output_type": "execute_result"
    }
   ],
   "source": [
    "A1.issubset(B1)"
   ]
  },
  {
   "cell_type": "code",
   "execution_count": 115,
   "id": "260da332-e965-41a5-bed5-5563b5836783",
   "metadata": {},
   "outputs": [
    {
     "data": {
      "text/plain": [
       "True"
      ]
     },
     "execution_count": 115,
     "metadata": {},
     "output_type": "execute_result"
    }
   ],
   "source": [
    "A1.issuperset(B1)"
   ]
  },
  {
   "cell_type": "code",
   "execution_count": 117,
   "id": "9454618a-f22e-4933-9d8d-02bbd4ddf954",
   "metadata": {},
   "outputs": [
    {
     "data": {
      "text/plain": [
       "False"
      ]
     },
     "execution_count": 117,
     "metadata": {},
     "output_type": "execute_result"
    }
   ],
   "source": [
    "C1.issubset(A1)"
   ]
  },
  {
   "cell_type": "code",
   "execution_count": 119,
   "id": "cf4bf0fe-4c73-453b-862e-838e725c8494",
   "metadata": {},
   "outputs": [
    {
     "data": {
      "text/plain": [
       "False"
      ]
     },
     "execution_count": 119,
     "metadata": {},
     "output_type": "execute_result"
    }
   ],
   "source": [
    "B1.issubset(C1)"
   ]
  },
  {
   "cell_type": "code",
   "execution_count": 121,
   "id": "e4575dbd-8675-4c6d-870c-aa8bae82b790",
   "metadata": {},
   "outputs": [
    {
     "data": {
      "text/plain": [
       "True"
      ]
     },
     "execution_count": 121,
     "metadata": {},
     "output_type": "execute_result"
    }
   ],
   "source": [
    "C1.isdisjoint(A1)"
   ]
  },
  {
   "cell_type": "code",
   "execution_count": 123,
   "id": "ae43f82c-235e-4ce7-9d11-8a8f3309f917",
   "metadata": {},
   "outputs": [
    {
     "data": {
      "text/plain": [
       "True"
      ]
     },
     "execution_count": 123,
     "metadata": {},
     "output_type": "execute_result"
    }
   ],
   "source": [
    "C1.isdisjoint(B1)"
   ]
  },
  {
   "cell_type": "code",
   "execution_count": 125,
   "id": "ff066296-cd80-4577-a17b-d7c67b976e08",
   "metadata": {},
   "outputs": [],
   "source": [
    "A2 = {1,2,3,4,5,6,7,8,9}\n",
    "B2 = {13,14,15,16,17,18}\n",
    "C2 = {10,20,30,40}"
   ]
  },
  {
   "cell_type": "code",
   "execution_count": 129,
   "id": "fcc9d14e-b19a-49a6-851a-f1cd09230ec7",
   "metadata": {},
   "outputs": [
    {
     "data": {
      "text/plain": [
       "False"
      ]
     },
     "execution_count": 129,
     "metadata": {},
     "output_type": "execute_result"
    }
   ],
   "source": [
    "B2.issubset(A2)"
   ]
  },
  {
   "cell_type": "code",
   "execution_count": 131,
   "id": "8afde8f6-6118-4b7c-9c38-1ebb329d6504",
   "metadata": {},
   "outputs": [
    {
     "data": {
      "text/plain": [
       "False"
      ]
     },
     "execution_count": 131,
     "metadata": {},
     "output_type": "execute_result"
    }
   ],
   "source": [
    "B2.issuperset(A2)"
   ]
  },
  {
   "cell_type": "code",
   "execution_count": 133,
   "id": "ae56494b-0c86-4066-8c65-5c857ff6019e",
   "metadata": {},
   "outputs": [
    {
     "data": {
      "text/plain": [
       "True"
      ]
     },
     "execution_count": 133,
     "metadata": {},
     "output_type": "execute_result"
    }
   ],
   "source": [
    "B2.isdisjoint(A2)"
   ]
  },
  {
   "cell_type": "code",
   "execution_count": 137,
   "id": "e200e0ac-31d9-4bb3-bbb3-6408fe7c7ad7",
   "metadata": {},
   "outputs": [
    {
     "name": "stdout",
     "output_type": "stream",
     "text": [
      "(0, 1)\n",
      "(1, 2)\n",
      "(2, 3)\n",
      "(3, 4)\n",
      "(4, 5)\n",
      "(5, 6)\n",
      "(6, 7)\n",
      "(7, 8)\n",
      "(8, 9)\n"
     ]
    }
   ],
   "source": [
    "for i in enumerate(A1):\n",
    "    print(i)\n",
    "    "
   ]
  },
  {
   "cell_type": "markdown",
   "id": "57c30376-940b-44ef-b35b-bc7986c51059",
   "metadata": {},
   "source": [
    "# Dictionary"
   ]
  },
  {
   "cell_type": "code",
   "execution_count": 140,
   "id": "00550e80-5a71-4890-b0e0-d0476cae272f",
   "metadata": {},
   "outputs": [
    {
     "data": {
      "text/plain": [
       "dict"
      ]
     },
     "execution_count": 140,
     "metadata": {},
     "output_type": "execute_result"
    }
   ],
   "source": [
    "d = {}\n",
    "type(d)"
   ]
  },
  {
   "cell_type": "code",
   "execution_count": 144,
   "id": "38c68a0e-27af-4bbd-822d-9ae86c11eb28",
   "metadata": {},
   "outputs": [
    {
     "data": {
      "text/plain": [
       "{1: 'one', 2: 'two', 3: 'three'}"
      ]
     },
     "execution_count": 144,
     "metadata": {},
     "output_type": "execute_result"
    }
   ],
   "source": [
    "d1  = {1:'one' , 2:'two' , 3:'three'} # dictionary with integer keys\n",
    "d1"
   ]
  },
  {
   "cell_type": "code",
   "execution_count": 148,
   "id": "0aeb1001-ff76-4e47-a19c-b0bdc989f4d5",
   "metadata": {},
   "outputs": [
    {
     "data": {
      "text/plain": [
       "dict_keys([1, 2, 3])"
      ]
     },
     "execution_count": 148,
     "metadata": {},
     "output_type": "execute_result"
    }
   ],
   "source": [
    "d1.keys()"
   ]
  },
  {
   "cell_type": "code",
   "execution_count": 150,
   "id": "ea319905-f643-477f-8ebb-ab1f591ddff2",
   "metadata": {},
   "outputs": [
    {
     "data": {
      "text/plain": [
       "dict_values(['one', 'two', 'three'])"
      ]
     },
     "execution_count": 150,
     "metadata": {},
     "output_type": "execute_result"
    }
   ],
   "source": [
    "d1.values()"
   ]
  },
  {
   "cell_type": "code",
   "execution_count": 152,
   "id": "1b4c09d8-75ce-4860-b715-f04054a67402",
   "metadata": {},
   "outputs": [
    {
     "data": {
      "text/plain": [
       "dict_items([(1, 'one'), (2, 'two'), (3, 'three')])"
      ]
     },
     "execution_count": 152,
     "metadata": {},
     "output_type": "execute_result"
    }
   ],
   "source": [
    "d1.items()"
   ]
  },
  {
   "cell_type": "code",
   "execution_count": 154,
   "id": "448dcfd7-a6b9-4a9f-91fc-f0604f7319b9",
   "metadata": {},
   "outputs": [
    {
     "data": {
      "text/plain": [
       "3"
      ]
     },
     "execution_count": 154,
     "metadata": {},
     "output_type": "execute_result"
    }
   ],
   "source": [
    "len(d1.items())"
   ]
  },
  {
   "cell_type": "code",
   "execution_count": 156,
   "id": "f3e1bbce-01dc-49d2-9875-fc44fbc4ec56",
   "metadata": {},
   "outputs": [
    {
     "data": {
      "text/plain": [
       "'one'"
      ]
     },
     "execution_count": 156,
     "metadata": {},
     "output_type": "execute_result"
    }
   ],
   "source": [
    "d1[1]"
   ]
  },
  {
   "cell_type": "code",
   "execution_count": 158,
   "id": "910225e8-2771-4d4f-ab08-0db8a085d2e2",
   "metadata": {},
   "outputs": [
    {
     "ename": "KeyError",
     "evalue": "'one'",
     "output_type": "error",
     "traceback": [
      "\u001b[1;31m---------------------------------------------------------------------------\u001b[0m",
      "\u001b[1;31mKeyError\u001b[0m                                  Traceback (most recent call last)",
      "Cell \u001b[1;32mIn[158], line 1\u001b[0m\n\u001b[1;32m----> 1\u001b[0m d1[\u001b[38;5;124m'\u001b[39m\u001b[38;5;124mone\u001b[39m\u001b[38;5;124m'\u001b[39m]\n",
      "\u001b[1;31mKeyError\u001b[0m: 'one'"
     ]
    }
   ],
   "source": [
    "d1['one']"
   ]
  },
  {
   "cell_type": "code",
   "execution_count": 160,
   "id": "15ea1679-8683-4094-ac25-db1706e129c3",
   "metadata": {},
   "outputs": [
    {
     "data": {
      "text/plain": [
       "'one'"
      ]
     },
     "execution_count": 160,
     "metadata": {},
     "output_type": "execute_result"
    }
   ],
   "source": [
    "d1.get(1)"
   ]
  },
  {
   "cell_type": "code",
   "execution_count": 1,
   "id": "35ce2d6e-f538-4c3a-9b7e-7c8545d12f2a",
   "metadata": {},
   "outputs": [
    {
     "data": {
      "text/plain": [
       "{1: 'one', 2: 'two', 3: 'three', 4: 'four'}"
      ]
     },
     "execution_count": 1,
     "metadata": {},
     "output_type": "execute_result"
    }
   ],
   "source": [
    "d2 = {1: 'one',2:'two',3:'three',4:'four'}\n",
    "d2"
   ]
  },
  {
   "cell_type": "code",
   "execution_count": 3,
   "id": "0cdc4f6b-e264-4156-858b-584a91343cd7",
   "metadata": {},
   "outputs": [
    {
     "data": {
      "text/plain": [
       "dict_keys([1, 2, 3, 4])"
      ]
     },
     "execution_count": 3,
     "metadata": {},
     "output_type": "execute_result"
    }
   ],
   "source": [
    "d2.keys()"
   ]
  },
  {
   "cell_type": "code",
   "execution_count": 5,
   "id": "73e5b909-4be9-45ac-a6ef-ccd89d3959ae",
   "metadata": {},
   "outputs": [
    {
     "data": {
      "text/plain": [
       "dict_values(['one', 'two', 'three', 'four'])"
      ]
     },
     "execution_count": 5,
     "metadata": {},
     "output_type": "execute_result"
    }
   ],
   "source": [
    "d2.values()"
   ]
  },
  {
   "cell_type": "code",
   "execution_count": 7,
   "id": "a6048609-4089-4049-bec1-80a73743bb19",
   "metadata": {},
   "outputs": [
    {
     "data": {
      "text/plain": [
       "dict_items([(1, 'one'), (2, 'two'), (3, 'three'), (4, 'four')])"
      ]
     },
     "execution_count": 7,
     "metadata": {},
     "output_type": "execute_result"
    }
   ],
   "source": [
    "d2.items()"
   ]
  },
  {
   "cell_type": "code",
   "execution_count": 11,
   "id": "ce69a44b-cd82-4db0-9c75-d747d7b702d8",
   "metadata": {},
   "outputs": [
    {
     "data": {
      "text/plain": [
       "{1: 'one', 'A': {'dars'}, 'B': ('Bat', 'cat')}"
      ]
     },
     "execution_count": 11,
     "metadata": {},
     "output_type": "execute_result"
    }
   ],
   "source": [
    "d3 = {1 : 'one','A' : {'dars'} , 'B' : ('Bat','cat') }\n",
    "d3"
   ]
  },
  {
   "cell_type": "code",
   "execution_count": 13,
   "id": "d6d8d71a-b39a-47d3-9e42-b823e5f26a69",
   "metadata": {},
   "outputs": [
    {
     "data": {
      "text/plain": [
       "{'b': None, 'd': None, 'a': None, 'c': None}"
      ]
     },
     "execution_count": 13,
     "metadata": {},
     "output_type": "execute_result"
    }
   ],
   "source": [
    "keys = {'a' , 'b','c','d'}\n",
    "mydict3 = dict.fromkeys(keys)\n",
    "mydict3"
   ]
  },
  {
   "cell_type": "code",
   "execution_count": 15,
   "id": "bd2e95f7-4106-4867-9422-1d7250afb920",
   "metadata": {},
   "outputs": [
    {
     "data": {
      "text/plain": [
       "{'b': 10, 'd': 10, 'a': 10, 'c': 10}"
      ]
     },
     "execution_count": 15,
     "metadata": {},
     "output_type": "execute_result"
    }
   ],
   "source": [
    "keys = {'a','b','c','d'}\n",
    "value = 10\n",
    "mydict3 = dict.fromkeys(keys,value)\n",
    "mydict3"
   ]
  },
  {
   "cell_type": "code",
   "execution_count": 17,
   "id": "3f1b73aa-220e-46a7-bfa6-a6b8fc231a28",
   "metadata": {},
   "outputs": [
    {
     "data": {
      "text/plain": [
       "{'b': [10, 20, 30], 'd': [10, 20, 30], 'a': [10, 20, 30], 'c': [10, 20, 30]}"
      ]
     },
     "execution_count": 17,
     "metadata": {},
     "output_type": "execute_result"
    }
   ],
   "source": [
    "keys = {'a','b','c','d'}\n",
    "value = [10,20,30]\n",
    "mydict3 = dict.fromkeys(keys,value)\n",
    "mydict3"
   ]
  },
  {
   "cell_type": "code",
   "execution_count": 19,
   "id": "12ccc3c1-2c09-4419-ad90-8dc002151014",
   "metadata": {},
   "outputs": [
    {
     "data": {
      "text/plain": [
       "{'b': [10, 20, 30, 40],\n",
       " 'd': [10, 20, 30, 40],\n",
       " 'a': [10, 20, 30, 40],\n",
       " 'c': [10, 20, 30, 40]}"
      ]
     },
     "execution_count": 19,
     "metadata": {},
     "output_type": "execute_result"
    }
   ],
   "source": [
    "value.append(40)\n",
    "mydict3"
   ]
  },
  {
   "cell_type": "markdown",
   "id": "b47880b9-3472-4696-a013-4c0f60356678",
   "metadata": {},
   "source": [
    "# Accessing items"
   ]
  },
  {
   "cell_type": "code",
   "execution_count": 22,
   "id": "9cb22a91-5b92-42c3-8808-b72849260af1",
   "metadata": {},
   "outputs": [
    {
     "data": {
      "text/plain": [
       "{1: 'one', 2: 'two', 3: 'three', 4: 'Fourth'}"
      ]
     },
     "execution_count": 22,
     "metadata": {},
     "output_type": "execute_result"
    }
   ],
   "source": [
    "mydict = {1:'one', 2: 'two',3:'three',4:'Fourth'}\n",
    "mydict"
   ]
  },
  {
   "cell_type": "code",
   "execution_count": 24,
   "id": "5da7b654-0ca3-498e-a076-76e763676ac9",
   "metadata": {},
   "outputs": [
    {
     "data": {
      "text/plain": [
       "'one'"
      ]
     },
     "execution_count": 24,
     "metadata": {},
     "output_type": "execute_result"
    }
   ],
   "source": [
    "mydict[1]"
   ]
  },
  {
   "cell_type": "code",
   "execution_count": 26,
   "id": "c891e5eb-0515-4623-810b-70a10f5ab9a7",
   "metadata": {},
   "outputs": [
    {
     "data": {
      "text/plain": [
       "'one'"
      ]
     },
     "execution_count": 26,
     "metadata": {},
     "output_type": "execute_result"
    }
   ],
   "source": [
    "mydict.get(1)"
   ]
  },
  {
   "cell_type": "code",
   "execution_count": 28,
   "id": "c9a601f3-bc29-45f8-a17e-1afdd5d68270",
   "metadata": {},
   "outputs": [
    {
     "data": {
      "text/plain": [
       "{'Name': 'Dars', 'ID': 74123, 'DOB': 2000, 'job': 'Ai Engineer'}"
      ]
     },
     "execution_count": 28,
     "metadata": {},
     "output_type": "execute_result"
    }
   ],
   "source": [
    "mydict = {'Name' : 'Dars','ID' : 74123,'DOB' : 2000,'job':'Ai Engineer'  }\n",
    "mydict"
   ]
  },
  {
   "cell_type": "code",
   "execution_count": 30,
   "id": "996c6b32-defa-44f0-9324-57eced352287",
   "metadata": {},
   "outputs": [
    {
     "data": {
      "text/plain": [
       "'Dars'"
      ]
     },
     "execution_count": 30,
     "metadata": {},
     "output_type": "execute_result"
    }
   ],
   "source": [
    "mydict['Name']"
   ]
  },
  {
   "cell_type": "code",
   "execution_count": 32,
   "id": "9f1c3b52-d9f1-47bb-a544-8e74fa83504d",
   "metadata": {},
   "outputs": [
    {
     "data": {
      "text/plain": [
       "'Ai Engineer'"
      ]
     },
     "execution_count": 32,
     "metadata": {},
     "output_type": "execute_result"
    }
   ],
   "source": [
    "mydict.get('job')"
   ]
  },
  {
   "cell_type": "markdown",
   "id": "93cefb14-c3b9-415d-a8a6-53a1e56be24f",
   "metadata": {},
   "source": [
    "# Add ,Remove & change items"
   ]
  },
  {
   "cell_type": "code",
   "execution_count": 38,
   "id": "870b102e-2808-42b8-b311-30b3cb95e627",
   "metadata": {},
   "outputs": [
    {
     "data": {
      "text/plain": [
       "{'Name': 'Dars', 'ID': 171, 'DOB': 2000, 'Address': 'Bharat'}"
      ]
     },
     "execution_count": 38,
     "metadata": {},
     "output_type": "execute_result"
    }
   ],
   "source": [
    "mydict1 = {'Name' : 'Dars','ID' : 171,'DOB' : 2000,'Address' : 'Bharat'}\n",
    "mydict1"
   ]
  },
  {
   "cell_type": "code",
   "execution_count": 40,
   "id": "16382964-7a8b-44f0-aabc-135e2cb19a08",
   "metadata": {},
   "outputs": [
    {
     "data": {
      "text/plain": [
       "{'Name': 'Dars', 'ID': 171, 'DOB': 1947, 'Address': 'Bharat'}"
      ]
     },
     "execution_count": 40,
     "metadata": {},
     "output_type": "execute_result"
    }
   ],
   "source": [
    "mydict1['DOB'] = 1947\n",
    "mydict1"
   ]
  },
  {
   "cell_type": "code",
   "execution_count": 46,
   "id": "0af4bf9d-9ebd-4241-bf57-559879bd13b8",
   "metadata": {},
   "outputs": [
    {
     "data": {
      "text/plain": [
       "{'Name': 'Dars', 'ID': 171, 'DOB': 5000, 'Address': 'Bharat'}"
      ]
     },
     "execution_count": 46,
     "metadata": {},
     "output_type": "execute_result"
    }
   ],
   "source": [
    "dict1 = {'DOB' : 5000}\n",
    "mydict1.update(dict1)\n",
    "mydict1"
   ]
  },
  {
   "cell_type": "code",
   "execution_count": 48,
   "id": "1b4de5ee-e8ff-4aec-8358-15443095ee4c",
   "metadata": {},
   "outputs": [
    {
     "data": {
      "text/plain": [
       "{'Name': 'Dars',\n",
       " 'ID': 171,\n",
       " 'DOB': 5000,\n",
       " 'Address': 'Bharat',\n",
       " 'job': 'Engineer'}"
      ]
     },
     "execution_count": 48,
     "metadata": {},
     "output_type": "execute_result"
    }
   ],
   "source": [
    "mydict1['job'] = 'Engineer'\n",
    "mydict1"
   ]
  },
  {
   "cell_type": "code",
   "execution_count": 54,
   "id": "f4d8aa76-3aa4-49c2-9d7b-eac9e8954a33",
   "metadata": {},
   "outputs": [
    {
     "data": {
      "text/plain": [
       "{'Name': 'Dars', 'ID': 171, 'DOB': 5000, 'Address': 'Bharat'}"
      ]
     },
     "execution_count": 54,
     "metadata": {},
     "output_type": "execute_result"
    }
   ],
   "source": [
    "mydict1.pop('job')\n",
    "mydict1"
   ]
  },
  {
   "cell_type": "code",
   "execution_count": 56,
   "id": "843c3427-b3aa-4671-9ef5-7d78fa219e85",
   "metadata": {},
   "outputs": [
    {
     "data": {
      "text/plain": [
       "{'Name': 'Dars', 'ID': 171, 'DOB': 5000}"
      ]
     },
     "execution_count": 56,
     "metadata": {},
     "output_type": "execute_result"
    }
   ],
   "source": [
    "mydict1.popitem()\n",
    "mydict1"
   ]
  },
  {
   "cell_type": "code",
   "execution_count": 58,
   "id": "eb4ac4cc-4a16-42bf-ba1e-938bd4fb76f7",
   "metadata": {},
   "outputs": [
    {
     "data": {
      "text/plain": [
       "{'Name': 'Dars', 'DOB': 5000}"
      ]
     },
     "execution_count": 58,
     "metadata": {},
     "output_type": "execute_result"
    }
   ],
   "source": [
    "del[mydict1['ID']]\n",
    "mydict1"
   ]
  },
  {
   "cell_type": "code",
   "execution_count": 60,
   "id": "b7ed0b3c-dfa7-4583-930b-709892190cef",
   "metadata": {},
   "outputs": [
    {
     "data": {
      "text/plain": [
       "{}"
      ]
     },
     "execution_count": 60,
     "metadata": {},
     "output_type": "execute_result"
    }
   ],
   "source": [
    "mydict1.clear()\n",
    "mydict1"
   ]
  },
  {
   "cell_type": "code",
   "execution_count": 62,
   "id": "d1033335-843b-437d-a736-6e4de2e10312",
   "metadata": {},
   "outputs": [
    {
     "ename": "NameError",
     "evalue": "name 'mydict1' is not defined",
     "output_type": "error",
     "traceback": [
      "\u001b[1;31m---------------------------------------------------------------------------\u001b[0m",
      "\u001b[1;31mNameError\u001b[0m                                 Traceback (most recent call last)",
      "Cell \u001b[1;32mIn[62], line 2\u001b[0m\n\u001b[0;32m      1\u001b[0m \u001b[38;5;28;01mdel\u001b[39;00m mydict1\n\u001b[1;32m----> 2\u001b[0m mydict1\n",
      "\u001b[1;31mNameError\u001b[0m: name 'mydict1' is not defined"
     ]
    }
   ],
   "source": [
    "del mydict1\n",
    "mydict1"
   ]
  },
  {
   "cell_type": "markdown",
   "id": "fbb233b0-5ab8-4e0c-aefd-1c55f114df92",
   "metadata": {},
   "source": [
    "# Copy Dictionary"
   ]
  },
  {
   "cell_type": "code",
   "execution_count": 66,
   "id": "63c0ed40-c4e9-4aff-b00b-b8113969918b",
   "metadata": {},
   "outputs": [
    {
     "data": {
      "text/plain": [
       "{'Name': 'Dars', 'ID': 74123, 'DOB': 2000, 'job': 'Ai Engineer'}"
      ]
     },
     "execution_count": 66,
     "metadata": {},
     "output_type": "execute_result"
    }
   ],
   "source": [
    "mydict"
   ]
  },
  {
   "cell_type": "code",
   "execution_count": 70,
   "id": "762e44ca-3fef-4bfc-b499-aca044a9696a",
   "metadata": {},
   "outputs": [],
   "source": [
    "mydict1 = mydict"
   ]
  },
  {
   "cell_type": "code",
   "execution_count": 72,
   "id": "e379bddd-cef3-4a08-beb1-ed5c9554b57e",
   "metadata": {},
   "outputs": [
    {
     "data": {
      "text/plain": [
       "(2578957532544, 2578957532544)"
      ]
     },
     "execution_count": 72,
     "metadata": {},
     "output_type": "execute_result"
    }
   ],
   "source": [
    "id(mydict) ,id(mydict1)"
   ]
  },
  {
   "cell_type": "code",
   "execution_count": 74,
   "id": "9c1ea182-7e9d-4867-adb5-6469aa4a1670",
   "metadata": {},
   "outputs": [],
   "source": [
    "mydict2 = mydict.copy()"
   ]
  },
  {
   "cell_type": "code",
   "execution_count": 76,
   "id": "2ff78718-abc8-48df-8241-4f79f4adc5bb",
   "metadata": {},
   "outputs": [
    {
     "data": {
      "text/plain": [
       "2578973545856"
      ]
     },
     "execution_count": 76,
     "metadata": {},
     "output_type": "execute_result"
    }
   ],
   "source": [
    "id(mydict2)"
   ]
  },
  {
   "cell_type": "code",
   "execution_count": 78,
   "id": "3023e061-46bc-41f2-9ac0-8eb25f7f4ab1",
   "metadata": {},
   "outputs": [
    {
     "data": {
      "text/plain": [
       "{'Name': 'Dars',\n",
       " 'ID': 74123,\n",
       " 'DOB': 2000,\n",
       " 'job': 'Ai Engineer',\n",
       " 'Address': 'USA'}"
      ]
     },
     "execution_count": 78,
     "metadata": {},
     "output_type": "execute_result"
    }
   ],
   "source": [
    "mydict['Address'] = 'USA'\n",
    "mydict"
   ]
  },
  {
   "cell_type": "code",
   "execution_count": 80,
   "id": "1e9a679b-a0a6-4220-b334-2cce98f40c65",
   "metadata": {},
   "outputs": [
    {
     "data": {
      "text/plain": [
       "{'Name': 'Dars',\n",
       " 'ID': 74123,\n",
       " 'DOB': 2000,\n",
       " 'job': 'Ai Engineer',\n",
       " 'Address': 'USA'}"
      ]
     },
     "execution_count": 80,
     "metadata": {},
     "output_type": "execute_result"
    }
   ],
   "source": [
    "mydict1"
   ]
  },
  {
   "cell_type": "code",
   "execution_count": 82,
   "id": "59937b88-c48c-416d-8f78-3ee0764e440a",
   "metadata": {},
   "outputs": [
    {
     "data": {
      "text/plain": [
       "{'Name': 'Dars', 'ID': 74123, 'DOB': 2000, 'job': 'Ai Engineer'}"
      ]
     },
     "execution_count": 82,
     "metadata": {},
     "output_type": "execute_result"
    }
   ],
   "source": [
    "mydict2"
   ]
  },
  {
   "cell_type": "markdown",
   "id": "5ecb69f6-808e-4358-9c7e-08f2cfa22572",
   "metadata": {},
   "source": [
    "# Loop through a dictionary"
   ]
  },
  {
   "cell_type": "code",
   "execution_count": 85,
   "id": "b3f9ce2b-d62a-4ab4-9ed4-afc4f447f8c4",
   "metadata": {},
   "outputs": [
    {
     "data": {
      "text/plain": [
       "{'Name': 'Dars',\n",
       " 'ID': 74123,\n",
       " 'DOB': 2000,\n",
       " 'job': 'Ai Engineer',\n",
       " 'Address': 'USA'}"
      ]
     },
     "execution_count": 85,
     "metadata": {},
     "output_type": "execute_result"
    }
   ],
   "source": [
    "mydict1"
   ]
  },
  {
   "cell_type": "code",
   "execution_count": 89,
   "id": "8671452e-9e30-46ae-96b4-9692ed3eca67",
   "metadata": {},
   "outputs": [
    {
     "name": "stdout",
     "output_type": "stream",
     "text": [
      "Name : Dars\n",
      "ID : 74123\n",
      "DOB : 2000\n",
      "job : Ai Engineer\n",
      "Address : USA\n"
     ]
    }
   ],
   "source": [
    "for i in mydict1 :\n",
    "    print(i , ':' , mydict1[i])"
   ]
  },
  {
   "cell_type": "markdown",
   "id": "a98469de-1da1-4edc-ac25-69ae2e5dbb9b",
   "metadata": {},
   "source": [
    "# Dictionary membership "
   ]
  },
  {
   "cell_type": "code",
   "execution_count": 92,
   "id": "efc8e3c1-d9d7-4bce-be5f-2347870c3205",
   "metadata": {},
   "outputs": [
    {
     "data": {
      "text/plain": [
       "{'Name': 'Dars',\n",
       " 'ID': 74123,\n",
       " 'DOB': 2000,\n",
       " 'job': 'Ai Engineer',\n",
       " 'Address': 'USA'}"
      ]
     },
     "execution_count": 92,
     "metadata": {},
     "output_type": "execute_result"
    }
   ],
   "source": [
    "mydict1"
   ]
  },
  {
   "cell_type": "code",
   "execution_count": 96,
   "id": "836d5c75-75f9-4e9d-a4dc-281b8a9df40e",
   "metadata": {},
   "outputs": [
    {
     "data": {
      "text/plain": [
       "True"
      ]
     },
     "execution_count": 96,
     "metadata": {},
     "output_type": "execute_result"
    }
   ],
   "source": [
    "'Name' in mydict1"
   ]
  },
  {
   "cell_type": "code",
   "execution_count": 98,
   "id": "1cdc39a1-66ca-4af3-9918-8fa2d3805a88",
   "metadata": {},
   "outputs": [
    {
     "data": {
      "text/plain": [
       "False"
      ]
     },
     "execution_count": 98,
     "metadata": {},
     "output_type": "execute_result"
    }
   ],
   "source": [
    "'Dars' in dict1"
   ]
  },
  {
   "cell_type": "markdown",
   "id": "919eec3c-0ea3-40e8-8e16-67682cd59b72",
   "metadata": {},
   "source": [
    "# All/Any"
   ]
  },
  {
   "cell_type": "code",
   "execution_count": 101,
   "id": "a585764b-8fa3-4aee-aa4a-cd42aabf876c",
   "metadata": {},
   "outputs": [
    {
     "data": {
      "text/plain": [
       "{'Name': 'Dars',\n",
       " 'ID': 74123,\n",
       " 'DOB': 2000,\n",
       " 'job': 'Ai Engineer',\n",
       " 'Address': 'USA'}"
      ]
     },
     "execution_count": 101,
     "metadata": {},
     "output_type": "execute_result"
    }
   ],
   "source": [
    "mydict1"
   ]
  },
  {
   "cell_type": "code",
   "execution_count": 103,
   "id": "e5692ed8-4187-4644-bae3-7fe34e843c27",
   "metadata": {},
   "outputs": [
    {
     "data": {
      "text/plain": [
       "True"
      ]
     },
     "execution_count": 103,
     "metadata": {},
     "output_type": "execute_result"
    }
   ],
   "source": [
    "all(mydict1)"
   ]
  },
  {
   "cell_type": "code",
   "execution_count": 105,
   "id": "e7d94464-1cd4-4cfc-84c9-633c2297b9f9",
   "metadata": {},
   "outputs": [
    {
     "data": {
      "text/plain": [
       "{'Name': 'Dars', 'ID': 74123, 'DOB': 0, 'job': 'Ai Engineer', 'Address': 'USA'}"
      ]
     },
     "execution_count": 105,
     "metadata": {},
     "output_type": "execute_result"
    }
   ],
   "source": [
    "mydict1['DOB'] = 0\n",
    "mydict1"
   ]
  },
  {
   "cell_type": "code",
   "execution_count": 111,
   "id": "4a666806-6d1e-42e8-92ae-ea8ae6f46f6b",
   "metadata": {},
   "outputs": [
    {
     "data": {
      "text/plain": [
       "True"
      ]
     },
     "execution_count": 111,
     "metadata": {},
     "output_type": "execute_result"
    }
   ],
   "source": [
    "all(mydict1)"
   ]
  },
  {
   "cell_type": "code",
   "execution_count": 113,
   "id": "baffe50f-6330-425b-a3f3-01edf3b866a6",
   "metadata": {},
   "outputs": [
    {
     "data": {
      "text/plain": [
       "True"
      ]
     },
     "execution_count": 113,
     "metadata": {},
     "output_type": "execute_result"
    }
   ],
   "source": [
    "any(mydict1)"
   ]
  },
  {
   "cell_type": "code",
   "execution_count": null,
   "id": "0c229b11-3d55-4a29-ace9-f36b792cc671",
   "metadata": {},
   "outputs": [],
   "source": []
  }
 ],
 "metadata": {
  "kernelspec": {
   "display_name": "Python [conda env:base] *",
   "language": "python",
   "name": "conda-base-py"
  },
  "language_info": {
   "codemirror_mode": {
    "name": "ipython",
    "version": 3
   },
   "file_extension": ".py",
   "mimetype": "text/x-python",
   "name": "python",
   "nbconvert_exporter": "python",
   "pygments_lexer": "ipython3",
   "version": "3.12.7"
  }
 },
 "nbformat": 4,
 "nbformat_minor": 5
}
