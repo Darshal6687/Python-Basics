{
 "cells": [
  {
   "cell_type": "markdown",
   "id": "f5fffbbb-b14e-4508-88e4-b80d59dcf7b3",
   "metadata": {},
   "source": [
    "# Print is use for answer"
   ]
  },
  {
   "cell_type": "code",
   "execution_count": 1,
   "id": "1ac1c898-8258-43ce-aeca-cadadebd7b4e",
   "metadata": {},
   "outputs": [
    {
     "data": {
      "text/plain": [
       "20"
      ]
     },
     "execution_count": 1,
     "metadata": {},
     "output_type": "execute_result"
    }
   ],
   "source": [
    "a = 10\n",
    "b = 20 \n",
    "a\n",
    "b"
   ]
  },
  {
   "cell_type": "code",
   "execution_count": 3,
   "id": "aef7ddcc-ffd0-4066-bd0c-6db1a57544ee",
   "metadata": {},
   "outputs": [
    {
     "name": "stdout",
     "output_type": "stream",
     "text": [
      "10\n",
      "20\n"
     ]
    }
   ],
   "source": [
    "a = 10 \n",
    "b = 20 \n",
    "print(a)\n",
    "print(b)"
   ]
  },
  {
   "cell_type": "code",
   "execution_count": 5,
   "id": "6142f2a0-211c-4bfc-b806-2001c3eaebde",
   "metadata": {},
   "outputs": [
    {
     "name": "stdout",
     "output_type": "stream",
     "text": [
      "10\n",
      "10 20\n",
      "10 20 python\n"
     ]
    }
   ],
   "source": [
    "print(10)\n",
    "print(10,20)\n",
    "print(10,20,'python')"
   ]
  },
  {
   "cell_type": "code",
   "execution_count": 9,
   "id": "a0dc076e-f42e-41b9-ab0e-17bcf2706742",
   "metadata": {},
   "outputs": [
    {
     "name": "stdout",
     "output_type": "stream",
     "text": [
      "The addition of 10 and 20 is = 30\n"
     ]
    }
   ],
   "source": [
    "num1 = 10\n",
    "num2 = 20 \n",
    "add = num1 + num2\n",
    "print('The addition of',num1, 'and' , num2, 'is =', add )"
   ]
  },
  {
   "cell_type": "code",
   "execution_count": 15,
   "id": "48f1fdab-b861-413d-a940-36f1b72f6924",
   "metadata": {},
   "outputs": [
    {
     "name": "stdout",
     "output_type": "stream",
     "text": [
      "hello my name is Python and i am 20 years old from hyderabad\n"
     ]
    }
   ],
   "source": [
    "name = 'Python'\n",
    "age = 20\n",
    "city = 'hyderabad'\n",
    "print('hello my name is',name, 'and i am',age,'years old from',city)\n"
   ]
  },
  {
   "cell_type": "code",
   "execution_count": 17,
   "id": "d6afe42c-70da-47e2-856c-0861fa66a0d1",
   "metadata": {},
   "outputs": [
    {
     "name": "stdout",
     "output_type": "stream",
     "text": [
      "The addition of 10 and 20 is = 30\n"
     ]
    }
   ],
   "source": [
    "num1 = 10 \n",
    "num2 = 20 \n",
    "add = num1 +num2\n",
    "print('The addition of {} and {} is = {}' .format(num1,num2,add))"
   ]
  },
  {
   "cell_type": "code",
   "execution_count": 26,
   "id": "1c04ba01-f6ab-49d2-a28a-35e7c536cd9e",
   "metadata": {},
   "outputs": [
    {
     "name": "stdout",
     "output_type": "stream",
     "text": [
      "hello my name is Python, and i am 20 years old from hyd\n"
     ]
    }
   ],
   "source": [
    "name = 'Python'\n",
    "age = 20\n",
    "city = 'hyd'\n",
    "print('hello my name is {}, and i am {} years old from {}' .format(name,age,city))"
   ]
  },
  {
   "cell_type": "code",
   "execution_count": 30,
   "id": "fef6ebf7-bc65-4a27-ac85-d1f9745f0dfa",
   "metadata": {},
   "outputs": [
    {
     "name": "stdout",
     "output_type": "stream",
     "text": [
      "The average of 100 , 25 and 333 is 152.66666666666666 or 152.6667 \n"
     ]
    }
   ],
   "source": [
    "num1 = 100\n",
    "num2 = 25\n",
    "num3 = 333\n",
    "avg = (num1 + num2 + num3)/3\n",
    "avg1 = round((num1 + num2 + num3)/3,4)\n",
    "print('The average of {} , {} and {} is {} or {} '.format(num1,num2,num3,avg,avg1))"
   ]
  },
  {
   "cell_type": "code",
   "execution_count": 32,
   "id": "3b110223-8762-4e8f-89c9-400d87bbab15",
   "metadata": {},
   "outputs": [
    {
     "name": "stdout",
     "output_type": "stream",
     "text": [
      "The addition of 100 and 20 is = 120\n"
     ]
    }
   ],
   "source": [
    "num = 10 \n",
    "num2 = 20 \n",
    "add = num1 + num2\n",
    "print(f'The addition of {num1} and {num2} is = {add}')"
   ]
  },
  {
   "cell_type": "code",
   "execution_count": 34,
   "id": "5d1276b4-ef25-4a2f-8b87-acc9a317b654",
   "metadata": {},
   "outputs": [
    {
     "name": "stdout",
     "output_type": "stream",
     "text": [
      "hello my name is Python, and i am 20 years old from hyd\n"
     ]
    }
   ],
   "source": [
    "name = 'Python'\n",
    "age = 20\n",
    "city = 'hyd'\n",
    "print(f'hello my name is {name}, and i am {age} years old from {city}')"
   ]
  },
  {
   "cell_type": "code",
   "execution_count": 42,
   "id": "896c384f-19c8-40f1-9714-cf3cc608f2cf",
   "metadata": {},
   "outputs": [
    {
     "name": "stdout",
     "output_type": "stream",
     "text": [
      "The addition of 10 and 20 is = 30\n",
      "The addition of 10 and 20 is = 30\n",
      "The addition of 10 and 20 is = 30\n"
     ]
    }
   ],
   "source": [
    "num1 = 10 \n",
    "num2 = 20 \n",
    "add = num1 + num2\n",
    "print('The addition of',num1,'and',num2, 'is =',add)\n",
    "print('The addition of {} and {} is = {}'.format(num1,num2,add))\n",
    "print(f'The addition of {num1} and {num2} is = {add}')"
   ]
  },
  {
   "cell_type": "code",
   "execution_count": 50,
   "id": "1bb82e23-ca57-4ac3-9a42-3e1e186ddbd4",
   "metadata": {},
   "outputs": [
    {
     "name": "stdout",
     "output_type": "stream",
     "text": [
      "hello world good day\n"
     ]
    }
   ],
   "source": [
    "print('hello',end=' ')\n",
    "print('world good day')"
   ]
  },
  {
   "cell_type": "code",
   "execution_count": 52,
   "id": "31cb9ea6-b972-4273-857e-9eabb14a9c29",
   "metadata": {},
   "outputs": [
    {
     "name": "stdout",
     "output_type": "stream",
     "text": [
      "hello-->hey-->hai\n"
     ]
    }
   ],
   "source": [
    "print('hello','hey','hai',sep='-->')"
   ]
  },
  {
   "cell_type": "code",
   "execution_count": 54,
   "id": "1cceddff-1ef3-4def-a2ef-acd2685a446c",
   "metadata": {},
   "outputs": [
    {
     "name": "stdout",
     "output_type": "stream",
     "text": [
      "3 .\n"
     ]
    }
   ],
   "source": [
    "print(3,'.')"
   ]
  },
  {
   "cell_type": "code",
   "execution_count": 56,
   "id": "f6c7da66-6624-47c3-a2bf-189cda426b40",
   "metadata": {},
   "outputs": [
    {
     "name": "stdout",
     "output_type": "stream",
     "text": [
      "3.\n"
     ]
    }
   ],
   "source": [
    "print(3,'.',sep='')"
   ]
  },
  {
   "cell_type": "code",
   "execution_count": 62,
   "id": "240f2731-35e3-4e9c-9835-aaf3e954a44a",
   "metadata": {},
   "outputs": [
    {
     "name": "stdout",
     "output_type": "stream",
     "text": [
      "1 2 3.\n"
     ]
    }
   ],
   "source": [
    "print(1,2,end=' ')\n",
    "print(3,'.',sep='')"
   ]
  },
  {
   "cell_type": "code",
   "execution_count": 64,
   "id": "7e784492-b854-4fec-a87f-ebec293385e0",
   "metadata": {},
   "outputs": [
    {
     "ename": "NameError",
     "evalue": "name 'np' is not defined",
     "output_type": "error",
     "traceback": [
      "\u001b[1;31m---------------------------------------------------------------------------\u001b[0m",
      "\u001b[1;31mNameError\u001b[0m                                 Traceback (most recent call last)",
      "Cell \u001b[1;32mIn[64], line 1\u001b[0m\n\u001b[1;32m----> 1\u001b[0m \u001b[38;5;28mtype\u001b[39m(np\u001b[38;5;241m.\u001b[39mnan)\n",
      "\u001b[1;31mNameError\u001b[0m: name 'np' is not defined"
     ]
    }
   ],
   "source": [
    "type(np.nan)"
   ]
  },
  {
   "cell_type": "code",
   "execution_count": null,
   "id": "26f7a0c6-89fd-405e-a35a-18c9cfbee289",
   "metadata": {},
   "outputs": [],
   "source": []
  }
 ],
 "metadata": {
  "kernelspec": {
   "display_name": "Python [conda env:base] *",
   "language": "python",
   "name": "conda-base-py"
  },
  "language_info": {
   "codemirror_mode": {
    "name": "ipython",
    "version": 3
   },
   "file_extension": ".py",
   "mimetype": "text/x-python",
   "name": "python",
   "nbconvert_exporter": "python",
   "pygments_lexer": "ipython3",
   "version": "3.12.7"
  }
 },
 "nbformat": 4,
 "nbformat_minor": 5
}
