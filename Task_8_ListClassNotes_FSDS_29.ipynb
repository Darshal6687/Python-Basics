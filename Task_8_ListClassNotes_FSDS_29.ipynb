{
 "cells": [
  {
   "cell_type": "markdown",
   "id": "5401497e-71f9-4b46-92d3-47bacd1b46c1",
   "metadata": {},
   "source": [
    "# 29 jan 2025"
   ]
  },
  {
   "cell_type": "code",
   "execution_count": 2,
   "id": "632ffb79-12db-405a-849b-5ba1d1482237",
   "metadata": {},
   "outputs": [
    {
     "data": {
      "text/plain": [
       "25"
      ]
     },
     "execution_count": 2,
     "metadata": {},
     "output_type": "execute_result"
    }
   ],
   "source": [
    "25"
   ]
  },
  {
   "cell_type": "code",
   "execution_count": 3,
   "id": "e8de8119-71a0-46e7-b045-18c76448b543",
   "metadata": {},
   "outputs": [
    {
     "data": {
      "text/plain": [
       "'0b11001'"
      ]
     },
     "execution_count": 3,
     "metadata": {},
     "output_type": "execute_result"
    }
   ],
   "source": [
    "bin(25)"
   ]
  },
  {
   "cell_type": "code",
   "execution_count": 4,
   "id": "13a49c26-a35a-4cdf-8b6b-e68a51fff61f",
   "metadata": {},
   "outputs": [
    {
     "data": {
      "text/plain": [
       "25"
      ]
     },
     "execution_count": 4,
     "metadata": {},
     "output_type": "execute_result"
    }
   ],
   "source": [
    "int(0b11001)"
   ]
  },
  {
   "cell_type": "code",
   "execution_count": 5,
   "id": "a966c068-7492-4885-b521-7303e83c8da5",
   "metadata": {},
   "outputs": [
    {
     "data": {
      "text/plain": [
       "'0b100011'"
      ]
     },
     "execution_count": 5,
     "metadata": {},
     "output_type": "execute_result"
    }
   ],
   "source": [
    "bin(35)"
   ]
  },
  {
   "cell_type": "code",
   "execution_count": 6,
   "id": "05b3a4b1-5d12-425a-82f5-019e0501eeea",
   "metadata": {},
   "outputs": [
    {
     "data": {
      "text/plain": [
       "35"
      ]
     },
     "execution_count": 6,
     "metadata": {},
     "output_type": "execute_result"
    }
   ],
   "source": [
    "int(0b100011)"
   ]
  },
  {
   "cell_type": "code",
   "execution_count": 7,
   "id": "98d80e41-fc93-435d-8fc8-df56e1fd2b93",
   "metadata": {},
   "outputs": [
    {
     "data": {
      "text/plain": [
       "'0o31'"
      ]
     },
     "execution_count": 7,
     "metadata": {},
     "output_type": "execute_result"
    }
   ],
   "source": [
    "oct(25)"
   ]
  },
  {
   "cell_type": "code",
   "execution_count": 8,
   "id": "190b8368-1d92-4e23-84da-aa77e58e8121",
   "metadata": {},
   "outputs": [
    {
     "data": {
      "text/plain": [
       "'0x19'"
      ]
     },
     "execution_count": 8,
     "metadata": {},
     "output_type": "execute_result"
    }
   ],
   "source": [
    "hex(25)"
   ]
  },
  {
   "cell_type": "code",
   "execution_count": 9,
   "id": "ec4e41f4-3823-419d-8467-6b6e7fb66673",
   "metadata": {},
   "outputs": [
    {
     "data": {
      "text/plain": [
       "10"
      ]
     },
     "execution_count": 9,
     "metadata": {},
     "output_type": "execute_result"
    }
   ],
   "source": [
    "0xa"
   ]
  },
  {
   "cell_type": "code",
   "execution_count": 10,
   "id": "e15f6de3-4455-464e-9fa0-f4cf946790a7",
   "metadata": {},
   "outputs": [
    {
     "data": {
      "text/plain": [
       "'0x100'"
      ]
     },
     "execution_count": 10,
     "metadata": {},
     "output_type": "execute_result"
    }
   ],
   "source": [
    "hex(256)"
   ]
  },
  {
   "cell_type": "code",
   "execution_count": 11,
   "id": "09518728-0044-4fce-9336-2ba0de242ef7",
   "metadata": {},
   "outputs": [
    {
     "data": {
      "text/plain": [
       "256"
      ]
     },
     "execution_count": 11,
     "metadata": {},
     "output_type": "execute_result"
    }
   ],
   "source": [
    "int(0x100)"
   ]
  },
  {
   "cell_type": "code",
   "execution_count": 12,
   "id": "82843518-633a-4921-bab8-709eabd1af5f",
   "metadata": {},
   "outputs": [
    {
     "data": {
      "text/plain": [
       "25"
      ]
     },
     "execution_count": 12,
     "metadata": {},
     "output_type": "execute_result"
    }
   ],
   "source": [
    "0x19"
   ]
  },
  {
   "cell_type": "code",
   "execution_count": 13,
   "id": "09c7d973-192e-423f-9b28-12ff7a1d0748",
   "metadata": {},
   "outputs": [
    {
     "data": {
      "text/plain": [
       "'0xa'"
      ]
     },
     "execution_count": 13,
     "metadata": {},
     "output_type": "execute_result"
    }
   ],
   "source": [
    "hex(10)"
   ]
  },
  {
   "cell_type": "code",
   "execution_count": 14,
   "id": "1e15bb86-c521-4939-8167-5e8f3e967603",
   "metadata": {},
   "outputs": [],
   "source": [
    "a1 = 7 \n",
    "b1 = 8"
   ]
  },
  {
   "cell_type": "code",
   "execution_count": 15,
   "id": "29df405c-9257-4ffc-9223-6c33de4094c6",
   "metadata": {},
   "outputs": [],
   "source": [
    "temp = a1\n",
    "a1 = b1\n",
    "b1 = temp"
   ]
  },
  {
   "cell_type": "code",
   "execution_count": 16,
   "id": "546cfa20-0282-4151-8f43-14694be4a322",
   "metadata": {},
   "outputs": [
    {
     "name": "stdout",
     "output_type": "stream",
     "text": [
      "8\n",
      "7\n"
     ]
    }
   ],
   "source": [
    "print(a1)\n",
    "print(b1)"
   ]
  },
  {
   "cell_type": "code",
   "execution_count": 17,
   "id": "a4cfd1a6-7ae3-4a39-8003-2211738fcb01",
   "metadata": {},
   "outputs": [],
   "source": [
    "a2 = 5\n",
    "b2 = 6"
   ]
  },
  {
   "cell_type": "code",
   "execution_count": 18,
   "id": "b023b191-55d2-462a-acee-add5e7daafe8",
   "metadata": {},
   "outputs": [],
   "source": [
    "a2 = a2 + b2\n",
    "b2 = a2 -b2\n",
    "a2 = a2 - b2"
   ]
  },
  {
   "cell_type": "code",
   "execution_count": 19,
   "id": "65f53fe6-2eae-470d-993b-0c7ba6e7a3c1",
   "metadata": {},
   "outputs": [
    {
     "name": "stdout",
     "output_type": "stream",
     "text": [
      "6\n",
      "5\n"
     ]
    }
   ],
   "source": [
    "print(a2)\n",
    "print(b2)"
   ]
  },
  {
   "cell_type": "code",
   "execution_count": 20,
   "id": "7fdba210-3a3f-48ce-87ab-0b39a8cababc",
   "metadata": {},
   "outputs": [
    {
     "data": {
      "text/plain": [
       "(6, 5)"
      ]
     },
     "execution_count": 20,
     "metadata": {},
     "output_type": "execute_result"
    }
   ],
   "source": [
    "(a2,b2)"
   ]
  },
  {
   "cell_type": "code",
   "execution_count": 21,
   "id": "c93dc65e-9c39-4fec-8990-a18097e4bf67",
   "metadata": {},
   "outputs": [],
   "source": [
    "a2,b2= b2,a2"
   ]
  },
  {
   "cell_type": "code",
   "execution_count": 22,
   "id": "0150155a-b594-4569-bcf9-4cd19d5416a2",
   "metadata": {},
   "outputs": [
    {
     "name": "stdout",
     "output_type": "stream",
     "text": [
      "5\n",
      "6\n"
     ]
    }
   ],
   "source": [
    "print(a2)\n",
    "print(b2)"
   ]
  },
  {
   "cell_type": "code",
   "execution_count": null,
   "id": "2b30a75a-6ad3-41ce-8786-bac7a0f0179d",
   "metadata": {},
   "outputs": [],
   "source": []
  },
  {
   "cell_type": "code",
   "execution_count": 23,
   "id": "fff2baeb-0227-46ae-a5f6-390a794b7458",
   "metadata": {},
   "outputs": [
    {
     "ename": "NameError",
     "evalue": "name 'l' is not defined",
     "output_type": "error",
     "traceback": [
      "\u001b[1;31m---------------------------------------------------------------------------\u001b[0m",
      "\u001b[1;31mNameError\u001b[0m                                 Traceback (most recent call last)",
      "Cell \u001b[1;32mIn[23], line 1\u001b[0m\n\u001b[1;32m----> 1\u001b[0m l\n",
      "\u001b[1;31mNameError\u001b[0m: name 'l' is not defined"
     ]
    }
   ],
   "source": [
    "l"
   ]
  },
  {
   "cell_type": "code",
   "execution_count": 29,
   "id": "e310037a-5ff1-4bb0-b60d-b38ad3abfdb4",
   "metadata": {},
   "outputs": [
    {
     "data": {
      "text/plain": [
       "[40, 30, 20, 10]"
      ]
     },
     "execution_count": 29,
     "metadata": {},
     "output_type": "execute_result"
    }
   ],
   "source": [
    "l = [40,30,20,10]\n",
    "l"
   ]
  },
  {
   "cell_type": "code",
   "execution_count": null,
   "id": "443008f4-3011-4ead-8d1e-453eccbe9651",
   "metadata": {},
   "outputs": [],
   "source": [
    "l.append(70)"
   ]
  },
  {
   "cell_type": "code",
   "execution_count": null,
   "id": "82191fa0-a018-4cc2-b684-113fbd75aa6a",
   "metadata": {},
   "outputs": [],
   "source": [
    "l"
   ]
  },
  {
   "cell_type": "code",
   "execution_count": 31,
   "id": "776c131e-2a16-4e88-8cc1-94586894e5a9",
   "metadata": {},
   "outputs": [
    {
     "data": {
      "text/plain": [
       "[40, 2.7, True, '8 + 3j']"
      ]
     },
     "execution_count": 31,
     "metadata": {},
     "output_type": "execute_result"
    }
   ],
   "source": [
    "l1 = [40,2.7,True,'8 + 3j']\n",
    "l1"
   ]
  },
  {
   "cell_type": "code",
   "execution_count": null,
   "id": "c180b1d2-3ae0-4172-8389-7902eb45578c",
   "metadata": {},
   "outputs": [],
   "source": [
    "l1.count(40)"
   ]
  },
  {
   "cell_type": "code",
   "execution_count": null,
   "id": "191a3a6f-1003-4ff8-8bda-0f9ffd9aacee",
   "metadata": {},
   "outputs": [],
   "source": [
    "l1[:]"
   ]
  },
  {
   "cell_type": "code",
   "execution_count": null,
   "id": "92a57ee1-1768-4096-a636-57f20e8b57dd",
   "metadata": {},
   "outputs": [],
   "source": [
    "l1[:3]"
   ]
  },
  {
   "cell_type": "code",
   "execution_count": null,
   "id": "ea812b17-2d5b-4777-9624-bae74e87ff2f",
   "metadata": {},
   "outputs": [],
   "source": [
    "l1.append(20)"
   ]
  },
  {
   "cell_type": "code",
   "execution_count": null,
   "id": "8771b09f-5652-49c1-97c5-365dcafa0761",
   "metadata": {},
   "outputs": [],
   "source": [
    "l1"
   ]
  },
  {
   "cell_type": "code",
   "execution_count": null,
   "id": "ab9850c8-ffd4-426c-851d-6436a0c86ce7",
   "metadata": {},
   "outputs": [],
   "source": [
    "l"
   ]
  },
  {
   "cell_type": "code",
   "execution_count": null,
   "id": "70ed5910-7828-49fa-813b-da06a4a5b538",
   "metadata": {},
   "outputs": [],
   "source": [
    "l[:-1]"
   ]
  },
  {
   "cell_type": "code",
   "execution_count": null,
   "id": "5fd8dd31-7596-4619-bc52-9c7b7586f235",
   "metadata": {},
   "outputs": [],
   "source": [
    "l"
   ]
  },
  {
   "cell_type": "code",
   "execution_count": 27,
   "id": "dbf8afce-1c8e-4ea7-bcd4-85e59182ffe7",
   "metadata": {},
   "outputs": [
    {
     "ename": "NameError",
     "evalue": "name 'l' is not defined",
     "output_type": "error",
     "traceback": [
      "\u001b[1;31m---------------------------------------------------------------------------\u001b[0m",
      "\u001b[1;31mNameError\u001b[0m                                 Traceback (most recent call last)",
      "Cell \u001b[1;32mIn[27], line 1\u001b[0m\n\u001b[1;32m----> 1\u001b[0m l\n",
      "\u001b[1;31mNameError\u001b[0m: name 'l' is not defined"
     ]
    }
   ],
   "source": [
    "l"
   ]
  },
  {
   "cell_type": "code",
   "execution_count": 33,
   "id": "9c0ce8c9-cf99-4e96-adfc-b4a036116279",
   "metadata": {},
   "outputs": [],
   "source": [
    " l2 = [70, 4.78, True, '1+3j',[1,2,3]]"
   ]
  },
  {
   "cell_type": "code",
   "execution_count": 35,
   "id": "62e2da51-131d-44cd-8806-f703551bc096",
   "metadata": {},
   "outputs": [
    {
     "data": {
      "text/plain": [
       "1"
      ]
     },
     "execution_count": 35,
     "metadata": {},
     "output_type": "execute_result"
    }
   ],
   "source": [
    "l2.count(True)"
   ]
  },
  {
   "cell_type": "code",
   "execution_count": 37,
   "id": "8a9e335c-f3bc-4e8b-b192-2e69c1e868e7",
   "metadata": {},
   "outputs": [],
   "source": [
    "l2.append(70)"
   ]
  },
  {
   "cell_type": "code",
   "execution_count": 39,
   "id": "b7ac63aa-276f-48c4-b8b6-e1dbd83a7649",
   "metadata": {},
   "outputs": [
    {
     "data": {
      "text/plain": [
       "[70, 4.78, True, '1+3j', [1, 2, 3], 70]"
      ]
     },
     "execution_count": 39,
     "metadata": {},
     "output_type": "execute_result"
    }
   ],
   "source": [
    "l2"
   ]
  },
  {
   "cell_type": "code",
   "execution_count": 41,
   "id": "e9e07962-6f9d-4a2d-8406-0eaab204ea66",
   "metadata": {},
   "outputs": [
    {
     "data": {
      "text/plain": [
       "[70, 4.78, True, '1+3j', [1, 2, 3], 70]"
      ]
     },
     "execution_count": 41,
     "metadata": {},
     "output_type": "execute_result"
    }
   ],
   "source": [
    "l2[:]"
   ]
  },
  {
   "cell_type": "code",
   "execution_count": 43,
   "id": "c6f963f9-c0e2-444c-9683-0c93616c02ea",
   "metadata": {},
   "outputs": [
    {
     "data": {
      "text/plain": [
       "[70, 4.78, True, '1+3j', [1, 2, 3]]"
      ]
     },
     "execution_count": 43,
     "metadata": {},
     "output_type": "execute_result"
    }
   ],
   "source": [
    "l2[:5]"
   ]
  },
  {
   "cell_type": "code",
   "execution_count": 45,
   "id": "da716174-3829-4e90-a0c5-fe5af80cbc3e",
   "metadata": {},
   "outputs": [
    {
     "data": {
      "text/plain": [
       "[70]"
      ]
     },
     "execution_count": 45,
     "metadata": {},
     "output_type": "execute_result"
    }
   ],
   "source": [
    "l2[5:] "
   ]
  },
  {
   "cell_type": "code",
   "execution_count": 47,
   "id": "67c1ff59-b0b8-4e57-93f5-dd7f46f935cc",
   "metadata": {},
   "outputs": [
    {
     "data": {
      "text/plain": [
       "[40, 30, 20, 10]"
      ]
     },
     "execution_count": 47,
     "metadata": {},
     "output_type": "execute_result"
    }
   ],
   "source": [
    "l"
   ]
  },
  {
   "cell_type": "code",
   "execution_count": 49,
   "id": "50c24753-e124-469a-81b5-69dcc22397f0",
   "metadata": {},
   "outputs": [
    {
     "data": {
      "text/plain": [
       "[40, 30, 20]"
      ]
     },
     "execution_count": 49,
     "metadata": {},
     "output_type": "execute_result"
    }
   ],
   "source": [
    "l[:-1]"
   ]
  },
  {
   "cell_type": "code",
   "execution_count": 51,
   "id": "45805b08-8c9b-4a4b-a3ac-fa08c1eea884",
   "metadata": {},
   "outputs": [],
   "source": [
    "l = [40,30,20,10,40,30,20,10]"
   ]
  },
  {
   "cell_type": "code",
   "execution_count": 53,
   "id": "3ca64fce-c6a1-4977-aa66-4c8a4e01a498",
   "metadata": {},
   "outputs": [
    {
     "data": {
      "text/plain": [
       "[10, 20, 30, 40, 10, 20, 30, 40]"
      ]
     },
     "execution_count": 53,
     "metadata": {},
     "output_type": "execute_result"
    }
   ],
   "source": [
    "l[::-1]"
   ]
  },
  {
   "cell_type": "code",
   "execution_count": 55,
   "id": "f58bb331-9f24-4587-a582-956501c04f15",
   "metadata": {},
   "outputs": [
    {
     "data": {
      "text/plain": [
       "[10, 30, 10, 30]"
      ]
     },
     "execution_count": 55,
     "metadata": {},
     "output_type": "execute_result"
    }
   ],
   "source": [
    "l[::-2]"
   ]
  },
  {
   "cell_type": "code",
   "execution_count": 57,
   "id": "825590e0-2a76-4410-9c18-b3dd06aab949",
   "metadata": {},
   "outputs": [
    {
     "data": {
      "text/plain": [
       "[40, 30, 20, 10, 40, 30, 20, 10]"
      ]
     },
     "execution_count": 57,
     "metadata": {},
     "output_type": "execute_result"
    }
   ],
   "source": [
    "l"
   ]
  },
  {
   "cell_type": "code",
   "execution_count": 60,
   "id": "8403fed0-bcb0-4fe6-8c14-78526e12924c",
   "metadata": {},
   "outputs": [
    {
     "data": {
      "text/plain": [
       "[40, 20, 40, 20]"
      ]
     },
     "execution_count": 60,
     "metadata": {},
     "output_type": "execute_result"
    }
   ],
   "source": [
    "l[::2]"
   ]
  },
  {
   "cell_type": "code",
   "execution_count": 64,
   "id": "af1d97fa-5597-4a25-b4b0-7f93a3507ac9",
   "metadata": {},
   "outputs": [
    {
     "data": {
      "text/plain": [
       "2"
      ]
     },
     "execution_count": 64,
     "metadata": {},
     "output_type": "execute_result"
    }
   ],
   "source": [
    "l.index(20)"
   ]
  },
  {
   "cell_type": "code",
   "execution_count": 66,
   "id": "5c698a60-6b23-4e04-a19f-9b7263289f08",
   "metadata": {},
   "outputs": [
    {
     "data": {
      "text/plain": [
       "[70, 4.78, True, '1+3j', [1, 2, 3], 70]"
      ]
     },
     "execution_count": 66,
     "metadata": {},
     "output_type": "execute_result"
    }
   ],
   "source": [
    "l2"
   ]
  },
  {
   "cell_type": "code",
   "execution_count": null,
   "id": "364347f9-df37-4c23-a6fc-ec52e736d2e7",
   "metadata": {},
   "outputs": [],
   "source": [
    "len(l2)"
   ]
  },
  {
   "cell_type": "code",
   "execution_count": 70,
   "id": "a1ff824b-06dd-442d-a580-1b0bd4e399b5",
   "metadata": {},
   "outputs": [
    {
     "data": {
      "text/plain": [
       "2710752256448"
      ]
     },
     "execution_count": 70,
     "metadata": {},
     "output_type": "execute_result"
    }
   ],
   "source": [
    "id(l2)"
   ]
  },
  {
   "cell_type": "code",
   "execution_count": 72,
   "id": "461abc5b-6c94-4fd1-8099-0c3cef98ae07",
   "metadata": {},
   "outputs": [],
   "source": [
    "l2.clear()"
   ]
  },
  {
   "cell_type": "code",
   "execution_count": 74,
   "id": "03d328ea-9054-4f75-bb27-7beea9874fbd",
   "metadata": {},
   "outputs": [
    {
     "data": {
      "text/plain": [
       "[]"
      ]
     },
     "execution_count": 74,
     "metadata": {},
     "output_type": "execute_result"
    }
   ],
   "source": [
    "l2"
   ]
  },
  {
   "cell_type": "code",
   "execution_count": 76,
   "id": "f92ba5d3-c425-48c6-8adf-87cb5c575d9d",
   "metadata": {},
   "outputs": [
    {
     "data": {
      "text/plain": [
       "2710752256448"
      ]
     },
     "execution_count": 76,
     "metadata": {},
     "output_type": "execute_result"
    }
   ],
   "source": [
    "id(l2)"
   ]
  },
  {
   "cell_type": "code",
   "execution_count": 78,
   "id": "c5595a13-93f1-42fd-a713-f4a07e6f7bb2",
   "metadata": {},
   "outputs": [],
   "source": [
    "del l2"
   ]
  },
  {
   "cell_type": "code",
   "execution_count": 82,
   "id": "7692919d-6987-4421-9b6b-e241a9cc3f1a",
   "metadata": {},
   "outputs": [
    {
     "data": {
      "text/plain": [
       "[40, 2.7, True, '8 + 3j']"
      ]
     },
     "execution_count": 82,
     "metadata": {},
     "output_type": "execute_result"
    }
   ],
   "source": [
    "l1"
   ]
  },
  {
   "cell_type": "code",
   "execution_count": 84,
   "id": "5cbd1c5b-913b-4b47-b1ed-a9d954b107d0",
   "metadata": {},
   "outputs": [
    {
     "data": {
      "text/plain": [
       "'8 + 3j'"
      ]
     },
     "execution_count": 84,
     "metadata": {},
     "output_type": "execute_result"
    }
   ],
   "source": [
    "l1.pop()"
   ]
  },
  {
   "cell_type": "code",
   "execution_count": 86,
   "id": "42dc10a1-a6bc-4516-bb7f-668666bd2062",
   "metadata": {},
   "outputs": [
    {
     "data": {
      "text/plain": [
       "[40, 2.7, True]"
      ]
     },
     "execution_count": 86,
     "metadata": {},
     "output_type": "execute_result"
    }
   ],
   "source": [
    "l1"
   ]
  },
  {
   "cell_type": "code",
   "execution_count": 88,
   "id": "4e79314e-f6c0-4c1e-ad13-3cdb0bfc9f4a",
   "metadata": {},
   "outputs": [
    {
     "data": {
      "text/plain": [
       "[40, 30, 20, 10, 40, 30, 20, 10]"
      ]
     },
     "execution_count": 88,
     "metadata": {},
     "output_type": "execute_result"
    }
   ],
   "source": [
    "l2 = l.copy()\n",
    "l2"
   ]
  },
  {
   "cell_type": "code",
   "execution_count": 90,
   "id": "b7e50a6f-b97f-48fe-a179-038ed4406eb6",
   "metadata": {},
   "outputs": [],
   "source": [
    "l2.remove(20)"
   ]
  },
  {
   "cell_type": "code",
   "execution_count": 92,
   "id": "d8cd4a18-e3d6-4611-a5ea-b73cbcce701d",
   "metadata": {},
   "outputs": [
    {
     "data": {
      "text/plain": [
       "[40, 30, 10, 40, 30, 20, 10]"
      ]
     },
     "execution_count": 92,
     "metadata": {},
     "output_type": "execute_result"
    }
   ],
   "source": [
    "l2"
   ]
  },
  {
   "cell_type": "code",
   "execution_count": 94,
   "id": "0e3fe6e5-b135-49bc-bc7a-342760cf4ffe",
   "metadata": {},
   "outputs": [
    {
     "data": {
      "text/plain": [
       "10"
      ]
     },
     "execution_count": 94,
     "metadata": {},
     "output_type": "execute_result"
    }
   ],
   "source": [
    "l2.pop(-1)"
   ]
  },
  {
   "cell_type": "code",
   "execution_count": 96,
   "id": "b8333f84-0c68-4773-85cd-2a393a235671",
   "metadata": {},
   "outputs": [
    {
     "data": {
      "text/plain": [
       "[40, 30, 10, 40, 30, 20]"
      ]
     },
     "execution_count": 96,
     "metadata": {},
     "output_type": "execute_result"
    }
   ],
   "source": [
    "l2"
   ]
  },
  {
   "cell_type": "code",
   "execution_count": 98,
   "id": "338a7205-ec14-4d74-87db-f55b5fcf8443",
   "metadata": {},
   "outputs": [
    {
     "ename": "ValueError",
     "evalue": "list.remove(x): x not in list",
     "output_type": "error",
     "traceback": [
      "\u001b[1;31m---------------------------------------------------------------------------\u001b[0m",
      "\u001b[1;31mValueError\u001b[0m                                Traceback (most recent call last)",
      "Cell \u001b[1;32mIn[98], line 1\u001b[0m\n\u001b[1;32m----> 1\u001b[0m l2\u001b[38;5;241m.\u001b[39mremove(\u001b[38;5;241m1\u001b[39m)\n",
      "\u001b[1;31mValueError\u001b[0m: list.remove(x): x not in list"
     ]
    }
   ],
   "source": [
    "l2.remove(1)"
   ]
  },
  {
   "cell_type": "code",
   "execution_count": 100,
   "id": "58e45157-2add-468d-bf5b-7d443ac9019a",
   "metadata": {},
   "outputs": [],
   "source": [
    "l2.remove(40)"
   ]
  },
  {
   "cell_type": "code",
   "execution_count": 102,
   "id": "3388f652-8f47-4562-9bfb-ad5838d578e5",
   "metadata": {},
   "outputs": [
    {
     "data": {
      "text/plain": [
       "[30, 10, 40, 30, 20]"
      ]
     },
     "execution_count": 102,
     "metadata": {},
     "output_type": "execute_result"
    }
   ],
   "source": [
    "l2"
   ]
  },
  {
   "cell_type": "code",
   "execution_count": 104,
   "id": "e9f4e0c4-58ff-4330-8ee6-586368f68392",
   "metadata": {},
   "outputs": [
    {
     "data": {
      "text/plain": [
       "[30, 10, 40, 30, 20]"
      ]
     },
     "execution_count": 104,
     "metadata": {},
     "output_type": "execute_result"
    }
   ],
   "source": [
    "l2"
   ]
  },
  {
   "cell_type": "code",
   "execution_count": 106,
   "id": "98773142-2441-4598-a4fb-145805a22692",
   "metadata": {},
   "outputs": [
    {
     "data": {
      "text/plain": [
       "[30, 10, 25, 40, 30, 20]"
      ]
     },
     "execution_count": 106,
     "metadata": {},
     "output_type": "execute_result"
    }
   ],
   "source": [
    "l2.insert(2,25)\n",
    "l2"
   ]
  },
  {
   "cell_type": "code",
   "execution_count": 108,
   "id": "390836f0-2b0d-410b-8cb3-c96a135139bc",
   "metadata": {},
   "outputs": [
    {
     "data": {
      "text/plain": [
       "[40, 30, 20, 10, 40, 30, 20, 10]"
      ]
     },
     "execution_count": 108,
     "metadata": {},
     "output_type": "execute_result"
    }
   ],
   "source": [
    "l"
   ]
  },
  {
   "cell_type": "code",
   "execution_count": 110,
   "id": "37466a42-6b4d-4452-a9a6-eb4aab5ffef5",
   "metadata": {},
   "outputs": [
    {
     "data": {
      "text/plain": [
       "[3400, 30, 20, 10, 40, 30, 20, 10]"
      ]
     },
     "execution_count": 110,
     "metadata": {},
     "output_type": "execute_result"
    }
   ],
   "source": [
    "l[0] = 3400\n",
    "l"
   ]
  },
  {
   "cell_type": "code",
   "execution_count": 112,
   "id": "ca4323b1-e153-453b-889b-04f56ee96474",
   "metadata": {},
   "outputs": [
    {
     "data": {
      "text/plain": [
       "[3400, 30, 20, 10, 40, 30, 20, 10]"
      ]
     },
     "execution_count": 112,
     "metadata": {},
     "output_type": "execute_result"
    }
   ],
   "source": [
    "l"
   ]
  },
  {
   "cell_type": "code",
   "execution_count": 114,
   "id": "7b185bd4-eeaa-43d0-8558-4fc69e7ae2f3",
   "metadata": {},
   "outputs": [
    {
     "data": {
      "text/plain": [
       "[40, 2.7, True]"
      ]
     },
     "execution_count": 114,
     "metadata": {},
     "output_type": "execute_result"
    }
   ],
   "source": [
    "l1"
   ]
  },
  {
   "cell_type": "code",
   "execution_count": 116,
   "id": "fd770d03-f2db-47a8-92c5-e9a53325d068",
   "metadata": {},
   "outputs": [
    {
     "data": {
      "text/plain": [
       "[30, 10, 25, 40, 30, 20]"
      ]
     },
     "execution_count": 116,
     "metadata": {},
     "output_type": "execute_result"
    }
   ],
   "source": [
    "l2"
   ]
  },
  {
   "cell_type": "code",
   "execution_count": 120,
   "id": "363ab6b8-5ecf-4d10-83dc-4f6884b9df85",
   "metadata": {},
   "outputs": [
    {
     "name": "stdout",
     "output_type": "stream",
     "text": [
      "3\n",
      "6\n"
     ]
    }
   ],
   "source": [
    "print(len(l1))\n",
    "print(len(l2))"
   ]
  },
  {
   "cell_type": "code",
   "execution_count": 122,
   "id": "45eba072-96c6-4b90-9475-4b422e1f034f",
   "metadata": {},
   "outputs": [],
   "source": [
    "l1.extend(l2)"
   ]
  },
  {
   "cell_type": "code",
   "execution_count": 124,
   "id": "709dd293-2290-46b8-a627-10a5a4238882",
   "metadata": {},
   "outputs": [
    {
     "data": {
      "text/plain": [
       "[40, 2.7, True, 30, 10, 25, 40, 30, 20]"
      ]
     },
     "execution_count": 124,
     "metadata": {},
     "output_type": "execute_result"
    }
   ],
   "source": [
    "l1"
   ]
  },
  {
   "cell_type": "code",
   "execution_count": 126,
   "id": "9cb26bdf-c619-4037-a4d8-5f8d2bd6a933",
   "metadata": {},
   "outputs": [
    {
     "data": {
      "text/plain": [
       "9"
      ]
     },
     "execution_count": 126,
     "metadata": {},
     "output_type": "execute_result"
    }
   ],
   "source": [
    "len(l1)"
   ]
  },
  {
   "cell_type": "code",
   "execution_count": 128,
   "id": "607de8b1-1569-4234-bee4-d5d6b642d1bd",
   "metadata": {},
   "outputs": [
    {
     "name": "stdout",
     "output_type": "stream",
     "text": [
      "40\n",
      "2.7\n",
      "True\n",
      "30\n",
      "10\n",
      "25\n",
      "40\n",
      "30\n",
      "20\n"
     ]
    }
   ],
   "source": [
    "for i in l1:\n",
    "    print(i)"
   ]
  },
  {
   "cell_type": "code",
   "execution_count": null,
   "id": "229dd05a-6a79-4ab1-af5d-ed3ec6e3484b",
   "metadata": {},
   "outputs": [],
   "source": []
  }
 ],
 "metadata": {
  "kernelspec": {
   "display_name": "Python [conda env:base] *",
   "language": "python",
   "name": "conda-base-py"
  },
  "language_info": {
   "codemirror_mode": {
    "name": "ipython",
    "version": 3
   },
   "file_extension": ".py",
   "mimetype": "text/x-python",
   "name": "python",
   "nbconvert_exporter": "python",
   "pygments_lexer": "ipython3",
   "version": "3.12.7"
  }
 },
 "nbformat": 4,
 "nbformat_minor": 5
}
