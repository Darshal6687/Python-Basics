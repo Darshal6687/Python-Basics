{
 "cells": [
  {
   "cell_type": "markdown",
   "id": "36a655bf-65ee-4673-936e-9e18d7fd6814",
   "metadata": {},
   "source": [
    "# Function"
   ]
  },
  {
   "cell_type": "code",
   "execution_count": 2,
   "id": "e7fb6c86-c33b-402b-9871-f31ef5f42274",
   "metadata": {},
   "outputs": [],
   "source": [
    "def nit():\n",
    "    print('Hello World!')"
   ]
  },
  {
   "cell_type": "code",
   "execution_count": 4,
   "id": "0500d83a-9c4f-4610-b6c5-da5e8e83bec0",
   "metadata": {},
   "outputs": [
    {
     "name": "stdout",
     "output_type": "stream",
     "text": [
      "Hello World!\n"
     ]
    }
   ],
   "source": [
    "nit()"
   ]
  },
  {
   "cell_type": "code",
   "execution_count": 6,
   "id": "287f7e31-bd34-4b16-8b6a-2f5389194d95",
   "metadata": {},
   "outputs": [
    {
     "name": "stdout",
     "output_type": "stream",
     "text": [
      "7pm team very very very very very smart\n",
      "7pm team never upload the task in linkedin & google classroom\n",
      "7pm team you need to showcase talent to the world by create linkedin portfolio\n"
     ]
    }
   ],
   "source": [
    "def nit():\n",
    "    \n",
    "    print('7pm team very very very very very smart' )\n",
    "    print(\"7pm team never upload the task in linkedin & google classroom\")\n",
    "    print(\"7pm team you need to showcase talent to the world by create linkedin portfolio\")\n",
    "    \n",
    "    \n",
    "nit()"
   ]
  },
  {
   "cell_type": "code",
   "execution_count": 8,
   "id": "d6dd8681-6c40-4334-9686-9cf808d0a79b",
   "metadata": {},
   "outputs": [
    {
     "name": "stdout",
     "output_type": "stream",
     "text": [
      "7pm team very very very very very smart\n",
      "7pm team never upload the task in linkedin & google classroom\n",
      "7pm team you need to showcase talent to the world by create linkedin portfolio\n",
      "7pm team very very very very very smart\n",
      "7pm team never upload the task in linkedin & google classroom\n",
      "7pm team you need to showcase talent to the world by create linkedin portfolio\n",
      "7pm team very very very very very smart\n",
      "7pm team never upload the task in linkedin & google classroom\n",
      "7pm team you need to showcase talent to the world by create linkedin portfolio\n"
     ]
    }
   ],
   "source": [
    "def nit():\n",
    "    \n",
    "    print('7pm team very very very very very smart' )\n",
    "    print(\"7pm team never upload the task in linkedin & google classroom\")\n",
    "    print(\"7pm team you need to showcase talent to the world by create linkedin portfolio\")\n",
    "    \n",
    "    \n",
    "nit()\n",
    "nit()\n",
    "nit()"
   ]
  },
  {
   "cell_type": "code",
   "execution_count": 10,
   "id": "1a7ea06f-cca0-4f6f-9914-a2334e0229b2",
   "metadata": {},
   "outputs": [
    {
     "name": "stdout",
     "output_type": "stream",
     "text": [
      "7pm team very very very very very smart\n",
      "7pm team never upload the task in linkedin & google classroom\n",
      "7pm team you need to showcase talent to the world by create linkedin portfolio\n",
      "7pm batch team need to apply jobs as soon as possible\n",
      "if you are very hard work i will share all previous watch ans apply\n"
     ]
    }
   ],
   "source": [
    "def nit():\n",
    "    print('7pm team very very very very very smart' )\n",
    "    print(\"7pm team never upload the task in linkedin & google classroom\")\n",
    "    print(\"7pm team you need to showcase talent to the world by create linkedin portfolio\")\n",
    "nit()\n",
    "\n",
    "\n",
    "def placment():\n",
    "    print('7pm batch team need to apply jobs as soon as possible')\n",
    "    print('if you are very hard work i will share all previous watch ans apply')\n",
    "placment()"
   ]
  },
  {
   "cell_type": "code",
   "execution_count": 12,
   "id": "08577e00-a796-4bf2-a1e4-926e6ca3a77a",
   "metadata": {},
   "outputs": [
    {
     "name": "stdout",
     "output_type": "stream",
     "text": [
      "11\n"
     ]
    }
   ],
   "source": [
    "def add(x,y):\n",
    "    c=x+y\n",
    "    print(c)\n",
    "\n",
    "add(5,6)\n"
   ]
  },
  {
   "cell_type": "code",
   "execution_count": 14,
   "id": "53cf3537-2478-4f32-ad17-a318981e44f5",
   "metadata": {},
   "outputs": [
    {
     "name": "stdout",
     "output_type": "stream",
     "text": [
      "9\n"
     ]
    }
   ],
   "source": [
    "def add(x,y):\n",
    "    c=x+y\n",
    "    return c\n",
    "\n",
    "result = add(5,4)\n",
    "print(result) "
   ]
  },
  {
   "cell_type": "code",
   "execution_count": 16,
   "id": "eb86ac1b-b5a5-4d48-8273-792bd903b32f",
   "metadata": {},
   "outputs": [
    {
     "name": "stdout",
     "output_type": "stream",
     "text": [
      "hello\n",
      "good noon\n",
      "9\n"
     ]
    }
   ],
   "source": [
    "def greet():\n",
    "    print('hello')\n",
    "    print('good noon')\n",
    "greet()\n",
    "\n",
    "def add(x,y):\n",
    "    c=x+y\n",
    "    return c\n",
    "\n",
    "result = add(5,4)\n",
    "print(result) "
   ]
  },
  {
   "cell_type": "code",
   "execution_count": 18,
   "id": "1ce9e54b-fec7-47b7-8d63-68e1cdae2063",
   "metadata": {},
   "outputs": [
    {
     "data": {
      "text/plain": [
       "(9, -1)"
      ]
     },
     "execution_count": 18,
     "metadata": {},
     "output_type": "execute_result"
    }
   ],
   "source": [
    "def add_sub(x,y):\n",
    "    c=x+y\n",
    "    d=x-y\n",
    "    return c,d\n",
    "\n",
    "add_sub(4,5)\n"
   ]
  },
  {
   "cell_type": "code",
   "execution_count": 22,
   "id": "533dd93d-52c1-441b-8fd0-68dfdd149041",
   "metadata": {},
   "outputs": [
    {
     "name": "stdout",
     "output_type": "stream",
     "text": [
      "(9, -1)\n",
      "<class 'tuple'>\n"
     ]
    }
   ],
   "source": [
    "def add_sub(x,y):\n",
    "    c=x+y\n",
    "    d=x-y\n",
    "    return c,d\n",
    "\n",
    "result = add_sub(4,5)\n",
    "print(result)\n",
    "print(type(result))"
   ]
  },
  {
   "cell_type": "code",
   "execution_count": 30,
   "id": "de4db5ce-a1eb-422c-8e2c-255d8ea6c427",
   "metadata": {},
   "outputs": [
    {
     "name": "stdout",
     "output_type": "stream",
     "text": [
      "9 1\n",
      "<class 'int'>\n"
     ]
    }
   ],
   "source": [
    "def add_sub(x,y):\n",
    "    c=x+y\n",
    "    d=x-y\n",
    "    return c,d\n",
    "\n",
    "result1,result2 = add_sub(5,4)\n",
    "\n",
    "print(result1,result2)\n",
    "print(type(result1))"
   ]
  },
  {
   "cell_type": "code",
   "execution_count": null,
   "id": "2e8d3dfb-a211-476d-847d-855a2ab0630f",
   "metadata": {},
   "outputs": [],
   "source": []
  }
 ],
 "metadata": {
  "kernelspec": {
   "display_name": "Python [conda env:base] *",
   "language": "python",
   "name": "conda-base-py"
  },
  "language_info": {
   "codemirror_mode": {
    "name": "ipython",
    "version": 3
   },
   "file_extension": ".py",
   "mimetype": "text/x-python",
   "name": "python",
   "nbconvert_exporter": "python",
   "pygments_lexer": "ipython3",
   "version": "3.12.7"
  }
 },
 "nbformat": 4,
 "nbformat_minor": 5
}
