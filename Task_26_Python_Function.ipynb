{
 "cells": [
  {
   "cell_type": "markdown",
   "id": "36a655bf-65ee-4673-936e-9e18d7fd6814",
   "metadata": {},
   "source": [
    "# Function"
   ]
  },
  {
   "cell_type": "code",
   "execution_count": 2,
   "id": "e7fb6c86-c33b-402b-9871-f31ef5f42274",
   "metadata": {},
   "outputs": [],
   "source": [
    "def nit():\n",
    "    print('Hello World!')"
   ]
  },
  {
   "cell_type": "code",
   "execution_count": 4,
   "id": "0500d83a-9c4f-4610-b6c5-da5e8e83bec0",
   "metadata": {},
   "outputs": [
    {
     "name": "stdout",
     "output_type": "stream",
     "text": [
      "Hello World!\n"
     ]
    }
   ],
   "source": [
    "nit()"
   ]
  },
  {
   "cell_type": "code",
   "execution_count": 6,
   "id": "287f7e31-bd34-4b16-8b6a-2f5389194d95",
   "metadata": {},
   "outputs": [
    {
     "name": "stdout",
     "output_type": "stream",
     "text": [
      "7pm team very very very very very smart\n",
      "7pm team never upload the task in linkedin & google classroom\n",
      "7pm team you need to showcase talent to the world by create linkedin portfolio\n"
     ]
    }
   ],
   "source": [
    "def nit():\n",
    "    \n",
    "    print('7pm team very very very very very smart' )\n",
    "    print(\"7pm team never upload the task in linkedin & google classroom\")\n",
    "    print(\"7pm team you need to showcase talent to the world by create linkedin portfolio\")\n",
    "    \n",
    "    \n",
    "nit()"
   ]
  },
  {
   "cell_type": "code",
   "execution_count": 8,
   "id": "d6dd8681-6c40-4334-9686-9cf808d0a79b",
   "metadata": {},
   "outputs": [
    {
     "name": "stdout",
     "output_type": "stream",
     "text": [
      "7pm team very very very very very smart\n",
      "7pm team never upload the task in linkedin & google classroom\n",
      "7pm team you need to showcase talent to the world by create linkedin portfolio\n",
      "7pm team very very very very very smart\n",
      "7pm team never upload the task in linkedin & google classroom\n",
      "7pm team you need to showcase talent to the world by create linkedin portfolio\n",
      "7pm team very very very very very smart\n",
      "7pm team never upload the task in linkedin & google classroom\n",
      "7pm team you need to showcase talent to the world by create linkedin portfolio\n"
     ]
    }
   ],
   "source": [
    "def nit():\n",
    "    \n",
    "    print('7pm team very very very very very smart' )\n",
    "    print(\"7pm team never upload the task in linkedin & google classroom\")\n",
    "    print(\"7pm team you need to showcase talent to the world by create linkedin portfolio\")\n",
    "    \n",
    "    \n",
    "nit()\n",
    "nit()\n",
    "nit()"
   ]
  },
  {
   "cell_type": "code",
   "execution_count": 10,
   "id": "1a7ea06f-cca0-4f6f-9914-a2334e0229b2",
   "metadata": {},
   "outputs": [
    {
     "name": "stdout",
     "output_type": "stream",
     "text": [
      "7pm team very very very very very smart\n",
      "7pm team never upload the task in linkedin & google classroom\n",
      "7pm team you need to showcase talent to the world by create linkedin portfolio\n",
      "7pm batch team need to apply jobs as soon as possible\n",
      "if you are very hard work i will share all previous watch ans apply\n"
     ]
    }
   ],
   "source": [
    "def nit():\n",
    "    print('7pm team very very very very very smart' )\n",
    "    print(\"7pm team never upload the task in linkedin & google classroom\")\n",
    "    print(\"7pm team you need to showcase talent to the world by create linkedin portfolio\")\n",
    "nit()\n",
    "\n",
    "\n",
    "def placment():\n",
    "    print('7pm batch team need to apply jobs as soon as possible')\n",
    "    print('if you are very hard work i will share all previous watch ans apply')\n",
    "placment()"
   ]
  },
  {
   "cell_type": "code",
   "execution_count": 12,
   "id": "08577e00-a796-4bf2-a1e4-926e6ca3a77a",
   "metadata": {},
   "outputs": [
    {
     "name": "stdout",
     "output_type": "stream",
     "text": [
      "11\n"
     ]
    }
   ],
   "source": [
    "def add(x,y):\n",
    "    c=x+y\n",
    "    print(c)\n",
    "\n",
    "add(5,6)\n"
   ]
  },
  {
   "cell_type": "code",
   "execution_count": 14,
   "id": "53cf3537-2478-4f32-ad17-a318981e44f5",
   "metadata": {},
   "outputs": [
    {
     "name": "stdout",
     "output_type": "stream",
     "text": [
      "9\n"
     ]
    }
   ],
   "source": [
    "def add(x,y):\n",
    "    c=x+y\n",
    "    return c\n",
    "\n",
    "result = add(5,4)\n",
    "print(result) "
   ]
  },
  {
   "cell_type": "code",
   "execution_count": 16,
   "id": "eb86ac1b-b5a5-4d48-8273-792bd903b32f",
   "metadata": {},
   "outputs": [
    {
     "name": "stdout",
     "output_type": "stream",
     "text": [
      "hello\n",
      "good noon\n",
      "9\n"
     ]
    }
   ],
   "source": [
    "def greet():\n",
    "    print('hello')\n",
    "    print('good noon')\n",
    "greet()\n",
    "\n",
    "def add(x,y):\n",
    "    c=x+y\n",
    "    return c\n",
    "\n",
    "result = add(5,4)\n",
    "print(result) "
   ]
  },
  {
   "cell_type": "code",
   "execution_count": 18,
   "id": "1ce9e54b-fec7-47b7-8d63-68e1cdae2063",
   "metadata": {},
   "outputs": [
    {
     "data": {
      "text/plain": [
       "(9, -1)"
      ]
     },
     "execution_count": 18,
     "metadata": {},
     "output_type": "execute_result"
    }
   ],
   "source": [
    "def add_sub(x,y):\n",
    "    c=x+y\n",
    "    d=x-y\n",
    "    return c,d\n",
    "\n",
    "add_sub(4,5)\n"
   ]
  },
  {
   "cell_type": "code",
   "execution_count": 22,
   "id": "533dd93d-52c1-441b-8fd0-68dfdd149041",
   "metadata": {},
   "outputs": [
    {
     "name": "stdout",
     "output_type": "stream",
     "text": [
      "(9, -1)\n",
      "<class 'tuple'>\n"
     ]
    }
   ],
   "source": [
    "def add_sub(x,y):\n",
    "    c=x+y\n",
    "    d=x-y\n",
    "    return c,d\n",
    "\n",
    "result = add_sub(4,5)\n",
    "print(result)\n",
    "print(type(result))"
   ]
  },
  {
   "cell_type": "code",
   "execution_count": 30,
   "id": "de4db5ce-a1eb-422c-8e2c-255d8ea6c427",
   "metadata": {},
   "outputs": [
    {
     "name": "stdout",
     "output_type": "stream",
     "text": [
      "9 1\n",
      "<class 'int'>\n"
     ]
    }
   ],
   "source": [
    "def add_sub(x,y):\n",
    "    c=x+y\n",
    "    d=x-y\n",
    "    return c,d\n",
    "\n",
    "result1,result2 = add_sub(5,4)\n",
    "\n",
    "print(result1,result2)\n",
    "print(type(result1))"
   ]
  },
  {
   "cell_type": "markdown",
   "id": "d156976f-2d0a-4400-875b-8debc4643283",
   "metadata": {},
   "source": [
    "# Functional Argument"
   ]
  },
  {
   "cell_type": "markdown",
   "id": "771026d4-41dc-4567-a526-f6fa4536ce11",
   "metadata": {},
   "source": [
    "### Formal Argument\n",
    "### Actual Argument"
   ]
  },
  {
   "cell_type": "code",
   "execution_count": 5,
   "id": "7450df82-00f4-4359-86b3-fdc39a0ed118",
   "metadata": {},
   "outputs": [
    {
     "name": "stdout",
     "output_type": "stream",
     "text": [
      "11\n"
     ]
    }
   ],
   "source": [
    "def add(a,b): # a&b called formal argument\n",
    "    c = a+b\n",
    "    print(c)\n",
    "\n",
    "add(5,6) # 5&6 are actual argument"
   ]
  },
  {
   "cell_type": "markdown",
   "id": "6762724c-3247-4219-ade7-8356a44f30bf",
   "metadata": {},
   "source": [
    "## Actual argument are of 4 types\n",
    "#### 1.Positioanl Argument\n",
    "#### 2.Keyword Argument\n",
    "#### 3.Default Argument\n",
    "#### 4.variable length Argument\n"
   ]
  },
  {
   "cell_type": "code",
   "execution_count": 12,
   "id": "db24dfe9-85aa-4cc9-8fa3-10b02bf1c560",
   "metadata": {},
   "outputs": [
    {
     "name": "stdout",
     "output_type": "stream",
     "text": [
      "Hello\n",
      "22\n"
     ]
    }
   ],
   "source": [
    "def person(name,age):\n",
    "    print(name)\n",
    "    print(age)\n",
    "\n",
    "person('Hello',22)"
   ]
  },
  {
   "cell_type": "code",
   "execution_count": 14,
   "id": "2811acdd-3ad4-49f9-8c86-c845f7f7302f",
   "metadata": {},
   "outputs": [
    {
     "ename": "TypeError",
     "evalue": "person() takes 2 positional arguments but 3 were given",
     "output_type": "error",
     "traceback": [
      "\u001b[1;31m---------------------------------------------------------------------------\u001b[0m",
      "\u001b[1;31mTypeError\u001b[0m                                 Traceback (most recent call last)",
      "Cell \u001b[1;32mIn[14], line 5\u001b[0m\n\u001b[0;32m      2\u001b[0m     \u001b[38;5;28mprint\u001b[39m(name)\n\u001b[0;32m      3\u001b[0m     \u001b[38;5;28mprint\u001b[39m(age)\n\u001b[1;32m----> 5\u001b[0m person(\u001b[38;5;124m'\u001b[39m\u001b[38;5;124mHello\u001b[39m\u001b[38;5;124m'\u001b[39m,\u001b[38;5;241m12\u001b[39m,\u001b[38;5;241m12\u001b[39m)\n",
      "\u001b[1;31mTypeError\u001b[0m: person() takes 2 positional arguments but 3 were given"
     ]
    }
   ],
   "source": [
    "def person(name,age):\n",
    "    print(name)\n",
    "    print(age)\n",
    "\n",
    "person('Hello',12,12)"
   ]
  },
  {
   "cell_type": "code",
   "execution_count": 16,
   "id": "7930de6e-f1fb-4dce-9010-ccc7ed25869d",
   "metadata": {},
   "outputs": [
    {
     "name": "stdout",
     "output_type": "stream",
     "text": [
      "22\n",
      "Hello\n"
     ]
    }
   ],
   "source": [
    "def person(name,age):\n",
    "    print(name)\n",
    "    print(age)\n",
    "\n",
    "person(22,'Hello')"
   ]
  },
  {
   "cell_type": "code",
   "execution_count": 18,
   "id": "a0a73afc-048c-48a7-a354-349d7bff4242",
   "metadata": {},
   "outputs": [
    {
     "name": "stdout",
     "output_type": "stream",
     "text": [
      "22\n"
     ]
    },
    {
     "ename": "TypeError",
     "evalue": "unsupported operand type(s) for -: 'str' and 'int'",
     "output_type": "error",
     "traceback": [
      "\u001b[1;31m---------------------------------------------------------------------------\u001b[0m",
      "\u001b[1;31mTypeError\u001b[0m                                 Traceback (most recent call last)",
      "Cell \u001b[1;32mIn[18], line 4\u001b[0m\n\u001b[0;32m      2\u001b[0m     \u001b[38;5;28mprint\u001b[39m(name)\n\u001b[0;32m      3\u001b[0m     \u001b[38;5;28mprint\u001b[39m(age\u001b[38;5;241m-\u001b[39m\u001b[38;5;241m5\u001b[39m)\n\u001b[1;32m----> 4\u001b[0m person(\u001b[38;5;241m22\u001b[39m,\u001b[38;5;124m'\u001b[39m\u001b[38;5;124mHello\u001b[39m\u001b[38;5;124m'\u001b[39m)\n",
      "Cell \u001b[1;32mIn[18], line 3\u001b[0m, in \u001b[0;36mperson\u001b[1;34m(name, age)\u001b[0m\n\u001b[0;32m      1\u001b[0m \u001b[38;5;28;01mdef\u001b[39;00m \u001b[38;5;21mperson\u001b[39m(name,age):\n\u001b[0;32m      2\u001b[0m     \u001b[38;5;28mprint\u001b[39m(name)\n\u001b[1;32m----> 3\u001b[0m     \u001b[38;5;28mprint\u001b[39m(age\u001b[38;5;241m-\u001b[39m\u001b[38;5;241m5\u001b[39m)\n",
      "\u001b[1;31mTypeError\u001b[0m: unsupported operand type(s) for -: 'str' and 'int'"
     ]
    }
   ],
   "source": [
    "def person(name,age):\n",
    "    print(name)\n",
    "    print(age-5)\n",
    "person(22,'Hello')"
   ]
  },
  {
   "cell_type": "markdown",
   "id": "0aeacad6-f42c-45b3-a01c-3adb0510d35f",
   "metadata": {},
   "source": [
    "# Keyword Argument"
   ]
  },
  {
   "cell_type": "code",
   "execution_count": 21,
   "id": "57c0417a-1b7a-4641-94e3-f3c08196ef67",
   "metadata": {},
   "outputs": [
    {
     "name": "stdout",
     "output_type": "stream",
     "text": [
      "Hello\n",
      "17\n",
      "Hyd\n"
     ]
    }
   ],
   "source": [
    "def person(name,age,city):\n",
    "    print(name)\n",
    "    print(age-5)\n",
    "    print(city)\n",
    "\n",
    "person(age = 22,name =\"Hello\",city=\"Hyd\")"
   ]
  },
  {
   "cell_type": "markdown",
   "id": "4c3bbec0-f851-413d-9da7-ab4192fe9db8",
   "metadata": {},
   "source": [
    "# Default Argument"
   ]
  },
  {
   "cell_type": "code",
   "execution_count": 24,
   "id": "dae54b24-df1c-4aed-b97b-6bff36cab7ea",
   "metadata": {},
   "outputs": [
    {
     "ename": "TypeError",
     "evalue": "person() missing 1 required positional argument: 'age'",
     "output_type": "error",
     "traceback": [
      "\u001b[1;31m---------------------------------------------------------------------------\u001b[0m",
      "\u001b[1;31mTypeError\u001b[0m                                 Traceback (most recent call last)",
      "Cell \u001b[1;32mIn[24], line 5\u001b[0m\n\u001b[0;32m      2\u001b[0m     \u001b[38;5;28mprint\u001b[39m(name)\n\u001b[0;32m      3\u001b[0m     \u001b[38;5;28mprint\u001b[39m(age)\n\u001b[1;32m----> 5\u001b[0m person(\u001b[38;5;124m'\u001b[39m\u001b[38;5;124mnit\u001b[39m\u001b[38;5;124m'\u001b[39m)\n",
      "\u001b[1;31mTypeError\u001b[0m: person() missing 1 required positional argument: 'age'"
     ]
    }
   ],
   "source": [
    "def person(name,age):\n",
    "    print(name)\n",
    "    print(age)\n",
    "\n",
    "person('nit')"
   ]
  },
  {
   "cell_type": "code",
   "execution_count": 28,
   "id": "b726082a-dc98-4227-b108-6aabed0fb2e5",
   "metadata": {},
   "outputs": [
    {
     "name": "stdout",
     "output_type": "stream",
     "text": [
      "nit\n",
      "30\n"
     ]
    }
   ],
   "source": [
    "def person(name,age =22):\n",
    "    print(name)\n",
    "    print(age)\n",
    "\n",
    "person('nit',30)"
   ]
  },
  {
   "cell_type": "code",
   "execution_count": 30,
   "id": "00cb559b-cb2a-40e8-b795-ab71f0a6ad54",
   "metadata": {},
   "outputs": [
    {
     "name": "stdout",
     "output_type": "stream",
     "text": [
      "nit\n",
      "40\n"
     ]
    }
   ],
   "source": [
    "def person(name,age=18):\n",
    "    print(name)\n",
    "    print(age)\n",
    "    \n",
    "person('nit',40)"
   ]
  },
  {
   "cell_type": "markdown",
   "id": "37e142bc-37af-4bdb-82bf-9d7acef566ef",
   "metadata": {},
   "source": [
    "# Variable Length"
   ]
  },
  {
   "cell_type": "code",
   "execution_count": 39,
   "id": "2beab936-0938-4402-98d4-0e4b363aba06",
   "metadata": {},
   "outputs": [
    {
     "name": "stdout",
     "output_type": "stream",
     "text": [
      "15\n"
     ]
    }
   ],
   "source": [
    "def sum(a,b=10):\n",
    "    c=a+b\n",
    "    print(c)\n",
    "sum(5)"
   ]
  },
  {
   "cell_type": "code",
   "execution_count": 41,
   "id": "84de421e-2dcd-4217-a102-e98233426263",
   "metadata": {},
   "outputs": [
    {
     "ename": "TypeError",
     "evalue": "sum() takes 2 positional arguments but 4 were given",
     "output_type": "error",
     "traceback": [
      "\u001b[1;31m---------------------------------------------------------------------------\u001b[0m",
      "\u001b[1;31mTypeError\u001b[0m                                 Traceback (most recent call last)",
      "Cell \u001b[1;32mIn[41], line 5\u001b[0m\n\u001b[0;32m      2\u001b[0m     c\u001b[38;5;241m=\u001b[39ma\u001b[38;5;241m+\u001b[39mb\n\u001b[0;32m      3\u001b[0m     \u001b[38;5;28mprint\u001b[39m(c)\n\u001b[1;32m----> 5\u001b[0m \u001b[38;5;28msum\u001b[39m(\u001b[38;5;241m5\u001b[39m,\u001b[38;5;241m6\u001b[39m,\u001b[38;5;241m7\u001b[39m,\u001b[38;5;241m8\u001b[39m)\n",
      "\u001b[1;31mTypeError\u001b[0m: sum() takes 2 positional arguments but 4 were given"
     ]
    }
   ],
   "source": [
    "def sum(a,b):\n",
    "    c=a+b\n",
    "    print(c)\n",
    "\n",
    "sum(5,6,7,8)"
   ]
  },
  {
   "cell_type": "code",
   "execution_count": 45,
   "id": "dbefefef-51f5-4eaa-86a8-707900b0c37a",
   "metadata": {},
   "outputs": [
    {
     "name": "stdout",
     "output_type": "stream",
     "text": [
      "<class 'int'>\n",
      "<class 'tuple'>\n"
     ]
    }
   ],
   "source": [
    "def sum(a,*b):\n",
    "    #c=a+b\n",
    "    print(type(a))\n",
    "    print(type(b))\n",
    "\n",
    "sum(5,6,7,8)"
   ]
  },
  {
   "cell_type": "code",
   "execution_count": 51,
   "id": "c90851b2-ff9a-4af8-9dc8-62ecd3e7664f",
   "metadata": {},
   "outputs": [
    {
     "name": "stdout",
     "output_type": "stream",
     "text": [
      "26\n"
     ]
    }
   ],
   "source": [
    "def sum(a,*b):\n",
    "    c=a\n",
    "    for i in b:\n",
    "        c=c+i\n",
    "    print(c)\n",
    "sum(5,6,7,8)\n",
    "    "
   ]
  },
  {
   "cell_type": "markdown",
   "id": "a9b5211f-9720-4641-8472-e214826638a6",
   "metadata": {},
   "source": [
    "# Kwargs(Keyword Arg + Variable length)"
   ]
  },
  {
   "cell_type": "code",
   "execution_count": 54,
   "id": "88d6fa39-060b-4ab9-9038-bbcc8aa30976",
   "metadata": {},
   "outputs": [
    {
     "name": "stdout",
     "output_type": "stream",
     "text": [
      "ALEX\n",
      "(36, 'JOHN', 35234)\n"
     ]
    }
   ],
   "source": [
    "def person(name,*data):\n",
    "    print(name)\n",
    "    print(data)\n",
    "person('ALEX',36,'JOHN',35234)"
   ]
  },
  {
   "cell_type": "code",
   "execution_count": 58,
   "id": "50a99ce3-aaa5-4ce9-b9d8-2cfb4bd6ec3c",
   "metadata": {},
   "outputs": [
    {
     "name": "stdout",
     "output_type": "stream",
     "text": [
      "ALEX\n",
      "{'age': 36, 'home_place': 'southcity', 'mob': 987767}\n"
     ]
    }
   ],
   "source": [
    "def person(name,**data):\n",
    "    print(name)\n",
    "    print(data)\n",
    "person('ALEX', age = 36, home_place ='southcity', mob =987767)"
   ]
  },
  {
   "cell_type": "code",
   "execution_count": 60,
   "id": "daa484dd-d630-48c3-a999-f90d7ffe67b1",
   "metadata": {},
   "outputs": [
    {
     "name": "stdout",
     "output_type": "stream",
     "text": [
      "name\n",
      "{'age': 36, 'home_place': 'southcity', 'mob': 987767}\n"
     ]
    }
   ],
   "source": [
    "def person(name, **data):\n",
    "    print('name')\n",
    "    print(data)\n",
    "\n",
    "person('ALEX', age = 36, home_place ='southcity', mob =987767)"
   ]
  },
  {
   "cell_type": "code",
   "execution_count": 62,
   "id": "3092e1d1-efb4-4a2d-bde5-6cc377e82db0",
   "metadata": {},
   "outputs": [
    {
     "name": "stdout",
     "output_type": "stream",
     "text": [
      "name\n",
      "{'age': 36, 'home_place': 'southcity', 'mob': 987767, 'salary': 100000, 'comp': 'genpact'}\n"
     ]
    }
   ],
   "source": [
    "def person(name, **data):\n",
    "    print('name')\n",
    "    print(data)\n",
    "\n",
    "person('ALEX', age = 36, home_place ='southcity', mob =987767, salary = 100000, comp = 'genpact')"
   ]
  },
  {
   "cell_type": "code",
   "execution_count": null,
   "id": "46664aba-c82d-4d57-aacc-9eef428ae03b",
   "metadata": {},
   "outputs": [],
   "source": []
  }
 ],
 "metadata": {
  "kernelspec": {
   "display_name": "Python [conda env:base] *",
   "language": "python",
   "name": "conda-base-py"
  },
  "language_info": {
   "codemirror_mode": {
    "name": "ipython",
    "version": 3
   },
   "file_extension": ".py",
   "mimetype": "text/x-python",
   "name": "python",
   "nbconvert_exporter": "python",
   "pygments_lexer": "ipython3",
   "version": "3.12.7"
  }
 },
 "nbformat": 4,
 "nbformat_minor": 5
}
