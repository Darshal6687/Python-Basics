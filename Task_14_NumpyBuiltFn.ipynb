{
 "cells": [
  {
   "cell_type": "markdown",
   "id": "74655320-f469-46a3-83a9-d963d28fbd4b",
   "metadata": {},
   "source": [
    "# 1. Array Creation Function"
   ]
  },
  {
   "cell_type": "code",
   "execution_count": 2,
   "id": "70a72228-6386-40a8-b122-35eab50c15d9",
   "metadata": {},
   "outputs": [],
   "source": [
    "import numpy as np"
   ]
  },
  {
   "cell_type": "code",
   "execution_count": 3,
   "id": "89791398-6b37-4e1a-b7a5-6da4fd15d7dd",
   "metadata": {},
   "outputs": [
    {
     "data": {
      "text/plain": [
       "[1, 2, 3]"
      ]
     },
     "execution_count": 3,
     "metadata": {},
     "output_type": "execute_result"
    }
   ],
   "source": [
    " a = [1,2,3]\n",
    "a"
   ]
  },
  {
   "cell_type": "code",
   "execution_count": 4,
   "id": "31ab1f17-2e37-41cd-906a-34ed3f43e00e",
   "metadata": {},
   "outputs": [
    {
     "data": {
      "text/plain": [
       "list"
      ]
     },
     "execution_count": 4,
     "metadata": {},
     "output_type": "execute_result"
    }
   ],
   "source": [
    "type(a)"
   ]
  },
  {
   "cell_type": "code",
   "execution_count": 5,
   "id": "03683c76-105a-491f-97ae-1911384da3ad",
   "metadata": {},
   "outputs": [],
   "source": [
    "a = np.array(a)"
   ]
  },
  {
   "cell_type": "code",
   "execution_count": 6,
   "id": "9c2e7f5d-0f1d-4b77-9480-204021d72357",
   "metadata": {},
   "outputs": [
    {
     "data": {
      "text/plain": [
       "array([1, 2, 3])"
      ]
     },
     "execution_count": 6,
     "metadata": {},
     "output_type": "execute_result"
    }
   ],
   "source": [
    "a"
   ]
  },
  {
   "cell_type": "code",
   "execution_count": 7,
   "id": "da87014d-7d3f-4be5-bfba-c88772c36ff3",
   "metadata": {},
   "outputs": [
    {
     "data": {
      "text/plain": [
       "numpy.ndarray"
      ]
     },
     "execution_count": 7,
     "metadata": {},
     "output_type": "execute_result"
    }
   ],
   "source": [
    "type(a)"
   ]
  },
  {
   "cell_type": "code",
   "execution_count": 8,
   "id": "3010ec0d-cab7-4eb1-ad69-eddad55557fe",
   "metadata": {},
   "outputs": [],
   "source": [
    "b = np.arange(0,10,2)"
   ]
  },
  {
   "cell_type": "code",
   "execution_count": 9,
   "id": "faa9e159-f27f-4afd-a70a-c22d7b8bcf00",
   "metadata": {},
   "outputs": [
    {
     "data": {
      "text/plain": [
       "array([0, 2, 4, 6, 8])"
      ]
     },
     "execution_count": 9,
     "metadata": {},
     "output_type": "execute_result"
    }
   ],
   "source": [
    "b"
   ]
  },
  {
   "cell_type": "code",
   "execution_count": 10,
   "id": "4293c186-d5c8-4d37-a889-7d6d0ff3fc3e",
   "metadata": {},
   "outputs": [
    {
     "data": {
      "text/plain": [
       "array([0. , 0.2, 0.4, 0.6, 0.8, 1. ])"
      ]
     },
     "execution_count": 10,
     "metadata": {},
     "output_type": "execute_result"
    }
   ],
   "source": [
    "c = np.linspace(0,1,6)\n",
    "c"
   ]
  },
  {
   "cell_type": "code",
   "execution_count": 11,
   "id": "157a76a2-1e4a-4ae9-ad2c-4694b0772813",
   "metadata": {},
   "outputs": [
    {
     "data": {
      "text/plain": [
       "array([[0., 0., 0.],\n",
       "       [0., 0., 0.]])"
      ]
     },
     "execution_count": 11,
     "metadata": {},
     "output_type": "execute_result"
    }
   ],
   "source": [
    "d = np.zeros((2,3))\n",
    "d"
   ]
  },
  {
   "cell_type": "code",
   "execution_count": 12,
   "id": "ad808dad-d0eb-4309-af46-ee255878aadf",
   "metadata": {},
   "outputs": [
    {
     "data": {
      "text/plain": [
       "array([[1., 1.],\n",
       "       [1., 1.],\n",
       "       [1., 1.]])"
      ]
     },
     "execution_count": 12,
     "metadata": {},
     "output_type": "execute_result"
    }
   ],
   "source": [
    "e = np.ones((3,2))\n",
    "e"
   ]
  },
  {
   "cell_type": "code",
   "execution_count": 13,
   "id": "b7b3d1a8-14a1-4075-9e77-141f17c7ad8d",
   "metadata": {},
   "outputs": [
    {
     "data": {
      "text/plain": [
       "array([[1., 0., 0., 0.],\n",
       "       [0., 1., 0., 0.],\n",
       "       [0., 0., 1., 0.],\n",
       "       [0., 0., 0., 1.]])"
      ]
     },
     "execution_count": 13,
     "metadata": {},
     "output_type": "execute_result"
    }
   ],
   "source": [
    "f = np.eye(4) # identity mtrix\n",
    "f"
   ]
  },
  {
   "cell_type": "markdown",
   "id": "0dd7ec90-d420-45f2-8a6f-0c4336095174",
   "metadata": {},
   "source": [
    "# 2.Array manipulation Functions"
   ]
  },
  {
   "cell_type": "code",
   "execution_count": 15,
   "id": "bc10f555-f987-4d17-9e74-0c43725dc19e",
   "metadata": {},
   "outputs": [
    {
     "data": {
      "text/plain": [
       "array([[1, 2, 3]])"
      ]
     },
     "execution_count": 15,
     "metadata": {},
     "output_type": "execute_result"
    }
   ],
   "source": [
    "a1 = np.array([1,2,3])\n",
    "reshaped = np.reshape(a1,(1,3))\n",
    "reshaped"
   ]
  },
  {
   "cell_type": "code",
   "execution_count": 16,
   "id": "91b5da78-6665-4876-b642-3eefc1cdf5df",
   "metadata": {},
   "outputs": [
    {
     "data": {
      "text/plain": [
       "array([1, 2, 3, 4])"
      ]
     },
     "execution_count": 16,
     "metadata": {},
     "output_type": "execute_result"
    }
   ],
   "source": [
    "# Flatten an array\n",
    "f1 = np.array([[1,2],[3,4]])\n",
    "flattened = np.ravel(f1)\n",
    "flattened \n"
   ]
  },
  {
   "cell_type": "code",
   "execution_count": 17,
   "id": "39c56c27-bff1-4596-9ebb-06d640db2d4e",
   "metadata": {},
   "outputs": [
    {
     "data": {
      "text/plain": [
       "array([[1, 3],\n",
       "       [2, 4]])"
      ]
     },
     "execution_count": 17,
     "metadata": {},
     "output_type": "execute_result"
    }
   ],
   "source": [
    "e1 = np.array([[1,2],[3,4]])\n",
    "transposed = np.transpose(e1)\n",
    "transposed \n"
   ]
  },
  {
   "cell_type": "code",
   "execution_count": 18,
   "id": "026b1166-e25a-42bc-9bd4-32ac0598c18d",
   "metadata": {},
   "outputs": [
    {
     "data": {
      "text/plain": [
       "array([[1, 2],\n",
       "       [3, 4]])"
      ]
     },
     "execution_count": 18,
     "metadata": {},
     "output_type": "execute_result"
    }
   ],
   "source": [
    "# Stack arrays vertically \n",
    "a2 = np.array([1,2])\n",
    "b2 = np.array([3,4])\n",
    "stacked = np.vstack([a2,b2])\n",
    "stacked"
   ]
  },
  {
   "cell_type": "markdown",
   "id": "b8b05ee5-3ca5-4615-a06a-3339e0803228",
   "metadata": {},
   "source": [
    "# 3.Mathematical functions \n"
   ]
  },
  {
   "cell_type": "code",
   "execution_count": 20,
   "id": "f1905837-65f2-4a55-ac78-f1d4ab1cd691",
   "metadata": {},
   "outputs": [],
   "source": [
    "# Add two arrays"
   ]
  },
  {
   "cell_type": "code",
   "execution_count": 21,
   "id": "74abbfaa-894f-4fbf-ac48-31903b27f96d",
   "metadata": {},
   "outputs": [
    {
     "data": {
      "text/plain": [
       "array([3, 4, 5, 6])"
      ]
     },
     "execution_count": 21,
     "metadata": {},
     "output_type": "execute_result"
    }
   ],
   "source": [
    "g= np.array([1,2,3,4])\n",
    "added = np.add(g,2)\n",
    "added"
   ]
  },
  {
   "cell_type": "code",
   "execution_count": 22,
   "id": "af4919e9-ebdd-487c-bd93-f189f375b1cb",
   "metadata": {},
   "outputs": [
    {
     "data": {
      "text/plain": [
       "array([ 1,  4,  9, 16], dtype=int32)"
      ]
     },
     "execution_count": 22,
     "metadata": {},
     "output_type": "execute_result"
    }
   ],
   "source": [
    "squared = np.power(g,2)\n",
    "squared"
   ]
  },
  {
   "cell_type": "code",
   "execution_count": 23,
   "id": "3a0fbb66-98a3-434f-a69f-18796e55a395",
   "metadata": {},
   "outputs": [
    {
     "data": {
      "text/plain": [
       "array([1.        , 1.41421356, 1.73205081, 2.        ])"
      ]
     },
     "execution_count": 23,
     "metadata": {},
     "output_type": "execute_result"
    }
   ],
   "source": [
    "sqrt_value = np.sqrt(g)\n",
    "sqrt_value"
   ]
  },
  {
   "cell_type": "code",
   "execution_count": 24,
   "id": "b88c53cf-03ab-4fe5-8cfc-a305276632cf",
   "metadata": {},
   "outputs": [
    {
     "name": "stdout",
     "output_type": "stream",
     "text": [
      "[1 2 3]\n",
      "[1 2 3 4]\n"
     ]
    }
   ],
   "source": [
    "print(a1)\n",
    "print(g)"
   ]
  },
  {
   "cell_type": "code",
   "execution_count": 25,
   "id": "c6a98ae9-197d-4497-9770-494a8cf4d910",
   "metadata": {},
   "outputs": [
    {
     "ename": "ValueError",
     "evalue": "shapes (3,) and (4,) not aligned: 3 (dim 0) != 4 (dim 0)",
     "output_type": "error",
     "traceback": [
      "\u001b[1;31m---------------------------------------------------------------------------\u001b[0m",
      "\u001b[1;31mValueError\u001b[0m                                Traceback (most recent call last)",
      "Cell \u001b[1;32mIn[25], line 4\u001b[0m\n\u001b[0;32m      1\u001b[0m \u001b[38;5;66;03m# Dot product of two arrays\u001b[39;00m\n\u001b[0;32m      3\u001b[0m a2 \u001b[38;5;241m=\u001b[39m np\u001b[38;5;241m.\u001b[39marray([\u001b[38;5;241m1\u001b[39m,\u001b[38;5;241m2\u001b[39m,\u001b[38;5;241m3\u001b[39m])\n\u001b[1;32m----> 4\u001b[0m dot_Product \u001b[38;5;241m=\u001b[39m np\u001b[38;5;241m.\u001b[39mdot(a2,g)\n\u001b[0;32m      5\u001b[0m dot_Product\n",
      "\u001b[1;31mValueError\u001b[0m: shapes (3,) and (4,) not aligned: 3 (dim 0) != 4 (dim 0)"
     ]
    }
   ],
   "source": [
    "# Dot product of two arrays\n",
    "\n",
    "a2 = np.array([1,2,3])\n",
    "dot_Product = np.dot(a2,g)\n",
    "dot_Product"
   ]
  },
  {
   "cell_type": "code",
   "execution_count": null,
   "id": "0ec1a752-29bf-4e17-82ae-dc3c4d7b6d2a",
   "metadata": {},
   "outputs": [],
   "source": [
    "print(a1)\n",
    "print(a2)\n",
    "print(g)"
   ]
  },
  {
   "cell_type": "code",
   "execution_count": null,
   "id": "33469c7f-537c-4d9e-8ecd-92a6558dd6d4",
   "metadata": {},
   "outputs": [],
   "source": [
    "print(a)"
   ]
  },
  {
   "cell_type": "code",
   "execution_count": null,
   "id": "16aa67d8-8079-48e2-9669-a3ffdead3c8c",
   "metadata": {},
   "outputs": [],
   "source": [
    "a3 = np.array([1,2,3])\n",
    "dot_product = np.dot(a1,a)\n",
    "dot_product"
   ]
  },
  {
   "cell_type": "markdown",
   "id": "9ad9482d-c3e7-4eae-85e2-78c478b7ae16",
   "metadata": {},
   "source": [
    "# 4.Statistical Function"
   ]
  },
  {
   "cell_type": "code",
   "execution_count": null,
   "id": "92726d95-0075-4c12-838f-a3c7a32200d7",
   "metadata": {},
   "outputs": [],
   "source": [
    "s= np.array([1,2,3,4])\n",
    "mean = np.mean(s)\n",
    "mean"
   ]
  },
  {
   "cell_type": "code",
   "execution_count": null,
   "id": "eebe4337-9e66-484a-8794-3b2a1f7d5bde",
   "metadata": {},
   "outputs": [],
   "source": [
    "# Standard deviation\n",
    "std_dev = np.std(s)\n",
    "std_dev"
   ]
  },
  {
   "cell_type": "code",
   "execution_count": null,
   "id": "79f1f592-2c94-4dcd-a2ad-5b70605d4234",
   "metadata": {},
   "outputs": [],
   "source": [
    "minimum = np.min(s)\n",
    "minimum"
   ]
  },
  {
   "cell_type": "code",
   "execution_count": null,
   "id": "4ab70c5b-8bd5-45a7-b4df-1d252447bc06",
   "metadata": {},
   "outputs": [],
   "source": [
    "maximum = np.max(s)\n",
    "maximum"
   ]
  },
  {
   "cell_type": "markdown",
   "id": "0e53fb89-da1f-46f6-9dd4-791505cb0412",
   "metadata": {},
   "source": [
    "# 5.Linear Algebra Function"
   ]
  },
  {
   "cell_type": "code",
   "execution_count": 30,
   "id": "6a868e11-81c0-4c6d-be31-224e4a9693b6",
   "metadata": {},
   "outputs": [],
   "source": [
    "# create a matrix\n",
    "matrix = np.array([[1,2],[3,4]])\n"
   ]
  },
  {
   "cell_type": "code",
   "execution_count": 32,
   "id": "52fccc25-add6-4d07-9d0a-8bafe00bd4eb",
   "metadata": {},
   "outputs": [
    {
     "name": "stdout",
     "output_type": "stream",
     "text": [
      "Determinant of matrix: -2.0000000000000004\n"
     ]
    }
   ],
   "source": [
    "#Determinant of a matrix\n",
    "determinant = np.linalg.det(matrix)\n",
    "print(\"Determinant of matrix:\", determinant)"
   ]
  },
  {
   "cell_type": "code",
   "execution_count": 34,
   "id": "e8d94a1e-68ab-490d-94a1-5c3b92e0d644",
   "metadata": {},
   "outputs": [
    {
     "name": "stdout",
     "output_type": "stream",
     "text": [
      "Inverse of matrix:\n",
      "  [[-2.   1. ]\n",
      " [ 1.5 -0.5]]\n"
     ]
    }
   ],
   "source": [
    "#Inverse of a matrix\n",
    "inverse = np.linalg.inv(matrix)\n",
    "print(\"Inverse of matrix:\\n \",inverse)\n"
   ]
  },
  {
   "cell_type": "markdown",
   "id": "9f7be696-63d5-4431-89d0-357c27354e4a",
   "metadata": {},
   "source": [
    "# 6.Random Sampling Functions"
   ]
  },
  {
   "cell_type": "code",
   "execution_count": 40,
   "id": "2a7f2d07-05cc-4fc8-af08-9700aa8efb1d",
   "metadata": {},
   "outputs": [],
   "source": [
    "random_valvs = np.random.rand(3)"
   ]
  },
  {
   "cell_type": "code",
   "execution_count": 42,
   "id": "63ca413a-bebd-46b1-9e04-470e86d10e27",
   "metadata": {},
   "outputs": [
    {
     "data": {
      "text/plain": [
       "array([0.14068561, 0.82589045, 0.45526888])"
      ]
     },
     "execution_count": 42,
     "metadata": {},
     "output_type": "execute_result"
    }
   ],
   "source": [
    "random_valvs"
   ]
  },
  {
   "cell_type": "code",
   "execution_count": 48,
   "id": "45f3a06d-1ff4-4731-b359-99c18217b1ab",
   "metadata": {},
   "outputs": [
    {
     "name": "stdout",
     "output_type": "stream",
     "text": [
      "Random Values: [0.5488135  0.71518937 0.60276338]\n"
     ]
    }
   ],
   "source": [
    "np.random.seed(0)\n",
    "\n",
    "random_valvs = np.random.rand(3)\n",
    "print(\"Random Values:\",random_valvs)"
   ]
  },
  {
   "cell_type": "code",
   "execution_count": 52,
   "id": "48c171ff-1170-432f-83f1-9f662124c1a2",
   "metadata": {},
   "outputs": [
    {
     "data": {
      "text/plain": [
       "array([2, 4, 7, 6, 8])"
      ]
     },
     "execution_count": 52,
     "metadata": {},
     "output_type": "execute_result"
    }
   ],
   "source": [
    "rand_ints = np.random.randint(0,10,size = 5)\n",
    "rand_ints"
   ]
  },
  {
   "cell_type": "code",
   "execution_count": 60,
   "id": "a6a1beb4-97b3-4e9f-a42f-decb1af8c5ce",
   "metadata": {},
   "outputs": [
    {
     "data": {
      "text/plain": [
       "array([5, 0, 3, 3, 7])"
      ]
     },
     "execution_count": 60,
     "metadata": {},
     "output_type": "execute_result"
    }
   ],
   "source": [
    "np.random.seed(0)\n",
    "\n",
    "rand_ints = np.random.randint(0,10,size = 5)\n",
    "rand_ints"
   ]
  },
  {
   "cell_type": "markdown",
   "id": "80b7cf40-3971-4dab-a174-eac935f37a31",
   "metadata": {},
   "source": [
    "# 7. Boolean & Logical Functions"
   ]
  },
  {
   "cell_type": "code",
   "execution_count": 78,
   "id": "53fffdbb-ec4e-4591-aa4d-3cffd53f5a6b",
   "metadata": {},
   "outputs": [
    {
     "data": {
      "text/plain": [
       "False"
      ]
     },
     "execution_count": 78,
     "metadata": {},
     "output_type": "execute_result"
    }
   ],
   "source": [
    "logical_test = np.array([True,False,True])\n",
    "all_true = np.all(logical_test)\n",
    "all_true"
   ]
  },
  {
   "cell_type": "code",
   "execution_count": 82,
   "id": "fd99d20e-6e3a-4db5-a3a7-2a051dbbfb1e",
   "metadata": {},
   "outputs": [
    {
     "data": {
      "text/plain": [
       "True"
      ]
     },
     "execution_count": 82,
     "metadata": {},
     "output_type": "execute_result"
    }
   ],
   "source": [
    "any_true = np.any(logical_test)\n",
    "any_true"
   ]
  },
  {
   "cell_type": "markdown",
   "id": "5e0b7c73-43d9-42cf-a4cd-9acf92ab02ae",
   "metadata": {},
   "source": [
    "# 8.Operations"
   ]
  },
  {
   "cell_type": "code",
   "execution_count": 85,
   "id": "ac4b5a9e-2fe5-4945-a28d-8b0966d1b6d6",
   "metadata": {},
   "outputs": [
    {
     "data": {
      "text/plain": [
       "array([3, 4])"
      ]
     },
     "execution_count": 85,
     "metadata": {},
     "output_type": "execute_result"
    }
   ],
   "source": [
    "set_a =  np.array([1,2,3,4])\n",
    "set_b = np.array([3,4,5,6])\n",
    "intersection = np.intersect1d(set_a,set_b)\n",
    "intersection"
   ]
  },
  {
   "cell_type": "code",
   "execution_count": 87,
   "id": "c1006b08-4d33-4256-ae19-4f01ea01f172",
   "metadata": {},
   "outputs": [
    {
     "data": {
      "text/plain": [
       "array([1, 2, 3, 4, 5, 6])"
      ]
     },
     "execution_count": 87,
     "metadata": {},
     "output_type": "execute_result"
    }
   ],
   "source": [
    "union = np.union1d(set_a,set_b)\n",
    "union"
   ]
  },
  {
   "cell_type": "markdown",
   "id": "a7521368-96d8-4aff-b304-ac8fe8fd43c1",
   "metadata": {},
   "source": [
    "# 9.Array Attribute Functions"
   ]
  },
  {
   "cell_type": "code",
   "execution_count": 110,
   "id": "cb501480-4429-41ba-a029-16dbbb05412e",
   "metadata": {},
   "outputs": [],
   "source": [
    "a = np.array([1,2,3.56])"
   ]
  },
  {
   "cell_type": "code",
   "execution_count": 98,
   "id": "4c0af533-4027-4d13-92d4-c6c82a7c075d",
   "metadata": {},
   "outputs": [],
   "source": [
    "shape = a.shape # shape of the array"
   ]
  },
  {
   "cell_type": "code",
   "execution_count": 100,
   "id": "f36f2fbd-1660-4480-82ec-033063482cf3",
   "metadata": {},
   "outputs": [],
   "source": [
    "size = a.size\n"
   ]
  },
  {
   "cell_type": "code",
   "execution_count": 102,
   "id": "c4a4483d-51b6-4762-a9df-f5a51f0a7e15",
   "metadata": {},
   "outputs": [],
   "source": [
    "dimensions =  a.ndim"
   ]
  },
  {
   "cell_type": "code",
   "execution_count": 114,
   "id": "0ef5928f-6fc0-49e5-92d4-c9a56c576197",
   "metadata": {},
   "outputs": [],
   "source": [
    "dtype = a.dtype"
   ]
  },
  {
   "cell_type": "code",
   "execution_count": 116,
   "id": "e8069f83-b3b5-4709-8861-1f00db0bedca",
   "metadata": {},
   "outputs": [
    {
     "name": "stdout",
     "output_type": "stream",
     "text": [
      "(3,)\n",
      "3\n",
      "1\n",
      "float64\n"
     ]
    }
   ],
   "source": [
    "print(shape)\n",
    "print(size)\n",
    "print(dimensions)\n",
    "print(dtype)"
   ]
  },
  {
   "cell_type": "markdown",
   "id": "136e6452-7419-4804-89bc-4a51e5044526",
   "metadata": {},
   "source": [
    "# 10. Other Functions"
   ]
  },
  {
   "cell_type": "code",
   "execution_count": 121,
   "id": "ae0da2cd-4f15-478e-822b-6b2edb9ea9f9",
   "metadata": {},
   "outputs": [],
   "source": [
    "a = np.array([1,2,3])"
   ]
  },
  {
   "cell_type": "code",
   "execution_count": 125,
   "id": "3462416c-cfcf-4499-98fb-db664b38109a",
   "metadata": {},
   "outputs": [],
   "source": [
    "copied_array = np.copy(a)"
   ]
  },
  {
   "cell_type": "code",
   "execution_count": 127,
   "id": "810793f7-1661-48c6-9729-770a35789b69",
   "metadata": {},
   "outputs": [
    {
     "data": {
      "text/plain": [
       "array([1, 2, 3])"
      ]
     },
     "execution_count": 127,
     "metadata": {},
     "output_type": "execute_result"
    }
   ],
   "source": [
    "copied_array"
   ]
  },
  {
   "cell_type": "code",
   "execution_count": 131,
   "id": "36b347d1-0bee-4ef7-b38f-94f4825a4c1f",
   "metadata": {},
   "outputs": [],
   "source": [
    "array_size_in_bytes = a.nbytes"
   ]
  },
  {
   "cell_type": "code",
   "execution_count": 133,
   "id": "b3fc1a42-caa2-49d9-bab3-33269bceb0c0",
   "metadata": {},
   "outputs": [
    {
     "data": {
      "text/plain": [
       "12"
      ]
     },
     "execution_count": 133,
     "metadata": {},
     "output_type": "execute_result"
    }
   ],
   "source": [
    "array_size_in_bytes"
   ]
  },
  {
   "cell_type": "code",
   "execution_count": 135,
   "id": "17cca530-9415-4d0c-8045-9179d866f729",
   "metadata": {},
   "outputs": [],
   "source": [
    "shared = np.shares_memory(a,copied_array)"
   ]
  },
  {
   "cell_type": "code",
   "execution_count": 137,
   "id": "0f4ef1db-965d-4819-a056-4671bb807a47",
   "metadata": {},
   "outputs": [
    {
     "data": {
      "text/plain": [
       "False"
      ]
     },
     "execution_count": 137,
     "metadata": {},
     "output_type": "execute_result"
    }
   ],
   "source": [
    "shared"
   ]
  }
 ],
 "metadata": {
  "kernelspec": {
   "display_name": "Python [conda env:base] *",
   "language": "python",
   "name": "conda-base-py"
  },
  "language_info": {
   "codemirror_mode": {
    "name": "ipython",
    "version": 3
   },
   "file_extension": ".py",
   "mimetype": "text/x-python",
   "name": "python",
   "nbconvert_exporter": "python",
   "pygments_lexer": "ipython3",
   "version": "3.12.7"
  }
 },
 "nbformat": 4,
 "nbformat_minor": 5
}
