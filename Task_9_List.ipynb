{
 "cells": [
  {
   "cell_type": "markdown",
   "id": "c1ea621c-c9b5-47e4-9cc4-1209a39e5a5b",
   "metadata": {},
   "source": [
    "# List "
   ]
  },
  {
   "cell_type": "code",
   "execution_count": 6,
   "id": "a541883b-e3f0-4ae2-8853-3e407e3a4263",
   "metadata": {},
   "outputs": [
    {
     "name": "stdout",
     "output_type": "stream",
     "text": [
      "<class 'list'>\n"
     ]
    }
   ],
   "source": [
    "list1 = []\n",
    "print(type(list1))"
   ]
  },
  {
   "cell_type": "code",
   "execution_count": 8,
   "id": "e0d7beb3-a103-4fa1-9bd8-4e5d28685ae5",
   "metadata": {},
   "outputs": [],
   "source": [
    "list2 = [10,20,30]\n"
   ]
  },
  {
   "cell_type": "code",
   "execution_count": 10,
   "id": "fec63db0-aeb8-4268-9eea-6c56463db62b",
   "metadata": {},
   "outputs": [],
   "source": [
    "list3 = [10,20.89,[10,30]]"
   ]
  },
  {
   "cell_type": "code",
   "execution_count": 12,
   "id": "106efe15-8446-40d4-ae03-930da00b9899",
   "metadata": {},
   "outputs": [
    {
     "data": {
      "text/plain": [
       "[10, 30]"
      ]
     },
     "execution_count": 12,
     "metadata": {},
     "output_type": "execute_result"
    }
   ],
   "source": [
    "list3[2]"
   ]
  },
  {
   "cell_type": "code",
   "execution_count": 14,
   "id": "58d986bc-8978-4f43-99ac-a236c2fa5403",
   "metadata": {},
   "outputs": [
    {
     "data": {
      "text/plain": [
       "30"
      ]
     },
     "execution_count": 14,
     "metadata": {},
     "output_type": "execute_result"
    }
   ],
   "source": [
    "list3[2][1]"
   ]
  },
  {
   "cell_type": "markdown",
   "id": "2400afd5-b306-4f8c-ba97-890b3c613c95",
   "metadata": {},
   "source": [
    "# Slicing"
   ]
  },
  {
   "cell_type": "code",
   "execution_count": 17,
   "id": "3033f97d-d26a-4294-9bba-decec6f3cde4",
   "metadata": {},
   "outputs": [
    {
     "data": {
      "text/plain": [
       "[10, 20, 30]"
      ]
     },
     "execution_count": 17,
     "metadata": {},
     "output_type": "execute_result"
    }
   ],
   "source": [
    "list2"
   ]
  },
  {
   "cell_type": "code",
   "execution_count": 19,
   "id": "ac137678-accf-4a05-9362-a9a5159744c8",
   "metadata": {},
   "outputs": [
    {
     "data": {
      "text/plain": [
       "[10, 20, 30]"
      ]
     },
     "execution_count": 19,
     "metadata": {},
     "output_type": "execute_result"
    }
   ],
   "source": [
    "list2[:]"
   ]
  },
  {
   "cell_type": "code",
   "execution_count": 21,
   "id": "ff724378-2035-4f3a-8c77-46bf85b73f03",
   "metadata": {},
   "outputs": [
    {
     "data": {
      "text/plain": [
       "30"
      ]
     },
     "execution_count": 21,
     "metadata": {},
     "output_type": "execute_result"
    }
   ],
   "source": [
    "list2[-1]"
   ]
  },
  {
   "cell_type": "code",
   "execution_count": 23,
   "id": "7c0e5ba3-d602-4665-a96f-76c2ffddae81",
   "metadata": {},
   "outputs": [
    {
     "data": {
      "text/plain": [
       "[2, 3, 4, 5, 6, 7, 8, 9, 10, 11, 12, 12]"
      ]
     },
     "execution_count": 23,
     "metadata": {},
     "output_type": "execute_result"
    }
   ],
   "source": [
    "l2 = [2,3,4,5,6,7,8,9,10,11,12,12]\n",
    "l2"
   ]
  },
  {
   "cell_type": "code",
   "execution_count": 25,
   "id": "0b92ed31-4381-4b6b-a8e0-08e42ba81682",
   "metadata": {},
   "outputs": [
    {
     "data": {
      "text/plain": [
       "[2, 3, 4, 5, 6, 7, 8, 9, 10]"
      ]
     },
     "execution_count": 25,
     "metadata": {},
     "output_type": "execute_result"
    }
   ],
   "source": [
    "l2[:-3]"
   ]
  },
  {
   "cell_type": "code",
   "execution_count": 27,
   "id": "d069b726-d0b7-4498-a614-203dec5f110f",
   "metadata": {},
   "outputs": [
    {
     "data": {
      "text/plain": [
       "[12]"
      ]
     },
     "execution_count": 27,
     "metadata": {},
     "output_type": "execute_result"
    }
   ],
   "source": [
    "l2[-2:-1]"
   ]
  },
  {
   "cell_type": "code",
   "execution_count": 29,
   "id": "b6b7fd2f-074e-42a6-a530-b601337317bd",
   "metadata": {},
   "outputs": [
    {
     "data": {
      "text/plain": [
       "[11, 12, 12]"
      ]
     },
     "execution_count": 29,
     "metadata": {},
     "output_type": "execute_result"
    }
   ],
   "source": [
    "l2[-3:]"
   ]
  },
  {
   "cell_type": "markdown",
   "id": "2f677c59-644d-455a-980d-4647910c8ec5",
   "metadata": {},
   "source": [
    "# Join List"
   ]
  },
  {
   "cell_type": "code",
   "execution_count": 32,
   "id": "0e84c1d9-d4cd-4cb0-a6c9-3f9cfc572f4f",
   "metadata": {},
   "outputs": [
    {
     "name": "stdout",
     "output_type": "stream",
     "text": [
      "[10, 11, 12, 13, 14, 15, 16, 17]\n",
      "[2, 3, 4, 5, 6, 7, 8, 9, 10, 11, 12, 12]\n"
     ]
    }
   ],
   "source": [
    "l1 = [10,11,12,13,14,15,16,17]\n",
    "print(l1)\n",
    "print(l2)"
   ]
  },
  {
   "cell_type": "code",
   "execution_count": 34,
   "id": "9f49692c-f4ea-4231-9c2d-8bdb42ac9971",
   "metadata": {},
   "outputs": [],
   "source": [
    "l3 = l1 + l2"
   ]
  },
  {
   "cell_type": "code",
   "execution_count": 36,
   "id": "1a16d460-b4f4-4d34-a29e-6e24e02d3986",
   "metadata": {},
   "outputs": [
    {
     "data": {
      "text/plain": [
       "[10, 11, 12, 13, 14, 15, 16, 17, 2, 3, 4, 5, 6, 7, 8, 9, 10, 11, 12, 12]"
      ]
     },
     "execution_count": 36,
     "metadata": {},
     "output_type": "execute_result"
    }
   ],
   "source": [
    "l3"
   ]
  },
  {
   "cell_type": "code",
   "execution_count": 38,
   "id": "6d0e52a2-41aa-4374-876e-5790d986dc93",
   "metadata": {},
   "outputs": [
    {
     "data": {
      "text/plain": [
       "[10, 11, 12, 13, 14, 15, 16, 17, 2, 3, 4, 5, 6, 7, 8, 9, 10, 11, 12, 12]"
      ]
     },
     "execution_count": 38,
     "metadata": {},
     "output_type": "execute_result"
    }
   ],
   "source": [
    "l1.extend(l2)\n",
    "l1"
   ]
  },
  {
   "cell_type": "markdown",
   "id": "829c4727-e918-4605-90a6-d853893a10a9",
   "metadata": {},
   "source": [
    "# List Membership"
   ]
  },
  {
   "cell_type": "code",
   "execution_count": 41,
   "id": "cfc3c712-154d-494c-ab2c-49e4917ab43d",
   "metadata": {},
   "outputs": [
    {
     "data": {
      "text/plain": [
       "[10, 11, 12, 13, 14, 15, 16, 17, 2, 3, 4, 5, 6, 7, 8, 9, 10, 11, 12, 12]"
      ]
     },
     "execution_count": 41,
     "metadata": {},
     "output_type": "execute_result"
    }
   ],
   "source": [
    "l1"
   ]
  },
  {
   "cell_type": "code",
   "execution_count": 44,
   "id": "ab37f59c-6c2c-4a6f-ba31-6a1be4fa52af",
   "metadata": {},
   "outputs": [
    {
     "data": {
      "text/plain": [
       "False"
      ]
     },
     "execution_count": 44,
     "metadata": {},
     "output_type": "execute_result"
    }
   ],
   "source": [
    "10 in list1"
   ]
  },
  {
   "cell_type": "code",
   "execution_count": 46,
   "id": "3b9e76f9-e12d-471e-950a-b268c189657b",
   "metadata": {},
   "outputs": [
    {
     "data": {
      "text/plain": [
       "True"
      ]
     },
     "execution_count": 46,
     "metadata": {},
     "output_type": "execute_result"
    }
   ],
   "source": [
    "10 in l1"
   ]
  },
  {
   "cell_type": "code",
   "execution_count": 50,
   "id": "9ab9957b-b4d9-4e9d-8303-26556065c14a",
   "metadata": {},
   "outputs": [
    {
     "name": "stdout",
     "output_type": "stream",
     "text": [
      "Present\n"
     ]
    }
   ],
   "source": [
    "if 17 in l1:\n",
    "    print('Present')\n",
    "else :\n",
    "    print('Not Present')"
   ]
  },
  {
   "cell_type": "code",
   "execution_count": 52,
   "id": "aed14590-49bd-4653-a308-b025539e4fe3",
   "metadata": {},
   "outputs": [
    {
     "data": {
      "text/plain": [
       "[10, 11, 12, 13, 14, 15, 16, 17, 2, 3, 4, 5, 6, 7, 8, 9, 10, 11, 12, 12]"
      ]
     },
     "execution_count": 52,
     "metadata": {},
     "output_type": "execute_result"
    }
   ],
   "source": [
    "l1"
   ]
  },
  {
   "cell_type": "code",
   "execution_count": 54,
   "id": "1bc5c434-22ec-4165-8ede-9cc3dd0685ec",
   "metadata": {},
   "outputs": [],
   "source": [
    "l1.reverse()"
   ]
  },
  {
   "cell_type": "code",
   "execution_count": 56,
   "id": "748ab85e-de56-4a7e-87f7-56c58582acec",
   "metadata": {},
   "outputs": [
    {
     "data": {
      "text/plain": [
       "[12, 12, 11, 10, 9, 8, 7, 6, 5, 4, 3, 2, 17, 16, 15, 14, 13, 12, 11, 10]"
      ]
     },
     "execution_count": 56,
     "metadata": {},
     "output_type": "execute_result"
    }
   ],
   "source": [
    "l1"
   ]
  },
  {
   "cell_type": "code",
   "execution_count": 58,
   "id": "0a7201ed-5940-4900-946b-5b30cab5ec27",
   "metadata": {},
   "outputs": [
    {
     "data": {
      "text/plain": [
       "[10, 11, 12, 13, 14, 15, 16, 17, 2, 3, 4, 5, 6, 7, 8, 9, 10, 11, 12, 12]"
      ]
     },
     "execution_count": 58,
     "metadata": {},
     "output_type": "execute_result"
    }
   ],
   "source": [
    "l1 = l1[::-1]\n",
    "l1"
   ]
  },
  {
   "cell_type": "markdown",
   "id": "b9a8f84b-9162-493a-8508-2916ed344397",
   "metadata": {},
   "source": [
    " # All/ANY"
   ]
  },
  {
   "cell_type": "code",
   "execution_count": 61,
   "id": "aa694a8a-c1ea-4349-a661-d1a39af1d7b1",
   "metadata": {},
   "outputs": [
    {
     "data": {
      "text/plain": [
       "[10, 11, 12, 13, 14, 15, 16, 17, 2, 3, 4, 5, 6, 7, 8, 9, 10, 11, 12, 12]"
      ]
     },
     "execution_count": 61,
     "metadata": {},
     "output_type": "execute_result"
    }
   ],
   "source": [
    "l1"
   ]
  },
  {
   "cell_type": "code",
   "execution_count": 63,
   "id": "483b293b-b6df-4ddf-81e4-45d615d6c1e0",
   "metadata": {},
   "outputs": [
    {
     "data": {
      "text/plain": [
       "True"
      ]
     },
     "execution_count": 63,
     "metadata": {},
     "output_type": "execute_result"
    }
   ],
   "source": [
    "all(l1)"
   ]
  },
  {
   "cell_type": "code",
   "execution_count": 65,
   "id": "63a5472e-c67a-46a9-8c71-ea11e4c715f0",
   "metadata": {},
   "outputs": [
    {
     "data": {
      "text/plain": [
       "[10, 11, 12, 13, 14, 15, 16, 17, 2, 3, 4, 5, 6, 7, 8, 9, 10, 11, 12, 12, 0]"
      ]
     },
     "execution_count": 65,
     "metadata": {},
     "output_type": "execute_result"
    }
   ],
   "source": [
    "l1.append(0)\n",
    "l1"
   ]
  },
  {
   "cell_type": "code",
   "execution_count": 67,
   "id": "df799b33-5546-4123-bf4c-4cc0592d4f34",
   "metadata": {},
   "outputs": [
    {
     "data": {
      "text/plain": [
       "False"
      ]
     },
     "execution_count": 67,
     "metadata": {},
     "output_type": "execute_result"
    }
   ],
   "source": [
    "all(l1)"
   ]
  },
  {
   "cell_type": "code",
   "execution_count": 69,
   "id": "3cf90298-ccf1-4a1e-9b75-7448da41a941",
   "metadata": {},
   "outputs": [
    {
     "data": {
      "text/plain": [
       "True"
      ]
     },
     "execution_count": 69,
     "metadata": {},
     "output_type": "execute_result"
    }
   ],
   "source": [
    "any(l1)"
   ]
  },
  {
   "cell_type": "code",
   "execution_count": null,
   "id": "5f89a01b-9d36-4ae0-924a-2397d424c13c",
   "metadata": {},
   "outputs": [],
   "source": []
  }
 ],
 "metadata": {
  "kernelspec": {
   "display_name": "Python [conda env:base] *",
   "language": "python",
   "name": "conda-base-py"
  },
  "language_info": {
   "codemirror_mode": {
    "name": "ipython",
    "version": 3
   },
   "file_extension": ".py",
   "mimetype": "text/x-python",
   "name": "python",
   "nbconvert_exporter": "python",
   "pygments_lexer": "ipython3",
   "version": "3.12.7"
  }
 },
 "nbformat": 4,
 "nbformat_minor": 5
}
